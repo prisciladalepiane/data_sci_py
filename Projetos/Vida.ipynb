{
 "cells": [
  {
   "cell_type": "code",
   "execution_count": null,
   "metadata": {},
   "outputs": [],
   "source": [
    "# Objeto com atributos e metodos com a classe ficticia \"Vida\"\n",
    "# Atributos: nome, idade, peso, altura\n",
    "# Metodos: envelhecer, engordar, emagrecer, crescer\n",
    "\n",
    "class Vida:\n",
    "    def __init__(self, nome, idade, peso, altura):\n",
    "        self.nome = nome\n",
    "        self.idade = idade\n",
    "        self.peso = peso\n",
    "        self.altura = altura\n",
    "\n",
    "    def envelhecer(self, anos):\n",
    "        self.idade += anos\n",
    "        if self.idade < 21:\n",
    "            self.crescer(anos)\n",
    "\n",
    "    def engordar(self, peso):\n",
    "        self.peso += peso\n",
    "\n",
    "    def emagrecer(self, peso):\n",
    "        self.peso -= peso\n",
    "\n",
    "    def crescer(self, anos):\n",
    "        if self.idade < 21:\n",
    "            self.altura += anos * 0.5\n",
    "\n",
    "    def __str__(self):\n",
    "        return f\"Nome: {self.nome}, Idade: {self.idade}, Peso: {self.peso}, Altura: {self.altura}\"\n",
    "\n",
    "\n",
    "if __name__ == \"__main__\":\n",
    "    pessoa = Vida(\"João\", 18, 70, 1.70)\n",
    "    print(pessoa)\n",
    "    pessoa.envelhecer(2)\n",
    "    pessoa.engordar(5)\n",
    "    pessoa.emagrecer(2)\n",
    "    print(pessoa)\n",
    "    pessoa.envelhecer(2)\n",
    "    pessoa.engordar(5)\n",
    "    pessoa.emagrecer(2)\n",
    "    print(pessoa)\n",
    "    pessoa.envelhecer(2)\n",
    "    pessoa.engordar(5)\n",
    "    pessoa.emagrecer(2)\n",
    "    print(pessoa)\n",
    "    pessoa.envelhecer(2)\n",
    "    pessoa.engordar(5)\n",
    "    "
   ]
  }
 ],
 "metadata": {
  "language_info": {
   "name": "python"
  }
 },
 "nbformat": 4,
 "nbformat_minor": 2
}
