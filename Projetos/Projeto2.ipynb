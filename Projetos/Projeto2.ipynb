{
 "cells": [
  {
   "cell_type": "markdown",
   "metadata": {},
   "source": [
    "## Projeto 2\n",
    "\n",
    "Para o Projeto 2 o objetivo é responder 10 perguntas de negócio a partir de um dataset sobre uma rede de varejo que comercializa diversos produtos em diversas cidades dos EUA.\n",
    "\n",
    "Os dados são reais e foram extraídos do link:\n",
    "\n",
    "https://community.tableau.com/s/question/0D54T00000CWeX8SAL/sample-superstore-sales-excelxlsFizemos\n"
   ]
  },
  {
   "cell_type": "markdown",
   "metadata": {},
   "source": [
    "### Pacotes"
   ]
  },
  {
   "cell_type": "code",
   "execution_count": null,
   "metadata": {},
   "outputs": [],
   "source": [
    "import numpy as np\n",
    "import pandas as pd\n",
    "import matplotlib.pyplot as plt\n",
    "import seaborn as sns\n",
    "import datetime as dt"
   ]
  },
  {
   "cell_type": "markdown",
   "metadata": {},
   "source": [
    "### Leitura dos dados"
   ]
  },
  {
   "cell_type": "code",
   "execution_count": null,
   "metadata": {},
   "outputs": [],
   "source": [
    "df_dados = pd.read_csv('C:/Users/prisc/Downloads/dataset.csv')"
   ]
  },
  {
   "cell_type": "markdown",
   "metadata": {},
   "source": [
    "### Analise exploratória dos dados"
   ]
  },
  {
   "cell_type": "code",
   "execution_count": null,
   "metadata": {},
   "outputs": [],
   "source": [
    "# Nome das colunas\n",
    "print(df_dados.columns)"
   ]
  },
  {
   "cell_type": "code",
   "execution_count": null,
   "metadata": {},
   "outputs": [],
   "source": [
    "# Verificar o tipo de dado de cada coluna\n",
    "df_dados.dtypes"
   ]
  },
  {
   "cell_type": "code",
   "execution_count": null,
   "metadata": {},
   "outputs": [],
   "source": [
    "df_dados.head(3)"
   ]
  },
  {
   "cell_type": "code",
   "execution_count": null,
   "metadata": {},
   "outputs": [],
   "source": [
    "print(\"Formato dados:\", df_dados.shape)"
   ]
  },
  {
   "cell_type": "code",
   "execution_count": null,
   "metadata": {},
   "outputs": [],
   "source": [
    "# Convertendo a coluna 'data_objeto' para o tipo de data dd/mm/yyyy\n",
    "df_dados['Data_Pedido'] = pd.to_datetime(df_dados['Data_Pedido'], format='%d/%m/%Y')\n",
    "\n",
    "df_dados.dtypes"
   ]
  },
  {
   "cell_type": "code",
   "execution_count": null,
   "metadata": {},
   "outputs": [],
   "source": [
    "print(df_dados['Data_Pedido'][0])"
   ]
  },
  {
   "cell_type": "code",
   "execution_count": null,
   "metadata": {},
   "outputs": [],
   "source": [
    "# Verificando se há registros duplicados\n",
    "df_dados[df_dados.duplicated()]"
   ]
  },
  {
   "cell_type": "code",
   "execution_count": null,
   "metadata": {},
   "outputs": [],
   "source": [
    "# Verificando de há valores ausentes\n",
    "df_dados.isnull().sum()"
   ]
  },
  {
   "cell_type": "code",
   "execution_count": null,
   "metadata": {},
   "outputs": [],
   "source": [
    "# Amostra da tabela\n",
    "df_dados.sample(3)"
   ]
  },
  {
   "cell_type": "markdown",
   "metadata": {},
   "source": [
    "### Perguntas de negócio:"
   ]
  },
  {
   "cell_type": "markdown",
   "metadata": {},
   "source": [
    "1) Qual Cidade com Maior Valor de Venda de Produtos da Categoria 'Office Supplies'?"
   ]
  },
  {
   "cell_type": "code",
   "execution_count": null,
   "metadata": {},
   "outputs": [],
   "source": [
    "# Ordenando os dados de Office Supplies por maior valor de venda\n",
    "df_dados[df_dados['Categoria'] == 'Office Supplies'] \\\n",
    "        .sort_values(by='Valor_Venda', ascending=False)\\\n",
    "        [['Pais', 'Cidade','Estado', 'Valor_Venda']].head()"
   ]
  },
  {
   "cell_type": "markdown",
   "metadata": {},
   "source": [
    "A Cidade com maior valor de venda para a categoria 'Office Supplies' é a cidade de Michigan com valor de venda de 9892,74."
   ]
  },
  {
   "cell_type": "markdown",
   "metadata": {},
   "source": [
    "2) Qual o Total de Vendas Por Data do Pedido? Demonstre o resultado através de um gráfico."
   ]
  },
  {
   "cell_type": "code",
   "execution_count": null,
   "metadata": {},
   "outputs": [],
   "source": [
    "total_venda_por_data = df_dados.groupby('Data_Pedido')['Valor_Venda'].sum()\n",
    "\n",
    "total_venda_por_data.to_frame().sort_values(by='Valor_Venda')"
   ]
  },
  {
   "cell_type": "code",
   "execution_count": null,
   "metadata": {},
   "outputs": [],
   "source": [
    "plt.figure(figsize=(10, 5))  \n",
    "\n",
    "total_venda_por_data.plot(x = 'Data_Pedido', y = 'Valor_Venda')\n",
    "\n",
    "# Rotacionar eixo\n",
    "plt.xticks(rotation=45)\n",
    "\n",
    "# Adicionar rótulos e título\n",
    "plt.xlabel('Data do Pedido')\n",
    "plt.ylabel('Total de Venda')\n",
    "plt.title('Valor Total de Vendas por Data de Pedido')\n",
    "\n",
    "\n",
    "plt.show();\n"
   ]
  },
  {
   "cell_type": "markdown",
   "metadata": {},
   "source": [
    "3) Qual o Total de Vendas por Estado? Demonstre o resultado através de um gráfico de barras."
   ]
  },
  {
   "cell_type": "code",
   "execution_count": null,
   "metadata": {},
   "outputs": [],
   "source": [
    "total_estado = df_dados.groupby('Estado')['Valor_Venda'].sum().reset_index()\n",
    "total_estado.head()"
   ]
  },
  {
   "cell_type": "code",
   "execution_count": null,
   "metadata": {},
   "outputs": [],
   "source": [
    "plt.figure(figsize = (10, 4))\n",
    "sns.barplot(data = total_estado, \n",
    "            y = 'Valor_Venda', \n",
    "            x = 'Estado')\n",
    "plt.title(\"Total de vendas por Estado\")\n",
    "plt.ylabel(\"Total vendas\")\n",
    "plt.xticks(rotation = 90)\n",
    "plt.show()"
   ]
  },
  {
   "cell_type": "markdown",
   "metadata": {},
   "source": [
    "4. Quais São as 10 Cidades com Maior Total de Vendas?Demonstre o resultado através de um gráfico de barras."
   ]
  },
  {
   "cell_type": "code",
   "execution_count": null,
   "metadata": {},
   "outputs": [],
   "source": [
    "top_10_vendas = total_estado.nlargest(10, 'Valor_Venda')\n",
    "top_10_vendas[\"Posicao\"] = range(1,11)\n",
    "print(\"Os 10 estados com maior total de vendas são:\")\n",
    "top_10_vendas.iloc[:,[2,0,1]]"
   ]
  },
  {
   "cell_type": "code",
   "execution_count": null,
   "metadata": {},
   "outputs": [],
   "source": [
    "plt.figure(figsize = (10, 4))\n",
    "sns.barplot(data = top_10_vendas, \n",
    "            y = 'Valor_Venda', \n",
    "            x = 'Estado')\n",
    "plt.title(\"Os 10 Estados com mais vendas\")\n",
    "plt.ylabel(\"Total vendas\")\n",
    "plt.xticks(rotation = 30)\n",
    "plt.show()"
   ]
  },
  {
   "cell_type": "markdown",
   "metadata": {},
   "source": [
    "5. Qual Segmento Teve o Maior Total de Vendas?Demonstre o resultado através de um gráfico de pizza"
   ]
  },
  {
   "cell_type": "code",
   "execution_count": null,
   "metadata": {},
   "outputs": [],
   "source": [
    "total_segmento = df_dados.groupby('Segmento')['Valor_Venda'].sum().reset_index()\n",
    "\n",
    "total_segmento\n"
   ]
  },
  {
   "cell_type": "code",
   "execution_count": null,
   "metadata": {},
   "outputs": [],
   "source": [
    "plt.figure(figsize=(8, 6))\n",
    "plt.pie(total_segmento['Valor_Venda'],labels = total_segmento['Segmento'] , autopct='%1.1f%%');\n",
    "plt.title('Vendas por Segmento')\n",
    "plt.show()"
   ]
  },
  {
   "cell_type": "markdown",
   "metadata": {},
   "source": [
    "6. Qual o Total de Vendas Por Segmento e Por Ano?\n"
   ]
  },
  {
   "cell_type": "code",
   "execution_count": null,
   "metadata": {},
   "outputs": [],
   "source": [
    "# Criando a variavel ano\n",
    "df_dados[\"Ano\"] = df_dados[\"Data_Pedido\"].dt.year\n",
    "\n",
    "# Agrupar por segmento e ano\n",
    "df_dados.groupby(['Segmento','Ano'])['Valor_Venda'].sum()"
   ]
  },
  {
   "cell_type": "code",
   "execution_count": null,
   "metadata": {},
   "outputs": [],
   "source": [
    "# Agrupar por Ano e segmento\n",
    "df_dados.groupby(['Ano','Segmento'])['Valor_Venda'].sum()"
   ]
  },
  {
   "cell_type": "markdown",
   "metadata": {},
   "source": [
    "7. Os  gestores  da  empresa  estão  considerando conceder  diferentes  faixas  de  descontos  e gostariam de fazer uma simulação com base na regra abaixo:\n",
    "- Se o Valor_Venda for maior que 1000 recebe 15% de desconto.\n",
    "- Se o Valor_Venda for menor que 1000 recebe 10% de desconto.\n",
    "\n",
    "- Quantas Vendas Receberiam 15% de Desconto?"
   ]
  },
  {
   "cell_type": "code",
   "execution_count": null,
   "metadata": {},
   "outputs": [],
   "source": [
    "# Soma o total de ocorrencias com valor de venda maior que 1000\n",
    "n_vendas = (df_dados[\"Valor_Venda\"] > 1000).sum()\n",
    "\n",
    "print(n_vendas, \"vendas receberiam 15% de desconto.\")"
   ]
  },
  {
   "cell_type": "markdown",
   "metadata": {},
   "source": [
    "8. Considere  Que  a  Empresa  Decida  Conceder  o  Desconto  de  15%  do  Item  Anterior.  Qual Seria a Média do Valor de Venda Antes e Depois do Desconto?"
   ]
  },
  {
   "cell_type": "code",
   "execution_count": null,
   "metadata": {},
   "outputs": [],
   "source": [
    "media_antes = df_dados[\"Valor_Venda\"].mean()\n",
    "\n",
    "valor_venda_desconto= [v*0.85 if v > 1000 else v for v in df_dados[\"Valor_Venda\"]]\n",
    "\n",
    "media_depois = np.array(valor_venda_desconto).mean()\n",
    "\n",
    "print(\"A Média do valor de vendas antes do desconto é de:\", round(media_antes))\n",
    "print(\"A Média do valor de vendas depois do desconto é de:\", round(media_depois))"
   ]
  },
  {
   "cell_type": "markdown",
   "metadata": {},
   "source": [
    "9. Qual o Média de Vendas Por Segmento, Por Ano e Por Mês?Demonstre o resultado através de gráfico de linha."
   ]
  },
  {
   "cell_type": "code",
   "execution_count": null,
   "metadata": {},
   "outputs": [],
   "source": [
    "df_dados.columns"
   ]
  },
  {
   "cell_type": "code",
   "execution_count": null,
   "metadata": {},
   "outputs": [],
   "source": [
    "# Criando a coluna \"mes\"\n",
    "df_dados[\"Mes\"] = df_dados[\"Data_Pedido\"].dt.month\n",
    "\n",
    "media_venda = df_dados.groupby(['Segmento','Ano','Mes'])['Valor_Venda'].mean().reset_index()\n",
    "\n",
    "media_venda"
   ]
  },
  {
   "cell_type": "code",
   "execution_count": null,
   "metadata": {},
   "outputs": [],
   "source": [
    "# sns.lineplot(data = df_dados, x = \"Mes\", y = 'Valor_Venda',\n",
    "#             hue = \"Segmento\", style=\"Segmento\", ci=None);\n",
    "\n",
    "g = sns.FacetGrid(df_dados, col='Ano', col_wrap=2, height=4, aspect=1)\n",
    "\n",
    "g.map(sns.lineplot,\"Mes\", 'Valor_Venda',  \"Segmento\",  ci=None ).add_legend()\n",
    "\n",
    "plt.show()\n",
    "\n",
    "\n"
   ]
  },
  {
   "cell_type": "markdown",
   "metadata": {},
   "source": [
    "10. Qual o Total de Vendas Por Categoria e SubCategoria, Considerando Somente as Top 12 SubCategorias? Demonstre tudo através de um único gráfico"
   ]
  },
  {
   "cell_type": "code",
   "execution_count": null,
   "metadata": {},
   "outputs": [],
   "source": [
    "top_categorias = df_dados.groupby(['Categoria','SubCategoria'])['Valor_Venda'].\\\n",
    "    sum().rename('Total_Venda').reset_index().\\\n",
    "        nlargest(12, 'Total_Venda').sort_values(by = ['Categoria','Total_Venda'], ascending = False)\n",
    "\n",
    "top_categorias"
   ]
  },
  {
   "cell_type": "code",
   "execution_count": null,
   "metadata": {},
   "outputs": [],
   "source": [
    "plt.figure(figsize=(12, 6))\n",
    "sns.barplot(data=top_categorias, x='Total_Venda', y='SubCategoria', hue='Categoria')\n",
    "plt.title(\"Top 12 Subcategorias com mais vendas\")\n",
    "plt.ylabel(\"Sub Categoria\")\n",
    "plt.xlabel(\"Total Vendas\")\n",
    "\n",
    "plt.show()\n"
   ]
  }
 ],
 "metadata": {
  "kernelspec": {
   "display_name": "base",
   "language": "python",
   "name": "python3"
  },
  "language_info": {
   "codemirror_mode": {
    "name": "ipython",
    "version": 3
   },
   "file_extension": ".py",
   "mimetype": "text/x-python",
   "name": "python",
   "nbconvert_exporter": "python",
   "pygments_lexer": "ipython3",
   "version": "undefined.undefined.undefined"
  }
 },
 "nbformat": 4,
 "nbformat_minor": 2
}
