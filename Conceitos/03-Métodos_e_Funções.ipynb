{
 "cells": [
  {
   "cell_type": "markdown",
   "id": "731da91d",
   "metadata": {},
   "source": [
    "# Métodos\n",
    "\n",
    "Tudo em python é objeto. E cada objeto tem métodos e atributos"
   ]
  },
  {
   "cell_type": "code",
   "execution_count": 1,
   "id": "4c0466d2",
   "metadata": {},
   "outputs": [],
   "source": [
    "lista = [100, -2, 12, 65, 0]"
   ]
  },
  {
   "cell_type": "code",
   "execution_count": 3,
   "id": "ab7b69f1",
   "metadata": {},
   "outputs": [
    {
     "data": {
      "text/plain": [
       "list"
      ]
     },
     "execution_count": 3,
     "metadata": {},
     "output_type": "execute_result"
    }
   ],
   "source": [
    "type(lista) # Confere a classe do objeto, nesse caso é do tipo \"lista\""
   ]
  },
  {
   "cell_type": "code",
   "execution_count": 7,
   "id": "ef0a5f9e",
   "metadata": {},
   "outputs": [
    {
     "data": {
      "text/plain": [
       "[100, -2, 12, 65, 0, 100, 100, 100, 100]"
      ]
     },
     "execution_count": 7,
     "metadata": {},
     "output_type": "execute_result"
    }
   ],
   "source": [
    "lista.append(100) # A função append é um método para objetos do tipo \"lista\"\n",
    "lista"
   ]
  },
  {
   "cell_type": "code",
   "execution_count": 10,
   "id": "8c52e251",
   "metadata": {},
   "outputs": [
    {
     "data": {
      "text/plain": [
       "5"
      ]
     },
     "execution_count": 10,
     "metadata": {},
     "output_type": "execute_result"
    }
   ],
   "source": [
    "lista.count(100) # A função count é outro método para objetos do tipo \"lista\""
   ]
  },
  {
   "cell_type": "code",
   "execution_count": 17,
   "id": "c3c5706b",
   "metadata": {},
   "outputs": [
    {
     "name": "stdout",
     "output_type": "stream",
     "text": [
      "Help on built-in function count:\n",
      "\n",
      "count(value, /) method of builtins.list instance\n",
      "    Return number of occurrences of value.\n",
      "\n"
     ]
    }
   ],
   "source": [
    "help(lista.count) # A função help explica o que o método faz\n"
   ]
  },
  {
   "cell_type": "code",
   "execution_count": 2,
   "id": "2336bc2a",
   "metadata": {},
   "outputs": [
    {
     "data": {
      "text/plain": [
       "['__add__',\n",
       " '__class__',\n",
       " '__class_getitem__',\n",
       " '__contains__',\n",
       " '__delattr__',\n",
       " '__delitem__',\n",
       " '__dir__',\n",
       " '__doc__',\n",
       " '__eq__',\n",
       " '__format__',\n",
       " '__ge__',\n",
       " '__getattribute__',\n",
       " '__getitem__',\n",
       " '__gt__',\n",
       " '__hash__',\n",
       " '__iadd__',\n",
       " '__imul__',\n",
       " '__init__',\n",
       " '__init_subclass__',\n",
       " '__iter__',\n",
       " '__le__',\n",
       " '__len__',\n",
       " '__lt__',\n",
       " '__mul__',\n",
       " '__ne__',\n",
       " '__new__',\n",
       " '__reduce__',\n",
       " '__reduce_ex__',\n",
       " '__repr__',\n",
       " '__reversed__',\n",
       " '__rmul__',\n",
       " '__setattr__',\n",
       " '__setitem__',\n",
       " '__sizeof__',\n",
       " '__str__',\n",
       " '__subclasshook__',\n",
       " 'append',\n",
       " 'clear',\n",
       " 'copy',\n",
       " 'count',\n",
       " 'extend',\n",
       " 'index',\n",
       " 'insert',\n",
       " 'pop',\n",
       " 'remove',\n",
       " 'reverse',\n",
       " 'sort']"
      ]
     },
     "execution_count": 2,
     "metadata": {},
     "output_type": "execute_result"
    }
   ],
   "source": [
    "dir(list) #Lista todos os métodos do objetos "
   ]
  },
  {
   "cell_type": "code",
   "execution_count": 25,
   "id": "f670afc4",
   "metadata": {},
   "outputs": [
    {
     "data": {
      "text/plain": [
       "['Exemplo', 'de', 'um', 'objeto', 'da', 'classe', 'String']"
      ]
     },
     "execution_count": 25,
     "metadata": {},
     "output_type": "execute_result"
    }
   ],
   "source": [
    "frase = \"Exemplo de um objeto da classe String\"\n",
    "\n",
    "frase.split() # split é um método para a classe String"
   ]
  },
  {
   "cell_type": "markdown",
   "id": "241a42f5",
   "metadata": {},
   "source": [
    "# Funções"
   ]
  },
  {
   "cell_type": "markdown",
   "id": "50e49bc6",
   "metadata": {},
   "source": [
    "## Funções Built-in"
   ]
  },
  {
   "cell_type": "code",
   "execution_count": 60,
   "id": "f6c78493",
   "metadata": {},
   "outputs": [
    {
     "name": "stdout",
     "output_type": "stream",
     "text": [
      "Hellow World\n"
     ]
    }
   ],
   "source": [
    "print(\"Hellow World\") # é uma função built-in"
   ]
  },
  {
   "cell_type": "code",
   "execution_count": 64,
   "id": "f819b4aa",
   "metadata": {},
   "outputs": [
    {
     "data": {
      "text/plain": [
       "3"
      ]
     },
     "execution_count": 64,
     "metadata": {},
     "output_type": "execute_result"
    }
   ],
   "source": [
    "int(3.9)"
   ]
  },
  {
   "cell_type": "code",
   "execution_count": 65,
   "id": "f2d16fbe",
   "metadata": {},
   "outputs": [
    {
     "data": {
      "text/plain": [
       "'13'"
      ]
     },
     "execution_count": 65,
     "metadata": {},
     "output_type": "execute_result"
    }
   ],
   "source": [
    "str(13)"
   ]
  },
  {
   "cell_type": "code",
   "execution_count": 66,
   "id": "933fd63e",
   "metadata": {},
   "outputs": [
    {
     "data": {
      "text/plain": [
       "12.0"
      ]
     },
     "execution_count": 66,
     "metadata": {},
     "output_type": "execute_result"
    }
   ],
   "source": [
    "float(12)"
   ]
  },
  {
   "cell_type": "code",
   "execution_count": 67,
   "id": "fd42eeba",
   "metadata": {},
   "outputs": [
    {
     "data": {
      "text/plain": [
       "True"
      ]
     },
     "execution_count": 67,
     "metadata": {},
     "output_type": "execute_result"
    }
   ],
   "source": [
    "bool(1)"
   ]
  },
  {
   "cell_type": "code",
   "execution_count": 70,
   "id": "d9080bc1",
   "metadata": {},
   "outputs": [
    {
     "data": {
      "text/plain": [
       "10"
      ]
     },
     "execution_count": 70,
     "metadata": {},
     "output_type": "execute_result"
    }
   ],
   "source": [
    "abs(-10)"
   ]
  },
  {
   "cell_type": "code",
   "execution_count": 72,
   "id": "781cbbb5",
   "metadata": {},
   "outputs": [
    {
     "name": "stdout",
     "output_type": "stream",
     "text": [
      "Digite nome:12\n"
     ]
    },
    {
     "data": {
      "text/plain": [
       "'12'"
      ]
     },
     "execution_count": 72,
     "metadata": {},
     "output_type": "execute_result"
    }
   ],
   "source": [
    "input(\"Digite nome:\")"
   ]
  },
  {
   "cell_type": "code",
   "execution_count": 76,
   "id": "835caa97",
   "metadata": {},
   "outputs": [
    {
     "data": {
      "text/plain": [
       "2"
      ]
     },
     "execution_count": 76,
     "metadata": {},
     "output_type": "execute_result"
    }
   ],
   "source": [
    "max((1,2))"
   ]
  },
  {
   "cell_type": "code",
   "execution_count": null,
   "id": "2b963413",
   "metadata": {},
   "outputs": [],
   "source": []
  },
  {
   "cell_type": "markdown",
   "id": "28237a47",
   "metadata": {},
   "source": [
    "## Criando funções"
   ]
  },
  {
   "cell_type": "code",
   "execution_count": 55,
   "id": "079b7c47",
   "metadata": {},
   "outputs": [
    {
     "name": "stdout",
     "output_type": "stream",
     "text": [
      "1\n",
      "2\n",
      "3\n",
      "4\n",
      "5\n"
     ]
    }
   ],
   "source": [
    "def imprimeNumeros(n):\n",
    "\n",
    "    for i in range(1,n+1):\n",
    "        print(i)\n",
    " \n",
    "imprimeNumeros(5) # Chamar a Função"
   ]
  },
  {
   "cell_type": "code",
   "execution_count": 43,
   "id": "2660bbbb",
   "metadata": {},
   "outputs": [
    {
     "name": "stdout",
     "output_type": "stream",
     "text": [
      "Primeiro argumento foi  A\n",
      "Parametros adicionais: B\n",
      "Parametros adicionais: C\n",
      "Parametros adicionais: D\n",
      "Parametros adicionais: E\n"
     ]
    }
   ],
   "source": [
    "# Função com número Variável de elementos\n",
    "\n",
    "def printValorInfo(arg1, *vartupla):\n",
    "    \n",
    "    print(\"Primeiro argumento foi \", arg1)\n",
    "    \n",
    "    for item in vartupla:\n",
    "        print(\"Parametros adicionais:\", item)\n",
    "\n",
    "        \n",
    "printValorInfo(\"A\", \"B\", \"C\", \"D\", \"E\") "
   ]
  },
  {
   "cell_type": "markdown",
   "id": "e7049b4a",
   "metadata": {},
   "source": [
    "https://pypi.org/\n",
    "\n",
    "### Fazendo Split de dados\n",
    "\n"
   ]
  },
  {
   "cell_type": "code",
   "execution_count": 1,
   "id": "f177fc9e",
   "metadata": {},
   "outputs": [],
   "source": [
    "def split_string_palavra(text):\n",
    "    return text.split(\" \")"
   ]
  },
  {
   "cell_type": "code",
   "execution_count": 2,
   "id": "77bcb7bc",
   "metadata": {},
   "outputs": [],
   "source": [
    "token = split_string_palavra(\"Base para Processamento de linguagem natural\")"
   ]
  },
  {
   "cell_type": "markdown",
   "id": "45231e41",
   "metadata": {},
   "source": [
    "## Expressão Lambda\n",
    "\n",
    "lambda é uma função anônima, ou seja, uma função que não é definida com um nome padrão usando a palavra-chave `def`. Em vez disso, é criada usando a palavra-chave `lambda`, seguida por uma lista de argumentos, um operador de dois pontos `:`, e uma expressão que define o retorno da função. \n",
    "São mais adequadas para tarefas simples e diretas.\n",
    "\n",
    "São comumente usadas em conjunto com funções de ordem superior, como `map()`, `filter()`, `reduce()`, e `sorted()`, onde uma função é passada como argumento para outra função.\n",
    "\n",
    "Exemplo: criando uma função que retorna a potência de dois números.\n"
   ]
  },
  {
   "cell_type": "code",
   "execution_count": 9,
   "id": "31815418",
   "metadata": {},
   "outputs": [
    {
     "data": {
      "text/plain": [
       "25"
      ]
     },
     "execution_count": 9,
     "metadata": {},
     "output_type": "execute_result"
    }
   ],
   "source": [
    "def potencia(num):\n",
    "    resultado = num ** 2\n",
    "    return resultado\n",
    "\n",
    "potencia(5)"
   ]
  },
  {
   "cell_type": "code",
   "execution_count": 10,
   "id": "42ed7665",
   "metadata": {},
   "outputs": [
    {
     "data": {
      "text/plain": [
       "25"
      ]
     },
     "execution_count": 10,
     "metadata": {},
     "output_type": "execute_result"
    }
   ],
   "source": [
    "## Simplificando\n",
    "def potencia(num):\n",
    "    return num ** 2\n",
    "\n",
    "potencia(5)"
   ]
  },
  {
   "cell_type": "code",
   "execution_count": 13,
   "id": "543da512",
   "metadata": {},
   "outputs": [
    {
     "data": {
      "text/plain": [
       "25"
      ]
     },
     "execution_count": 13,
     "metadata": {},
     "output_type": "execute_result"
    }
   ],
   "source": [
    "# Usando a função lambda\n",
    "potencia = lambda num: num ** 2\n",
    "\n",
    "potencia(5)"
   ]
  },
  {
   "cell_type": "code",
   "execution_count": null,
   "id": "d632be8a",
   "metadata": {},
   "outputs": [],
   "source": [
    "reversao = lambda s: s[::-1]\n",
    "reversao(\"Priscila Dalepiane\")"
   ]
  },
  {
   "cell_type": "markdown",
   "id": "1d32f47b",
   "metadata": {},
   "source": []
  },
  {
   "cell_type": "markdown",
   "id": "57a61b3f",
   "metadata": {},
   "source": [
    "# List/dict Comprehencion\n",
    "\n",
    "## List Comprehencion\n",
    "\n",
    "A compreensão de lista é uma construção sintática em Python que permite criar listas de maneira concisa e expressiva. Com ela, é possível gerar uma nova lista aplicando uma expressão a cada item de outra lista (ou iterável), além de opcionalmente filtrar os elementos.\n",
    "\n",
    "Sintaxe: \n",
    "\n",
    "`nova_lista = [expressao for item in iteravel if condicao]`\n",
    "\n",
    "- `expressao`: a expressão que define como cada elemento da nova lista será transformado.\n",
    "- `item`: a variável que representa cada elemento do iterável original.\n",
    "- `iteravel`: a lista, tupla, ou outro tipo de iterável do qual os elementos serão retirados.\n",
    "- `condicao (opcional)`: uma expressão que define uma condição para incluir o item na nova lista.\n",
    " \n",
    " \n",
    "\n"
   ]
  },
  {
   "cell_type": "code",
   "execution_count": 29,
   "id": "075bb538",
   "metadata": {},
   "outputs": [
    {
     "data": {
      "text/plain": [
       "[0, 1, 2, 3, 4, 5, 6, 7, 8, 9]"
      ]
     },
     "execution_count": 29,
     "metadata": {},
     "output_type": "execute_result"
    }
   ],
   "source": [
    "# List comprehencion que imprime números até 10\n",
    "\n",
    "[x for x in range(10)]"
   ]
  },
  {
   "cell_type": "code",
   "execution_count": 34,
   "id": "d46209ba",
   "metadata": {},
   "outputs": [
    {
     "data": {
      "text/plain": [
       "[0, 1, 2, 3, 4, 5, 6]"
      ]
     },
     "execution_count": 34,
     "metadata": {},
     "output_type": "execute_result"
    }
   ],
   "source": [
    "# List comprehencion que imprime numeros menores que 7 em uma lista de 0 a 10\n",
    "[x for x in range(10) if x < 7]"
   ]
  },
  {
   "cell_type": "code",
   "execution_count": 36,
   "id": "f0da7043",
   "metadata": {},
   "outputs": [
    {
     "data": {
      "text/plain": [
       "['banana', 'morango']"
      ]
     },
     "execution_count": 36,
     "metadata": {},
     "output_type": "execute_result"
    }
   ],
   "source": [
    "# Filtrar em uma lista de frutas apenas palavras com a letra \"o\"\n",
    "\n",
    "lista_frutas = ['banana', 'morango', 'pessego', 'abacaxi', 'pera']\n",
    "\n",
    "[x for x in lista_frutas if \"n\" in x]"
   ]
  },
  {
   "cell_type": "markdown",
   "id": "38638940",
   "metadata": {},
   "source": [
    "## Dictionary Comprehension\n",
    "\n",
    "É semelhante à List Comprehension, mas ao invés de criar uma lista, cria um dicionário. Com a Dictionary Comprehension, é possível gerar um novo dicionário aplicando uma expressão a cada item de outro iterável, além de opcionalmente filtrar os elementos.\n",
    "\n",
    "Sintaxe:\n",
    "\n",
    "`novo_dicionario = {chave: valor for item in interavel if condicao}`\n"
   ]
  },
  {
   "cell_type": "code",
   "execution_count": 40,
   "id": "041b920c",
   "metadata": {},
   "outputs": [
    {
     "data": {
      "text/plain": [
       "{'Pri': 'Aprovado', 'Maria': 'Aprovado', 'Ana': 'Reprovado'}"
      ]
     },
     "execution_count": 40,
     "metadata": {},
     "output_type": "execute_result"
    }
   ],
   "source": [
    "# Exemplo: Dicionario de alunos e notas\n",
    "\n",
    "dict_alunos = {'Pri': 10, 'Maria': 7, 'Ana': 6}\n",
    "\n",
    "{k: ('Aprovado' if v >= 7 else 'Reprovado') for (k,v) in dict_alunos.items()}"
   ]
  },
  {
   "cell_type": "code",
   "execution_count": 42,
   "id": "6019a2cf",
   "metadata": {},
   "outputs": [
    {
     "name": "stdout",
     "output_type": "stream",
     "text": [
      "{1: 1, 2: 4, 3: 9, 4: 16, 5: 25}\n"
     ]
    }
   ],
   "source": [
    "# Exemplo 2: Criando um dicionário com quadrados dos números de 1 a 5 como valores e os números como chaves:\n",
    "\n",
    "quadrados = {num: num**2 for num in range(1, 6)}\n",
    "print(quadrados)"
   ]
  },
  {
   "cell_type": "code",
   "execution_count": null,
   "id": "1f317a66",
   "metadata": {},
   "outputs": [],
   "source": [
    "# Exemplo 3: Filtrando apenas as chaves pares de um dicionário existente:\n",
    "\n",
    "dicionario = {'a': 1, 'b': 2, 'c': 3, 'd': 4}\n",
    "chaves_pares = {k: v for k, v in dicionario.items() if v % 2 == 0}\n",
    "print(chaves_pares)"
   ]
  }
 ],
 "metadata": {
  "kernelspec": {
   "display_name": "Python 3",
   "language": "python",
   "name": "python3"
  },
  "language_info": {
   "codemirror_mode": {
    "name": "ipython",
    "version": 3
   },
   "file_extension": ".py",
   "mimetype": "text/x-python",
   "name": "python",
   "nbconvert_exporter": "python",
   "pygments_lexer": "ipython3",
   "version": "3.10.12"
  }
 },
 "nbformat": 4,
 "nbformat_minor": 5
}
