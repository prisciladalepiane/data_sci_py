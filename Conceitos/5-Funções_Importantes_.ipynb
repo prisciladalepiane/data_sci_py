{
 "cells": [
  {
   "cell_type": "markdown",
   "id": "15ded91c",
   "metadata": {},
   "source": [
    "# Principais funções para data science"
   ]
  },
  {
   "cell_type": "markdown",
   "id": "eb3cb5b1",
   "metadata": {},
   "source": [
    "## Função Map\n",
    "\n",
    "\n",
    "A função `map()` é uma função embutida que aplica uma função a cada item de um iterável (como uma lista, tupla ou outro objeto iterável) e retorna um objeto do tipo map, que é um iterador que produz os resultados dessa aplicação. Em resumo, a função `map()` permite aplicar uma função a todos os elementos de um iterável de forma eficiente, sem a necessidade de escrever loops explícitos.\n",
    "\n",
    "sintaxe: `map(funcao, iteravel)`, onde:\n",
    "\n",
    "- __funcao__: A função que será aplicada a cada elemento do iterável.\n",
    "- __iteravel__: O iterável (como uma lista, tupla, etc.) contendo os elementos aos quais a função será aplicada.\n",
    "\n",
    "Exemplo: Dobrar número"
   ]
  },
  {
   "cell_type": "code",
   "execution_count": 3,
   "id": "0114f568",
   "metadata": {},
   "outputs": [
    {
     "data": {
      "text/plain": [
       "<map at 0x1f6d4c8bca0>"
      ]
     },
     "execution_count": 3,
     "metadata": {},
     "output_type": "execute_result"
    }
   ],
   "source": [
    "numeros = [1, 2, 3, 4, 5]\n",
    "\n",
    "# Definindo uma função\n",
    "def dobrar(numero):\n",
    "    return numero * 2\n",
    "\n",
    "# Aplicando a função a cada elemento de uma lista usando map()\n",
    "resultado = map(dobrar, numeros)\n",
    "resultado"
   ]
  },
  {
   "cell_type": "code",
   "execution_count": 4,
   "id": "3d07fb96",
   "metadata": {},
   "outputs": [
    {
     "name": "stdout",
     "output_type": "stream",
     "text": [
      "[2, 4, 6, 8, 10]\n"
     ]
    }
   ],
   "source": [
    "# Convertendo o objeto map em uma lista para ver os resultados\n",
    "lista_resultado = list(resultado)\n",
    "print(lista_resultado)"
   ]
  },
  {
   "cell_type": "markdown",
   "id": "7d6fa036",
   "metadata": {},
   "source": [
    "Exemplo 2: Potência"
   ]
  },
  {
   "cell_type": "code",
   "execution_count": 8,
   "id": "c0b9b8e9",
   "metadata": {},
   "outputs": [
    {
     "data": {
      "text/plain": [
       "[1, 4, 9, 16, 25]"
      ]
     },
     "execution_count": 8,
     "metadata": {},
     "output_type": "execute_result"
    }
   ],
   "source": [
    "# Definindo função \n",
    "def potencia(x):\n",
    "    return x ** 2\n",
    "\n",
    "# Podemos usar list diretamente para retornar a lista\n",
    "list(map(potencia, numeros))"
   ]
  },
  {
   "cell_type": "code",
   "execution_count": 9,
   "id": "4dfb6c88",
   "metadata": {},
   "outputs": [
    {
     "name": "stdout",
     "output_type": "stream",
     "text": [
      "1\n",
      "4\n",
      "9\n",
      "16\n",
      "25\n"
     ]
    }
   ],
   "source": [
    "# Usando loop para mostrar os resultados\n",
    "\n",
    "resultado2 = map(potencia, numeros)\n",
    "\n",
    "for resultado2 in map(potencia, numeros):\n",
    "    print(resultado)"
   ]
  },
  {
   "cell_type": "markdown",
   "id": "b23ef957",
   "metadata": {},
   "source": [
    "### Usando a função `map()` com a expressão `lambda` \n",
    "\n",
    "Ao invés de definir uma função, podemos escrever-la diretamente na função `map` usando a expressão `lambda`.\n"
   ]
  },
  {
   "cell_type": "code",
   "execution_count": 14,
   "id": "716b3832",
   "metadata": {},
   "outputs": [
    {
     "data": {
      "text/plain": [
       "[1, 4, 9, 16, 25]"
      ]
     },
     "execution_count": 14,
     "metadata": {},
     "output_type": "execute_result"
    }
   ],
   "source": [
    "# Calculando a potência dos números com lambda\n",
    "resultado3 = map(lambda x: x ** 2, numeros)\n",
    "list(resultado3)"
   ]
  },
  {
   "cell_type": "code",
   "execution_count": 16,
   "id": "e62eae4c",
   "metadata": {},
   "outputs": [
    {
     "name": "stdout",
     "output_type": "stream",
     "text": [
      "[6, 1, 3, 9, 8]\n"
     ]
    }
   ],
   "source": [
    "# Lista de strings\n",
    "strings = [\"python\", \"é\", \"uma\", \"linguagem\", \"incrível\"]\n",
    "\n",
    "# Aplicando uma expressão lambda para obter o comprimento de cada string usando map()\n",
    "comprimentos = map(lambda x: len(x), strings)\n",
    "\n",
    "# Convertendo o objeto map em uma lista para ver os resultados\n",
    "lista_comprimentos = list(comprimentos)\n",
    "\n",
    "print(lista_comprimentos)"
   ]
  },
  {
   "cell_type": "markdown",
   "id": "0195e516",
   "metadata": {},
   "source": [
    "# Função Reduce\n",
    "\n",
    "A função `reduce()` em Python é uma função embutida que aplica uma função a pares de elementos de uma sequência (por exemplo, uma lista) até que reste apenas um elemento. Ela combina os elementos de uma sequência em um único valor, acumulando o resultado da aplicação da função a cada par de elementos consecutivos.\n",
    "\n",
    "Em cada etapa, a função `reduce()` passa dois argumentos para a função fornecida: o acumulador e o próximo elemento do iterável. O resultado da função é então passado como acumulador para a próxima chamada da função.\n",
    "\n"
   ]
  },
  {
   "cell_type": "code",
   "execution_count": 18,
   "id": "62b08a8a",
   "metadata": {},
   "outputs": [],
   "source": [
    "from functools import reduce"
   ]
  },
  {
   "cell_type": "code",
   "execution_count": 20,
   "id": "7e96a45c",
   "metadata": {},
   "outputs": [],
   "source": [
    "lista = [1, 10, 100, 1000]"
   ]
  },
  {
   "cell_type": "code",
   "execution_count": 24,
   "id": "3237444a",
   "metadata": {},
   "outputs": [],
   "source": [
    "def somaNumeros(x,y):\n",
    "    return x + y"
   ]
  },
  {
   "cell_type": "code",
   "execution_count": 31,
   "id": "7efc1d8f",
   "metadata": {},
   "outputs": [
    {
     "data": {
      "text/plain": [
       "1111"
      ]
     },
     "execution_count": 31,
     "metadata": {},
     "output_type": "execute_result"
    }
   ],
   "source": [
    "reduce(somaNumeros, lista)"
   ]
  },
  {
   "cell_type": "code",
   "execution_count": 46,
   "id": "daed2851",
   "metadata": {},
   "outputs": [
    {
     "data": {
      "text/plain": [
       "1111"
      ]
     },
     "execution_count": 46,
     "metadata": {},
     "output_type": "execute_result"
    }
   ],
   "source": [
    "# Usando Lambda \n",
    "reduce(lambda x,y:x+y, lista)"
   ]
  },
  {
   "cell_type": "markdown",
   "id": "409c2132",
   "metadata": {},
   "source": [
    "### Reduce com valor inicial\n",
    "É possível também usar um valor inicial para o acumulador. Se fornecido, a função será aplicada ao valor inicial e ao primeiro elemento do iterável na primeira chamada.\n",
    "\n",
    "Exemplo: "
   ]
  },
  {
   "cell_type": "code",
   "execution_count": 48,
   "id": "165ebbc9",
   "metadata": {},
   "outputs": [
    {
     "data": {
      "text/plain": [
       "1161"
      ]
     },
     "execution_count": 48,
     "metadata": {},
     "output_type": "execute_result"
    }
   ],
   "source": [
    "# Soma os valores da lista, começando pelo com 50\n",
    "reduce(somaNumeros, lista, 50)"
   ]
  },
  {
   "cell_type": "markdown",
   "id": "71193f9e",
   "metadata": {},
   "source": [
    "### Reduce com strings\n",
    "\n",
    "Aqui está um exemplo de uso da função `reduce()` com uma lista de strings para concatená-las em uma única string:"
   ]
  },
  {
   "cell_type": "code",
   "execution_count": 61,
   "id": "8f62d94e",
   "metadata": {},
   "outputs": [
    {
     "name": "stdout",
     "output_type": "stream",
     "text": [
      "Programação é fascinante\n"
     ]
    }
   ],
   "source": [
    "# Lista de strings\n",
    "strings = [\"Programação\", \"é\", \"fascinante\"]\n",
    "\n",
    "# Usando reduce para concatenar as strings\n",
    "resultado = reduce(lambda x, y: x + \" \" + y, strings)\n",
    "\n",
    "print(resultado)"
   ]
  },
  {
   "cell_type": "markdown",
   "id": "5a7c9aba",
   "metadata": {},
   "source": [
    "# Função Filter\n",
    "\n",
    "A função `filter()` é uma função que permite filtrar elementos de um iterável (como uma lista) com base em uma função de filtro. Essa função de filtro deve retornar `True` ou `False`, indicando se o elemento deve ser incluído ou não no resultado final."
   ]
  },
  {
   "cell_type": "code",
   "execution_count": 51,
   "id": "be6c0417",
   "metadata": {},
   "outputs": [
    {
     "name": "stdout",
     "output_type": "stream",
     "text": [
      "[2, 4, 6, 8, 10]\n"
     ]
    }
   ],
   "source": [
    "# Lista de números de 1 a 10\n",
    "numeros = range(1,11)\n",
    "\n",
    "# Usando filter para filtrar apenas os números pares\n",
    "numeros_pares = filter(lambda x: x % 2 == 0, numeros)\n",
    "\n",
    "# Convertendo o objeto filter em uma lista para ver os resultados\n",
    "lista_numeros_pares = list(numeros_pares)\n",
    "print(lista_numeros_pares)"
   ]
  },
  {
   "cell_type": "code",
   "execution_count": 53,
   "id": "92fcc62f",
   "metadata": {},
   "outputs": [
    {
     "data": {
      "text/plain": [
       "[9, 10]"
      ]
     },
     "execution_count": 53,
     "metadata": {},
     "output_type": "execute_result"
    }
   ],
   "source": [
    "# Filtrar numeros maiores que 5\n",
    "list(filter(lambda num: num > 8, numeros))"
   ]
  },
  {
   "cell_type": "markdown",
   "id": "6bfcd52e",
   "metadata": {},
   "source": [
    "# Função Zip\n",
    "\n",
    "A função `zip()` agrupa elementos de múltiplas estruturas de dados iteráveis juntos em pares. A função retorna um objeto zip, que pode ser convertida em outra estrutura de dados, como lista ou dicionário. \n",
    "\n"
   ]
  },
  {
   "cell_type": "code",
   "execution_count": 58,
   "id": "026c0ff9",
   "metadata": {},
   "outputs": [
    {
     "name": "stdout",
     "output_type": "stream",
     "text": [
      "[('Renata', 28), ('Pedro', 42), ('Maria', 29)]\n"
     ]
    }
   ],
   "source": [
    "# Listas de exemplo\n",
    "nomes = [\"Renata\", \"Pedro\", \"Maria\"]\n",
    "idades = [28, 42, 29]\n",
    "\n",
    "# Usando zip para combinar elementos das listas em pares de tuplas\n",
    "dados_combinados = zip(nomes, idades)\n",
    "\n",
    "# Convertendo o objeto zip em uma lista de tuplas \n",
    "lista_dados_combinados = list(dados_combinados)\n",
    "print(lista_dados_combinados)"
   ]
  },
  {
   "cell_type": "markdown",
   "id": "94769443",
   "metadata": {},
   "source": [
    "\n",
    "### Zip com número diferente de elementos\n",
    "Se os iteráveis tiverem comprimentos diferentes, `zip()` irá parar assim que o menor iterável for consumido.\n",
    " \n",
    "Exemplo:"
   ]
  },
  {
   "cell_type": "code",
   "execution_count": 59,
   "id": "652a8655",
   "metadata": {},
   "outputs": [
    {
     "name": "stdout",
     "output_type": "stream",
     "text": [
      "[(1, 4), (2, 5)]\n"
     ]
    }
   ],
   "source": [
    "# Tuplas com números de elementos diferentes\n",
    "tupla1 = (1, 2, 3)\n",
    "tupla2 = (4, 5)\n",
    "\n",
    "# Usando zip para combinar as tuplas\n",
    "resultado = list(zip(tupla1, tupla2))\n",
    "\n",
    "print(resultado)"
   ]
  },
  {
   "cell_type": "markdown",
   "id": "8c396887",
   "metadata": {},
   "source": [
    "### Zip para dicionários \n",
    "\n",
    "O `zip()` pode ser usado para criar dicionários combinando chaves e valores de dois iteráveis correspondentes. "
   ]
  },
  {
   "cell_type": "code",
   "execution_count": 65,
   "id": "957a28ae",
   "metadata": {},
   "outputs": [
    {
     "data": {
      "text/plain": [
       "{'a': 1, 'b': 2, 'c': 3}"
      ]
     },
     "execution_count": 65,
     "metadata": {},
     "output_type": "execute_result"
    }
   ],
   "source": [
    "chaves = ['a', 'b', 'c']\n",
    "valores = [1, 2, 3]\n",
    "\n",
    "dict_zip = dict(zip(chaves, valores))\n",
    "dict_zip"
   ]
  },
  {
   "cell_type": "markdown",
   "id": "9a4f85f2",
   "metadata": {},
   "source": [
    "A função `zip()` quando usada com dicionário, vai usar sempre o valor da chave. Exemplo:"
   ]
  },
  {
   "cell_type": "code",
   "execution_count": 67,
   "id": "5835a1d6",
   "metadata": {},
   "outputs": [
    {
     "data": {
      "text/plain": [
       "[('a', 'a'), ('b', 'b'), ('c', 'c')]"
      ]
     },
     "execution_count": 67,
     "metadata": {},
     "output_type": "execute_result"
    }
   ],
   "source": [
    "list(zip(chaves, dict_zip))"
   ]
  },
  {
   "cell_type": "markdown",
   "id": "5ee70f83",
   "metadata": {},
   "source": [
    "Para usar os valores, basta usar o médodo `.values()` para especificar:"
   ]
  },
  {
   "cell_type": "code",
   "execution_count": 69,
   "id": "5b559f7e",
   "metadata": {},
   "outputs": [
    {
     "data": {
      "text/plain": [
       "[('a', 1), ('b', 2), ('c', 3)]"
      ]
     },
     "execution_count": 69,
     "metadata": {},
     "output_type": "execute_result"
    }
   ],
   "source": [
    "list(zip(chaves, dict_zip.values()))"
   ]
  },
  {
   "cell_type": "markdown",
   "id": "92cbaff7",
   "metadata": {},
   "source": [
    "# Enumerate\n",
    "\n",
    "A função `enumerate()`  é uma função que retorna um iterador que gera tuplas contendo um contador e o valor correspondente de um iterável. Ela é útil quando você precisa iterar sobre uma sequência ao mesmo tempo em que precisa acompanhar o índice (a posição) de cada elemento.\n",
    "\n"
   ]
  },
  {
   "cell_type": "code",
   "execution_count": 72,
   "id": "51f1bcd5",
   "metadata": {},
   "outputs": [
    {
     "data": {
      "text/plain": [
       "[(0, 'maçã'), (1, 'banana'), (2, 'laranja'), (3, 'uva')]"
      ]
     },
     "execution_count": 72,
     "metadata": {},
     "output_type": "execute_result"
    }
   ],
   "source": [
    "# Lista de exemplo\n",
    "frutas = [\"maçã\", \"banana\", \"laranja\", \"uva\"]\n",
    "\n",
    "list(enumerate(frutas))"
   ]
  },
  {
   "cell_type": "code",
   "execution_count": 74,
   "id": "98c3e9f3",
   "metadata": {},
   "outputs": [
    {
     "data": {
      "text/plain": [
       "[(1, 'maçã'), (2, 'banana'), (3, 'laranja'), (4, 'uva')]"
      ]
     },
     "execution_count": 74,
     "metadata": {},
     "output_type": "execute_result"
    }
   ],
   "source": [
    "# Para iniciar com 1, passar o parametro dentro da função enumerate()\n",
    "list(enumerate(frutas, 1))"
   ]
  },
  {
   "cell_type": "code",
   "execution_count": 77,
   "id": "c01330e7",
   "metadata": {},
   "outputs": [
    {
     "name": "stdout",
     "output_type": "stream",
     "text": [
      "Índice 0: maçã\n",
      "Índice 1: banana\n",
      "Índice 2: laranja\n",
      "Índice 3: uva\n"
     ]
    }
   ],
   "source": [
    "# Usando loop para iterar sobre a lista com enumerate\n",
    "for indice, fruta in enumerate(frutas):\n",
    "    print(f\"Índice {indice}: {fruta}\")"
   ]
  },
  {
   "cell_type": "code",
   "execution_count": 78,
   "id": "aaf5b463",
   "metadata": {},
   "outputs": [
    {
     "name": "stdout",
     "output_type": "stream",
     "text": [
      "0 0\n",
      "1 1\n",
      "2 2\n",
      "3 3\n",
      "4 4\n",
      "5 5\n",
      "6 6\n",
      "7 7\n",
      "8 8\n",
      "9 9\n"
     ]
    }
   ],
   "source": [
    "for i, num in enumerate(range(10)):\n",
    "    print(i, num)"
   ]
  }
 ],
 "metadata": {
  "kernelspec": {
   "display_name": "Python 3 (ipykernel)",
   "language": "python",
   "name": "python3"
  },
  "language_info": {
   "codemirror_mode": {
    "name": "ipython",
    "version": 3
   },
   "file_extension": ".py",
   "mimetype": "text/x-python",
   "name": "python",
   "nbconvert_exporter": "python",
   "pygments_lexer": "ipython3",
   "version": "3.9.13"
  }
 },
 "nbformat": 4,
 "nbformat_minor": 5
}
