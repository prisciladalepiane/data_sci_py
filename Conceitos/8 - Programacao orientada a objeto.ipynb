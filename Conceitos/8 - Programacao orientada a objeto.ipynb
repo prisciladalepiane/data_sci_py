{
 "cells": [
  {
   "cell_type": "markdown",
   "metadata": {},
   "source": [
    "# Programação Orientada a Objetos\n",
    "\n",
    "\n",
    "A Programação Orientada a Objetos (POO) em Python é um paradigma de programação onde os conceitos do mundo real são modelados como objetos que têm propriedades (atributos) e comportamentos (métodos).\n",
    "\n",
    "## Classe\n",
    "\n",
    "\n",
    "Em Programação Orientada a Objetos (POO), uma classe é uma estrutura que define um tipo de objeto. Ela atua como um modelo ou plano para criar objetos que compartilham características comuns. Uma classe pode conter **atributos** (dados) e **métodos** (comportamentos) que descrevem o comportamento e as propriedades dos objetos que serão instanciados a partir dela. Em resumo, uma classe em POO é uma abstração que encapsula dados e comportamentos relacionados, permitindo a criação de objetos que seguem o mesmo modelo.\n",
    "\n",
    "Para criar uma classe em Python, utiliza-se a palavra reservada ``class``"
   ]
  },
  {
   "cell_type": "code",
   "execution_count": 24,
   "metadata": {},
   "outputs": [
    {
     "name": "stdout",
     "output_type": "stream",
     "text": [
      "<class '__main__.MinhaClasse'>\n"
     ]
    }
   ],
   "source": [
    "# Criando uma classe vazia\n",
    "class MinhaClasse:\n",
    "    pass\n",
    "\n",
    "# Criando um objeto da classe\n",
    "objeto = MinhaClasse()\n",
    "\n",
    "# Acessando o tipo do objeto\n",
    "print(type(objeto))"
   ]
  },
  {
   "cell_type": "markdown",
   "metadata": {},
   "source": [
    "### Atributos e métodos\n",
    "\n",
    "Métodos e atributos são componentes fundamentais de uma classe:\n",
    "\n",
    "1. **Atributos**: São variáveis associadas a um objeto da classe que armazenam dados específicos para esse objeto. Eles representam as características ou propriedades do objeto. Os atributos podem ser acessados e modificados usando a sintaxe `objeto.atributo`. Por exemplo, em uma classe `Pessoa`, os atributos podem ser `nome`, `idade`, `altura`, etc.\n",
    "\n",
    "2. **Métodos**: São funções definidas dentro de uma classe que descrevem os comportamentos ou ações que os objetos dessa classe podem realizar. Eles operam nos dados do objeto e podem acessar e modificar seus atributos. Os métodos são chamados usando a sintaxe `objeto.metodo()`. Por exemplo, em uma classe `Pessoa`, os métodos podem ser `andar()`, `falar()`, `comer()`, etc."
   ]
  },
  {
   "cell_type": "markdown",
   "metadata": {},
   "source": [
    "No exemplo a seguir, temos uma classe com um atributo e um método:"
   ]
  },
  {
   "cell_type": "code",
   "execution_count": 25,
   "metadata": {},
   "outputs": [
    {
     "name": "stdout",
     "output_type": "stream",
     "text": [
      "Escrevendo o atributo usando o métodos escrever(): Atributo definido\n",
      "Atributo definido\n"
     ]
    }
   ],
   "source": [
    "class MinhaClasse:\n",
    "\n",
    "    # Um atributo da classe\n",
    "    atributo = \"Atributo definido\"\n",
    "\n",
    "    # Um método da classe \n",
    "    def escrever(self):\n",
    "        print(\"Escrevendo o atributo usando o métodos escrever():\", self.atributo)\n",
    "\n",
    "# Criando um objeto da classe\n",
    "objeto = MinhaClasse()\n",
    "\n",
    "# Chamando o método escrever()\n",
    "objeto.escrever()  \n",
    "\n",
    "# Acessando o atributo \n",
    "print(objeto.atributo) "
   ]
  },
  {
   "cell_type": "markdown",
   "metadata": {},
   "source": [
    "Obs: Em Python, `self` é uma convenção usada para se referir ao próprio objeto dentro de métodos de uma classe. Quando você chama um método em um objeto, o próprio objeto é passado como o primeiro argumento para o método. Isso permite que os métodos manipulem os dados específicos do objeto ao qual pertencem."
   ]
  },
  {
   "cell_type": "markdown",
   "metadata": {},
   "source": [
    "O método `__init__`  é comumente usado como o construtor da classe, é chamado automaticamente quando um objeto é criado a partir da classe e é usado para inicializar os atributos do objeto. Não é obrigatório sua definição, porém, se sua classe precisar de inicialização personalizada, é uma boa prática definir um método init  para isso."
   ]
  },
  {
   "cell_type": "code",
   "execution_count": 33,
   "metadata": {},
   "outputs": [
    {
     "name": "stdout",
     "output_type": "stream",
     "text": [
      "Construtor chamado para criar um objeto dessa classe.\n"
     ]
    }
   ],
   "source": [
    "class Algoritimo():\n",
    "\n",
    "    def __init__(self, tipo_alg):\n",
    "        self.tipo = tipo_alg\n",
    "        print(\"Construtor chamado para criar um objeto dessa classe.\")\n",
    "\n",
    "\n",
    "algoritmo1 = Algoritimo(tipo_alg = \"Deep Learning\")"
   ]
  },
  {
   "cell_type": "code",
   "execution_count": 34,
   "metadata": {},
   "outputs": [
    {
     "data": {
      "text/plain": [
       "'Deep Learning'"
      ]
     },
     "execution_count": 34,
     "metadata": {},
     "output_type": "execute_result"
    }
   ],
   "source": [
    "algoritmo1.tipo"
   ]
  },
  {
   "cell_type": "code",
   "execution_count": 26,
   "metadata": {},
   "outputs": [
    {
     "name": "stdout",
     "output_type": "stream",
     "text": [
      "Olá, meu nome é Priscila e tenho 29 anos.\n"
     ]
    }
   ],
   "source": [
    "## Exemplo: criando a classe Pessoa\n",
    "class Pessoa:\n",
    "\n",
    "    # Método construtor\n",
    "    def __init__(self, nome, idade):\n",
    "        \n",
    "        # Atributos\n",
    "        self.nome = nome\n",
    "        self.idade = idade\n",
    "        \n",
    "    # Outros Métodos\n",
    "    def apresentar(self):\n",
    "        print(\"Olá, meu nome é\", self.nome, \"e tenho\", self.idade, \"anos.\")\n",
    "\n",
    "\n",
    "# Criando um objeto da classe Pessoa\n",
    "pessoa1 = Pessoa(\"Priscila\", 29)\n",
    "\n",
    "# Chamando o método apresentar() do objeto\n",
    "pessoa1.apresentar()"
   ]
  },
  {
   "cell_type": "code",
   "execution_count": 15,
   "metadata": {},
   "outputs": [
    {
     "data": {
      "text/plain": [
       "'Priscila'"
      ]
     },
     "execution_count": 15,
     "metadata": {},
     "output_type": "execute_result"
    }
   ],
   "source": [
    "# Acessar um atributo do objeto criado\n",
    "pessoa1.nome"
   ]
  },
  {
   "cell_type": "code",
   "execution_count": 16,
   "metadata": {},
   "outputs": [
    {
     "data": {
      "text/plain": [
       "__main__.Pessoa"
      ]
     },
     "execution_count": 16,
     "metadata": {},
     "output_type": "execute_result"
    }
   ],
   "source": [
    "type(pessoa1)"
   ]
  },
  {
   "cell_type": "markdown",
   "metadata": {},
   "source": [
    "Obs: Quando você acessa `__main__` ao verificar o tipo de uma classe em Python, isso significa que a classe foi definida no arquivo principal que está sendo executado. Em Python, o arquivo principal que está sendo executado é considerado o módulo principal. Quando você define uma classe dentro deste módulo principal e depois a acessa em outro lugar do código, o tipo retornado incluirá `__main__` para indicar que a classe foi definida no módulo principal.\n",
    "\n"
   ]
  },
  {
   "cell_type": "markdown",
   "metadata": {},
   "source": [
    "### Tudo é Objeto \n",
    "\n",
    "Em Python, tudo é um objeto. Isso inclui números, strings, listas, funções e até mesmo classes. Em Python, cada objeto possui um tipo (classe) e métodos associados a esse tipo que podem ser acessados usando a notação de ponto. Por exemplo, você pode chamar métodos em objetos do tipo str (string) para manipular e trabalhar com strings, assim como pode chamar métodos em objetos do tipo list (lista) para manipular listas.\n",
    "\n",
    "\n",
    "Em Python, `list` é uma classe embutida que define o tipo de objeto lista. Quando você cria uma lista usando a sintaxe `[]` ou `list()`, você está na verdade criando uma instância dessa classe. \n",
    "Essa instância é um objeto que contém os elementos que você especificou na lista. Como `list` é uma classe, ela possui métodos embutidos que podem ser usados para manipular e interagir com listas, como `append()`, `remove()`, `sort()`, etc...\n",
    "\n",
    " Portanto, em Python, quando você trabalha com listas, está trabalhando com objetos do tipo `list`, que são instâncias da classe `list`."
   ]
  },
  {
   "cell_type": "code",
   "execution_count": 40,
   "metadata": {},
   "outputs": [
    {
     "data": {
      "text/plain": [
       "list"
      ]
     },
     "execution_count": 40,
     "metadata": {},
     "output_type": "execute_result"
    }
   ],
   "source": [
    "# Criando uma instancia da classe list\n",
    "list_num = [\"Data\", \"Science\", \"Tudo\", \"Objeto\"]\n",
    "\n",
    "type(list_num)"
   ]
  },
  {
   "cell_type": "markdown",
   "metadata": {},
   "source": [
    "Outros exemplos de classes pré definidas são:"
   ]
  },
  {
   "cell_type": "code",
   "execution_count": 41,
   "metadata": {},
   "outputs": [
    {
     "name": "stdout",
     "output_type": "stream",
     "text": [
      "<class 'int'>\n",
      "<class 'tuple'>\n",
      "<class 'dict'>\n",
      "<class 'str'>\n"
     ]
    }
   ],
   "source": [
    "\n",
    "print(type(10)) # Numero Inteiro\n",
    "print(type(())) # Tuplas\n",
    "print(type({})) # Dicionarios\n",
    "print(type('a')) # Strings "
   ]
  },
  {
   "cell_type": "markdown",
   "metadata": {},
   "source": [
    "### Funções para manipular atributos criados"
   ]
  },
  {
   "cell_type": "code",
   "execution_count": 43,
   "metadata": {},
   "outputs": [],
   "source": [
    "class Funcionarios:\n",
    "\n",
    "    def __init__(self, nome, salario, cargo):\n",
    "        self.nome = nome\n",
    "        self.salario = salario\n",
    "        self.cargo = cargo\n",
    "\n",
    "    def listaFuncionario(self):\n",
    "        print(\"Funcionario(a):\", self.nome)\n",
    "        print(\"Salario:\", self.salario)\n",
    "        print(\"Cargo:\", self.cargo)\n",
    "\n",
    "# Criando uma instancia da classe Funcionarios\n",
    "funcionario1 = Funcionarios(\"Caroline\", 5000, \"Contadora\")\n",
    "\n",
    "funcionario1"
   ]
  },
  {
   "cell_type": "code",
   "execution_count": 46,
   "metadata": {},
   "outputs": [
    {
     "data": {
      "text/plain": [
       "True"
      ]
     },
     "execution_count": 46,
     "metadata": {},
     "output_type": "execute_result"
    }
   ],
   "source": [
    "hasattr(funcionario1, \"nome\") # Verifica se instancia tem o atributo"
   ]
  },
  {
   "cell_type": "code",
   "execution_count": 47,
   "metadata": {},
   "outputs": [],
   "source": [
    "setattr(funcionario1, \"salario\", 5500) # muda o atributo"
   ]
  },
  {
   "cell_type": "code",
   "execution_count": 48,
   "metadata": {},
   "outputs": [
    {
     "data": {
      "text/plain": [
       "5500"
      ]
     },
     "execution_count": 48,
     "metadata": {},
     "output_type": "execute_result"
    }
   ],
   "source": [
    "getattr(funcionario1, \"salario\") # Busca o valor do atributo"
   ]
  },
  {
   "cell_type": "code",
   "execution_count": 49,
   "metadata": {},
   "outputs": [],
   "source": [
    "delattr(funcionario1, \"salario\") # Deleta o atributo\n",
    "hasattr(funcionario1, \"salario\") "
   ]
  },
  {
   "cell_type": "code",
   "execution_count": 112,
   "metadata": {},
   "outputs": [
    {
     "data": {
      "text/plain": [
       "True"
      ]
     },
     "execution_count": 112,
     "metadata": {},
     "output_type": "execute_result"
    }
   ],
   "source": [
    "isinstance(funcionario1, Funcionarios) # Verifica se um objeto pertence a uma instancia"
   ]
  },
  {
   "cell_type": "markdown",
   "metadata": {},
   "source": [
    "## Trabalhando com métodos \n",
    "\n",
    "Em Python, um método é uma função definida dentro de uma classe. Métodos são usados para descrever o comportamento ou as ações que os objetos dessa classe podem realizar. Eles operam nos dados do objeto e podem acessar e modificar seus atributos.\n",
    "\n",
    "O **init** é um método especial, chamado quando o objeto é criado a partir de alguma classse.\n"
   ]
  },
  {
   "cell_type": "code",
   "execution_count": 70,
   "metadata": {},
   "outputs": [
    {
     "data": {
      "text/plain": [
       "78.5"
      ]
     },
     "execution_count": 70,
     "metadata": {},
     "output_type": "execute_result"
    }
   ],
   "source": [
    "# Criano uma classe chamada Circulo\n",
    "class Circulo():\n",
    "\n",
    "    pi = 3.14\n",
    "\n",
    "    # Quando um objeto dessa classe for criado, esse método será executado e o valor defaul do raio é 5\n",
    "    def __init__(self, raio = 5):\n",
    "        self.raio = raio\n",
    "    \n",
    "    # Podemos criar metodos para calcular a area\n",
    "    def calcularArea(self):\n",
    "        return (self.raio * self.raio) * Circulo.pi\n",
    "    \n",
    "    # Metodo para trocar o valor do raio\n",
    "    def setRaio(self, novo_raio):\n",
    "        self.raio = novo_raio\n",
    "\n",
    "    # Metodo para acessar o valor do raio\n",
    "    def getRaio(self):\n",
    "        return self.raio\n",
    "\n",
    "    \n",
    "circ1 = Circulo()\n",
    "circ1.calcularArea()\n",
    "\n"
   ]
  },
  {
   "cell_type": "code",
   "execution_count": 71,
   "metadata": {},
   "outputs": [
    {
     "data": {
      "text/plain": [
       "5"
      ]
     },
     "execution_count": 71,
     "metadata": {},
     "output_type": "execute_result"
    }
   ],
   "source": [
    "circ1.getRaio()"
   ]
  },
  {
   "cell_type": "code",
   "execution_count": 74,
   "metadata": {},
   "outputs": [
    {
     "data": {
      "text/plain": [
       "29"
      ]
     },
     "execution_count": 74,
     "metadata": {},
     "output_type": "execute_result"
    }
   ],
   "source": [
    "# Criando o objeto circulo, passando o parametro do raio\n",
    "circ1 = Circulo(29)\n",
    "circ1.getRaio()"
   ]
  },
  {
   "cell_type": "markdown",
   "metadata": {},
   "source": [
    "## Herança\n",
    "\n",
    "A herança é um conceito que permite que uma classe (chamada classe filha ou subclasse) herde atributos e métodos de outra classe (chamada classe pai ou superclasse). Isso significa que a classe filha pode usar todos os atributos e métodos da classe pai, além de poder adicionar seus próprios atributos e métodos ou até mesmo substituir os métodos existentes. \n",
    "\n",
    "A herança é estabelecida usando a seguinte sintaxe:\n",
    "\n",
    "```python\n",
    "class ClasseFilha(ClassePai):\n",
    "```\n",
    "\n",
    "Neste exemplo, `ClasseFilha` herda da `ClassePai`. A classe filha pode acessar os atributos e métodos da classe pai. \n",
    "\n",
    "Podemos usar um framework, como o pytorch, e herdar as classes para criação de novas classes.\n",
    "\n",
    "Na herança, uma subclasse pode herdar os atributos e métodos da puperclasse e substitui-los ou estendê-los, a subclasse pode ter um método com o mesmo nome da sperclasse, porém com um comportamento diferente."
   ]
  },
  {
   "cell_type": "code",
   "execution_count": 88,
   "metadata": {},
   "outputs": [],
   "source": [
    "# Criando a super-classe Animal\n",
    "class Animal:\n",
    "    def __init__(self, nome):\n",
    "        self.nome = nome\n",
    "\n",
    "    def emitir_som(self):\n",
    "        print(\"O animal faz um som.\")\n",
    "\n",
    "    def comer(self):\n",
    "        print(\"Hora de comer\")\n",
    "\n",
    "\n",
    "# Criando uma subclasse Gato a partir da classe Animal\n",
    "class Gato(Animal):\n",
    "\n",
    "    # Vai sobreescrever o metodo emitir som para a subclasse Gato\n",
    "    def emitir_som(self):\n",
    "        print(\"O gato mia.\")\n",
    "\n",
    "    # Criar um novo metodo para o gato\n",
    "    def correr(self):\n",
    "        print(\"Gato corre\")"
   ]
  },
  {
   "cell_type": "code",
   "execution_count": 89,
   "metadata": {},
   "outputs": [
    {
     "data": {
      "text/plain": [
       "'Snow'"
      ]
     },
     "execution_count": 89,
     "metadata": {},
     "output_type": "execute_result"
    }
   ],
   "source": [
    "gato1 = Gato(\"Snow\")\n",
    "gato1.nome"
   ]
  },
  {
   "cell_type": "code",
   "execution_count": 91,
   "metadata": {},
   "outputs": [
    {
     "name": "stdout",
     "output_type": "stream",
     "text": [
      "O gato mia.\n",
      "Hora de comer\n",
      "Gato corre\n"
     ]
    }
   ],
   "source": [
    "gato1.emitir_som()\n",
    "gato1.comer()\n",
    "gato1.correr()"
   ]
  },
  {
   "cell_type": "markdown",
   "metadata": {},
   "source": [
    "Quando você herda de uma classe em Python e deseja aproveitar o construtor **init** da superclasse na sua subclasse, você pode chamar explicitamente o método init da superclasse dentro do init da subclasse usando\n",
    "\n",
    " ```python\n",
    " super().__init__(atributo1, atributo2)\n",
    " ```\n",
    " \n",
    " Isso permite que você inicialize os atributos da superclasse na subclasse e, opcionalmente, adicione novos atributos específicos da subclasse. Aqui está como fazer:"
   ]
  },
  {
   "cell_type": "code",
   "execution_count": 96,
   "metadata": {},
   "outputs": [],
   "source": [
    "# Super Classe \n",
    "class Veiculo:\n",
    "\n",
    "    def __init__(self, marca, modelo):\n",
    "        self.marca = marca\n",
    "        self.modelo = modelo\n",
    "\n",
    "    def descricao(self):\n",
    "        return f\"Veículo: {self.marca} {self.modelo}\"\n",
    "\n",
    "\n",
    "class Carro(Veiculo):\n",
    "\n",
    "    def __init__(self, marca, modelo, cor):\n",
    "        \n",
    "        # Pede para executar o construtor da super-classe\n",
    "        super().__init__(marca, modelo) \n",
    "\n",
    "        # Executa os atributos próprios da sub-classe\n",
    "        self.cor = cor\n",
    "\n",
    "    def descricao(self):\n",
    "        return f\"Carro: {self.marca} {self.modelo}, Cor: {self.cor}\"\n",
    "\n",
    "\n",
    "class Moto(Veiculo):\n",
    "    def __init__(self, marca, modelo, cilindradas):\n",
    "        super().__init__(marca, modelo)\n",
    "        self.cilindradas = cilindradas\n",
    "\n",
    "    def descricao(self):\n",
    "        return f\"Moto: {self.marca} {self.modelo}, Cilindradas: {self.cilindradas}\"\n"
   ]
  },
  {
   "cell_type": "code",
   "execution_count": 94,
   "metadata": {},
   "outputs": [],
   "source": [
    "# Criando instâncias das classes derivadas\n",
    "carro = Carro(\"Toyota\", \"Corolla\", \"Azul\")\n",
    "moto = Moto(\"Honda\", \"CBR 1000\", \"1000\")"
   ]
  },
  {
   "cell_type": "code",
   "execution_count": 95,
   "metadata": {},
   "outputs": [
    {
     "name": "stdout",
     "output_type": "stream",
     "text": [
      "Carro: Toyota Corolla, Cor: Azul\n",
      "Moto: Honda CBR 1000, Cilindradas: 1000\n"
     ]
    }
   ],
   "source": [
    "# Chamando os métodos\n",
    "print(carro.descricao())  \n",
    "print(moto.descricao()) "
   ]
  },
  {
   "cell_type": "markdown",
   "metadata": {},
   "source": [
    "## Polimorfismo\n",
    "\n",
    "O polimorfismo se refere à capacidade de objetos de diferentes classes serem tratados de forma uniforme. Isso significa que um mesmo método pode ser utilizado de maneira semelhante em objetos de classes diferentes, produzindo comportamentos distintos dependendo do tipo do objeto.\n",
    "\n",
    "Com o Polimorfismo, os mesmos atributos e métodos podem ser utilizados em objetos distintos, porém, com implementações lógicas diferentes."
   ]
  },
  {
   "cell_type": "code",
   "execution_count": 97,
   "metadata": {},
   "outputs": [
    {
     "name": "stdout",
     "output_type": "stream",
     "text": [
      "Miau\n",
      "Au Au\n"
     ]
    }
   ],
   "source": [
    "class Animal:\n",
    "    def fazer_som(self):\n",
    "        pass\n",
    "\n",
    "class Gato(Animal):\n",
    "    def fazer_som(self):\n",
    "        return \"Miau\"\n",
    "\n",
    "class Cachorro(Animal):\n",
    "    def fazer_som(self):\n",
    "        return \"Au Au\"\n",
    "\n",
    "# Função genérica que recebe um animal e faz-o emitir um som\n",
    "def fazer_barulho(animal):\n",
    "    return animal.fazer_som()\n",
    "\n",
    "# Criando instâncias das classes\n",
    "gato = Gato()\n",
    "cachorro = Cachorro()\n",
    "\n",
    "# Chamando a função com diferentes tipos de animais\n",
    "print(fazer_barulho(gato))      # Saída: Miau\n",
    "print(fazer_barulho(cachorro))  # Saída: Au Au"
   ]
  },
  {
   "cell_type": "markdown",
   "metadata": {},
   "source": [
    "Outro exemplo com Veiculos:"
   ]
  },
  {
   "cell_type": "code",
   "execution_count": 107,
   "metadata": {},
   "outputs": [],
   "source": [
    "# Super-Classe\n",
    "class Veiculo:\n",
    "\n",
    "    def __init__(self, marca, modelo):\n",
    "        self.marca = marca\n",
    "        self.modelo = modelo\n",
    "\n",
    "    def acelerar(self):\n",
    "        pass\n",
    "\n",
    "    def frear(self):\n",
    "        pass"
   ]
  },
  {
   "cell_type": "code",
   "execution_count": 125,
   "metadata": {},
   "outputs": [],
   "source": [
    "# Subclasses\n",
    "\n",
    "## Subclasse Carro\n",
    "class Carro(Veiculo):\n",
    "\n",
    "    def acelerar(self):\n",
    "        print(\"Carro acelerando!\")\n",
    "\n",
    "    def frear(self):\n",
    "        print(\"Carro freando...\")\n",
    "\n",
    "## Subclasse Moto\n",
    "class Moto(Veiculo):\n",
    "\n",
    "    def acelerar(self):\n",
    "        print(\"Moto acelerando!\")\n",
    "\n",
    "    def frear(self):\n",
    "        print(\"Moto freando...\")\n",
    "\n",
    "## Subclasse Aviao\n",
    "class Aviao(Veiculo):\n",
    "\n",
    "    def acelerar(self):\n",
    "        print(\"Avião acelerando!\")\n",
    "\n",
    "    def frear(self):\n",
    "        print(\"Avião freando...\")\n",
    "\n",
    "    def decolar(self):\n",
    "        print(\"Avião decolando...\")\n"
   ]
  },
  {
   "cell_type": "code",
   "execution_count": 116,
   "metadata": {},
   "outputs": [],
   "source": [
    "carro = Carro(\"Porche\", \"Turbo\")\n",
    "\n",
    "lista_veiculos = [carro, Moto(\"Honda\", \"CB 1000R\"), Aviao(\"Boeing\", \"757\")]"
   ]
  },
  {
   "cell_type": "code",
   "execution_count": 126,
   "metadata": {},
   "outputs": [
    {
     "name": "stdout",
     "output_type": "stream",
     "text": [
      "Carro acelerando!\n",
      "Carro freiando...\n",
      "---\n",
      "Moto acelerando!\n",
      "Moto freiando...\n",
      "---\n",
      "Avião acelerando!\n",
      "Avião freiando...\n",
      "---\n"
     ]
    }
   ],
   "source": [
    "for veiculo in lista_veiculos:\n",
    "\n",
    "    veiculo.acelerar()\n",
    "\n",
    "    if isinstance(veiculo, Aviao):\n",
    "        veiculo.decolar()\n",
    "        \n",
    "    veiculo.frear()\n",
    "\n",
    "    print(\"---\")\n"
   ]
  }
 ],
 "metadata": {
  "kernelspec": {
   "display_name": "base",
   "language": "python",
   "name": "python3"
  },
  "language_info": {
   "codemirror_mode": {
    "name": "ipython",
    "version": 3
   },
   "file_extension": ".py",
   "mimetype": "text/x-python",
   "name": "python",
   "nbconvert_exporter": "python",
   "pygments_lexer": "ipython3",
   "version": "3.9.13"
  }
 },
 "nbformat": 4,
 "nbformat_minor": 2
}
