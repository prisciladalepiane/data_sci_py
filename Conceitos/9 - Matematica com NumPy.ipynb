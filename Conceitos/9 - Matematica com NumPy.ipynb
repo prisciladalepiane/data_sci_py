{
 "cells": [
  {
   "cell_type": "markdown",
   "metadata": {},
   "source": [
    "# Matemática e Matrizes com NumPy\n",
    "\n",
    "\n",
    "O NumPy (_numerical python_) é uma biblioteca  usada para manipulação de arrays multidimensionais e matrizes, além de fornecer funções matemáticas de alto nível para operações com esses arrays.\n",
    "\n",
    "https://numpy.org\n",
    "\n",
    "O pacote NumPy já está instalado com o anaconda, para instalar uma versão exata do pacote usar:\n",
    "\n",
    "`!pip install numpy==1.21.5`\n",
    "\n",
    "\n",
    "\n",
    "\n"
   ]
  },
  {
   "cell_type": "code",
   "execution_count": 117,
   "metadata": {},
   "outputs": [
    {
     "data": {
      "text/plain": [
       "'1.21.5'"
      ]
     },
     "execution_count": 117,
     "metadata": {},
     "output_type": "execute_result"
    }
   ],
   "source": [
    "import numpy as np \n",
    "\n",
    "np.__version__"
   ]
  },
  {
   "cell_type": "markdown",
   "metadata": {},
   "source": [
    "## Arrays\n",
    "\n",
    "Um array NumPy é uma estrutura de dados multidimensional que armazena elementos do mesmo tipo, oferecendo eficiência computacional e funcionalidades para manipulação avançada de dados numéricos.\n",
    "\n",
    "### Criando um array com Numpy:"
   ]
  },
  {
   "cell_type": "code",
   "execution_count": 118,
   "metadata": {},
   "outputs": [
    {
     "data": {
      "text/plain": [
       "numpy.ndarray"
      ]
     },
     "execution_count": 118,
     "metadata": {},
     "output_type": "execute_result"
    }
   ],
   "source": [
    "arr1 = np.array([10,20,30,40,50,60,70,75])\n",
    "\n",
    "type(arr1)"
   ]
  },
  {
   "cell_type": "code",
   "execution_count": 119,
   "metadata": {},
   "outputs": [
    {
     "data": {
      "text/plain": [
       "20"
      ]
     },
     "execution_count": 119,
     "metadata": {},
     "output_type": "execute_result"
    }
   ],
   "source": [
    "# A indexacao no array começa com 0\n",
    "arr1[1]"
   ]
  },
  {
   "cell_type": "code",
   "execution_count": 120,
   "metadata": {},
   "outputs": [
    {
     "data": {
      "text/plain": [
       "array([10, 20, 30, 40])"
      ]
     },
     "execution_count": 120,
     "metadata": {},
     "output_type": "execute_result"
    }
   ],
   "source": [
    "arr1[0:4]"
   ]
  },
  {
   "cell_type": "code",
   "execution_count": 121,
   "metadata": {},
   "outputs": [
    {
     "data": {
      "text/plain": [
       "array([10, 20, 30, 40, 50])"
      ]
     },
     "execution_count": 121,
     "metadata": {},
     "output_type": "execute_result"
    }
   ],
   "source": [
    "# Inclui o indice 4\n",
    "arr1[0:4+1]"
   ]
  },
  {
   "cell_type": "code",
   "execution_count": 122,
   "metadata": {},
   "outputs": [
    {
     "data": {
      "text/plain": [
       "array([ True,  True,  True,  True,  True,  True,  True, False])"
      ]
     },
     "execution_count": 122,
     "metadata": {},
     "output_type": "execute_result"
    }
   ],
   "source": [
    "#cria um array de booleanos\n",
    "(arr1 % 2 == 0)"
   ]
  },
  {
   "cell_type": "code",
   "execution_count": 123,
   "metadata": {},
   "outputs": [
    {
     "data": {
      "text/plain": [
       "array([10, 20, 30, 40, 50, 60, 70])"
      ]
     },
     "execution_count": 123,
     "metadata": {},
     "output_type": "execute_result"
    }
   ],
   "source": [
    "# Retorna apenas numeros pares\n",
    "arr1[(arr1 % 2 == 0)]"
   ]
  },
  {
   "cell_type": "code",
   "execution_count": 124,
   "metadata": {},
   "outputs": [
    {
     "name": "stdout",
     "output_type": "stream",
     "text": [
      "Operação não permitida\n",
      "int32\n"
     ]
    }
   ],
   "source": [
    "# O array suporta apenas um tipo de elemento\n",
    "try: \n",
    "    arr1[0] = \"Elemento texto\"\n",
    "except: \n",
    "    print(\"Operação não permitida\")\n",
    "\n",
    "# Verifica o tipo de dados do array\n",
    "print(arr1.dtype)"
   ]
  },
  {
   "cell_type": "code",
   "execution_count": 125,
   "metadata": {},
   "outputs": [
    {
     "data": {
      "text/plain": [
       "dtype('float32')"
      ]
     },
     "execution_count": 125,
     "metadata": {},
     "output_type": "execute_result"
    }
   ],
   "source": [
    "# Para forçar um tipo de dados\n",
    "x = np.array([11,12], dtype = np.float32)\n",
    "\n",
    "x.dtype"
   ]
  },
  {
   "cell_type": "markdown",
   "metadata": {},
   "source": [
    "## Métodos para arrays em NumPy"
   ]
  },
  {
   "cell_type": "code",
   "execution_count": 126,
   "metadata": {},
   "outputs": [
    {
     "data": {
      "text/plain": [
       "array([ 10,  30,  60, 100, 150, 210, 280, 355], dtype=int32)"
      ]
     },
     "execution_count": 126,
     "metadata": {},
     "output_type": "execute_result"
    }
   ],
   "source": [
    "# Soma acumulada\n",
    "arr1.cumsum()"
   ]
  },
  {
   "cell_type": "code",
   "execution_count": 127,
   "metadata": {},
   "outputs": [
    {
     "data": {
      "text/plain": [
       "array([ 10,  30,  60, 100, 150, 210, 280, 355], dtype=int32)"
      ]
     },
     "execution_count": 127,
     "metadata": {},
     "output_type": "execute_result"
    }
   ],
   "source": [
    "# Produto Acumulado\n",
    "arr1.cumsum()"
   ]
  },
  {
   "cell_type": "code",
   "execution_count": 128,
   "metadata": {},
   "outputs": [
    {
     "data": {
      "text/plain": [
       "44.375"
      ]
     },
     "execution_count": 128,
     "metadata": {},
     "output_type": "execute_result"
    }
   ],
   "source": [
    "# Calcula a Média\n",
    "arr1.mean()"
   ]
  },
  {
   "cell_type": "code",
   "execution_count": 129,
   "metadata": {},
   "outputs": [
    {
     "data": {
      "text/plain": [
       "array([ 0,  5, 10, 15, 20, 25, 30, 35, 40, 45])"
      ]
     },
     "execution_count": 129,
     "metadata": {},
     "output_type": "execute_result"
    }
   ],
   "source": [
    "# Cria uma seuqencia\n",
    "arr2 = np.arange(0,50,5)\n",
    "arr2"
   ]
  },
  {
   "cell_type": "code",
   "execution_count": 130,
   "metadata": {},
   "outputs": [
    {
     "data": {
      "text/plain": [
       "(10,)"
      ]
     },
     "execution_count": 130,
     "metadata": {},
     "output_type": "execute_result"
    }
   ],
   "source": [
    "np.shape(arr2)"
   ]
  },
  {
   "cell_type": "code",
   "execution_count": 131,
   "metadata": {},
   "outputs": [
    {
     "name": "stdout",
     "output_type": "stream",
     "text": [
      "[0. 0. 0. 0. 0. 0. 0. 0. 0. 0.]\n"
     ]
    }
   ],
   "source": [
    "# Array preenchido com zeros\n",
    "arr0 = np.zeros(10)\n",
    "\n",
    "print(arr0)"
   ]
  },
  {
   "cell_type": "code",
   "execution_count": 132,
   "metadata": {},
   "outputs": [],
   "source": [
    "# Cria uma matriz identidade de ordem 3\n",
    "#np.eye(3)"
   ]
  },
  {
   "cell_type": "code",
   "execution_count": 133,
   "metadata": {},
   "outputs": [
    {
     "data": {
      "text/plain": [
       "array([[1, 0, 0, 0],\n",
       "       [0, 2, 0, 0],\n",
       "       [0, 0, 3, 0],\n",
       "       [0, 0, 0, 4]])"
      ]
     },
     "execution_count": 133,
     "metadata": {},
     "output_type": "execute_result"
    }
   ],
   "source": [
    "# Matriz diagonal com valores determinados \n",
    "np.diag(np.array([1,2,3,4]))"
   ]
  },
  {
   "cell_type": "code",
   "execution_count": 134,
   "metadata": {},
   "outputs": [
    {
     "name": "stdout",
     "output_type": "stream",
     "text": [
      "[ 0.   2.5  5.   7.5 10. ]\n"
     ]
    }
   ],
   "source": [
    "# Cria 5 elementos de 0 a 10 distribuidos linearmente\n",
    "print(np.linspace(0, 10, 5))"
   ]
  },
  {
   "cell_type": "code",
   "execution_count": 135,
   "metadata": {},
   "outputs": [
    {
     "name": "stdout",
     "output_type": "stream",
     "text": [
      "[1.00000000e+00 3.16227766e+02 1.00000000e+05 3.16227766e+07\n",
      " 1.00000000e+10]\n"
     ]
    }
   ],
   "source": [
    "# Cria 5 elementos de 0 a 10 espaçados em escala logarítmica\n",
    "print(np.logspace(0, 10, 5))"
   ]
  },
  {
   "cell_type": "markdown",
   "metadata": {},
   "source": [
    "## Manipulando Matrizes\n",
    "\n",
    "Lista de listas"
   ]
  },
  {
   "cell_type": "code",
   "execution_count": 136,
   "metadata": {},
   "outputs": [
    {
     "name": "stdout",
     "output_type": "stream",
     "text": [
      "[[1 2 3]\n",
      " [4 5 6]]\n"
     ]
    }
   ],
   "source": [
    "arr1 = np.array([[1,2,3],\n",
    "                 [4,5,6]])\n",
    "\n",
    "print(arr1)"
   ]
  },
  {
   "cell_type": "code",
   "execution_count": 137,
   "metadata": {},
   "outputs": [
    {
     "data": {
      "text/plain": [
       "(2, 3)"
      ]
     },
     "execution_count": 137,
     "metadata": {},
     "output_type": "execute_result"
    }
   ],
   "source": [
    "arr1.shape"
   ]
  },
  {
   "cell_type": "code",
   "execution_count": 138,
   "metadata": {},
   "outputs": [
    {
     "name": "stdout",
     "output_type": "stream",
     "text": [
      "[[1 2 3]\n",
      " [4 5 6]]\n"
     ]
    }
   ],
   "source": [
    "arr2 = np.ones((2,3))\n",
    "\n",
    "print(arr1)"
   ]
  },
  {
   "cell_type": "code",
   "execution_count": 139,
   "metadata": {},
   "outputs": [
    {
     "name": "stdout",
     "output_type": "stream",
     "text": [
      "[[29  7 94]\n",
      " [16 12 70]\n",
      " [30  5  4]]\n"
     ]
    }
   ],
   "source": [
    "lista = [[29,7,94], [16,12,70], [30, 5, 4]]\n",
    "\n",
    "# Cria uma matriz apartir da lista\n",
    "mt1 = np.matrix(lista)\n",
    "\n",
    "print(mt1)"
   ]
  },
  {
   "cell_type": "code",
   "execution_count": 140,
   "metadata": {},
   "outputs": [
    {
     "data": {
      "text/plain": [
       "(3, 3)"
      ]
     },
     "execution_count": 140,
     "metadata": {},
     "output_type": "execute_result"
    }
   ],
   "source": [
    "mt1.shape"
   ]
  },
  {
   "cell_type": "code",
   "execution_count": 141,
   "metadata": {},
   "outputs": [
    {
     "data": {
      "text/plain": [
       "9"
      ]
     },
     "execution_count": 141,
     "metadata": {},
     "output_type": "execute_result"
    }
   ],
   "source": [
    "mt1.size"
   ]
  },
  {
   "cell_type": "code",
   "execution_count": 142,
   "metadata": {},
   "outputs": [
    {
     "data": {
      "text/plain": [
       "numpy.matrix"
      ]
     },
     "execution_count": 142,
     "metadata": {},
     "output_type": "execute_result"
    }
   ],
   "source": [
    "type(mt1)"
   ]
  },
  {
   "cell_type": "code",
   "execution_count": 143,
   "metadata": {},
   "outputs": [
    {
     "name": "stdout",
     "output_type": "stream",
     "text": [
      "int32\n",
      "4\n",
      "36\n"
     ]
    }
   ],
   "source": [
    "print(mt1.dtype)\n",
    "print(mt1.itemsize) # Tamanho de cada item em bytes\n",
    "print(mt1.nbytes) # Tamanho total em bytes"
   ]
  },
  {
   "cell_type": "code",
   "execution_count": 144,
   "metadata": {},
   "outputs": [
    {
     "name": "stdout",
     "output_type": "stream",
     "text": [
      "float64\n",
      "8\n",
      "72\n"
     ]
    }
   ],
   "source": [
    "# Especifica que é do tipo float\n",
    "mt2 = np.matrix(lista, dtype = np.float64)\n",
    "\n",
    "print(mt2.dtype)\n",
    "print(mt2.itemsize) \n",
    "print(mt2.nbytes) "
   ]
  },
  {
   "cell_type": "markdown",
   "metadata": {},
   "source": [
    "## Manipulando objetos com 3 ou mais dimensões"
   ]
  },
  {
   "cell_type": "code",
   "execution_count": 145,
   "metadata": {},
   "outputs": [
    {
     "name": "stdout",
     "output_type": "stream",
     "text": [
      "[[[ 1  2  3  4]\n",
      "  [ 5  6  7  8]\n",
      "  [ 9 10 11 12]]\n",
      "\n",
      " [[13 14 15 16]\n",
      "  [17 18 19 20]\n",
      "  [21 22 23 24]]]\n",
      "Shape do array: (2, 3, 4)\n"
     ]
    }
   ],
   "source": [
    "# Criando um array de 3 dimensões com inteiros\n",
    "arr_3d = np.array([[[1, 2, 3, 4], \n",
    "                 [5, 6, 7, 8], \n",
    "                 [9, 10, 11, 12]],\n",
    "\n",
    "                [[13, 14, 15, 16], \n",
    "                 [17, 18, 19, 20], \n",
    "                 [21, 22, 23, 24]]])\n",
    "\n",
    "print(arr_3d)\n",
    "print(\"Shape do array:\", arr_3d.shape)"
   ]
  },
  {
   "cell_type": "code",
   "execution_count": 146,
   "metadata": {},
   "outputs": [
    {
     "data": {
      "text/plain": [
       "3"
      ]
     },
     "execution_count": 146,
     "metadata": {},
     "output_type": "execute_result"
    }
   ],
   "source": [
    "# Numero de dimensoes\n",
    "arr_3d.ndim"
   ]
  },
  {
   "cell_type": "code",
   "execution_count": 147,
   "metadata": {},
   "outputs": [
    {
     "data": {
      "text/plain": [
       "10"
      ]
     },
     "execution_count": 147,
     "metadata": {},
     "output_type": "execute_result"
    }
   ],
   "source": [
    "# Indexação\n",
    "arr_3d[0,2,1]"
   ]
  },
  {
   "cell_type": "markdown",
   "metadata": {},
   "source": [
    "## Manipulando arquivos com NumPy"
   ]
  },
  {
   "cell_type": "code",
   "execution_count": 175,
   "metadata": {},
   "outputs": [],
   "source": [
    "import os\n",
    "\n",
    "filename = os.path.join(\"arquivos/dataset.csv\")"
   ]
  },
  {
   "cell_type": "code",
   "execution_count": 172,
   "metadata": {},
   "outputs": [
    {
     "name": "stdout",
     "output_type": "stream",
     "text": [
      "\"\",\"Sepal.Length\",\"Sepal.Width\",\"Petal.Length\",\"Petal.Width\",\"Species\"\n",
      "\"1\",5.1,3.5,1.4,0.2,\"setosa\"\n",
      "\"2\",4.9,3,1.4,0.2,\"setosa\"\n",
      "\"3\",4.7,3.2,1.3,0.2,\"setosa\"\n",
      "\"4\",4.6,3.1,1.5,0.2,\"setosa\"\n",
      "\"5\",5,3.6,1.4,0.2,\"setosa\"\n",
      "\"6\",5.4,3.9,1.7,0.4,\"setosa\"\n",
      "\"7\",4.6,3.4,1.4,0.3,\"setosa\"\n",
      "\"8\",5,3.4,1.5,0.2,\"setosa\"\n",
      "\"9\",4.4,2.9,1.4,0.2,\"setosa\"\n",
      "\"10\",4.9,3.1,1.5,0.1,\"setosa\"\n",
      "\"11\",5.4,3.7,1.5,0.2,\"setosa\"\n",
      "\"12\",4.8,3.4,1.6,0.2,\"setosa\"\n",
      "\"13\",4.8,3,1.4,0.1,\"setosa\"\n",
      "\"14\",4.3,3,1.1,0.1,\"setosa\"\n",
      "\"15\",5.8,4,1.2,0.2,\"setosa\"\n",
      "\"16\",5.7,4.4,1.5,0.4,\"setosa\"\n",
      "\"17\",5.4,3.9,1.3,0.4,\"setosa\"\n",
      "\"18\",5.1,3.5,1.4,0.3,\"setosa\"\n",
      "\"19\",5.7,3.8,1.7,0.3,\"setosa\"\n",
      "\"20\",5.1,3.8,1.5,0.3,\"setosa\"\n",
      "\"21\",5.4,3.4,1.7,0.2,\"setosa\"\n",
      "\"22\",5.1,3.7,1.5,0.4,\"setosa\"\n",
      "\"23\",4.6,3.6,1,0.2,\"setosa\"\n",
      "\"24\",5.1,3.3,1.7,0.5,\"setosa\"\n",
      "\"25\",4.8,3.4,1.9,0.2,\"setosa\"\n",
      "\"26\",5,3,1.6,0.2,\"setosa\"\n",
      "\"27\",5,3.4,1.6,0.4,\"setosa\"\n",
      "\"28\",5.2,3.5,1.5,0.2,\"setosa\"\n",
      "\"29\",5.2,3.4,1.4,0.2,\"setosa\"\n",
      "\"30\",4.7,3.2,1.6,0.2,\"setosa\"\n",
      "\"31\",4.8,3.1,1.6,0.2,\"setosa\"\n",
      "\"32\",5.4,3.4,1.5,0.4,\"setosa\"\n",
      "\"33\",5.2,4.1,1.5,0.1,\"setosa\"\n",
      "\"34\",5.5,4.2,1.4,0.2,\"setosa\"\n",
      "\"35\",4.9,3.1,1.5,0.2,\"setosa\"\n",
      "\"36\",5,3.2,1.2,0.2,\"setosa\"\n",
      "\"37\",5.5,3.5,1.3,0.2,\"setosa\"\n",
      "\"38\",4.9,3.6,1.4,0.1,\"setosa\"\n",
      "\"39\",4.4,3,1.3,0.2,\"setosa\"\n",
      "\"40\",5.1,3.4,1.5,0.2,\"setosa\"\n",
      "\"41\",5,3.5,1.3,0.3,\"setosa\"\n",
      "\"42\",4.5,2.3,1.3,0.3,\"setosa\"\n",
      "\"43\",4.4,3.2,1.3,0.2,\"setosa\"\n",
      "\"44\",5,3.5,1.6,0.6,\"setosa\"\n",
      "\"45\",5.1,3.8,1.9,0.4,\"setosa\"\n",
      "\"46\",4.8,3,1.4,0.3,\"setosa\"\n",
      "\"47\",5.1,3.8,1.6,0.2,\"setosa\"\n",
      "\"48\",4.6,3.2,1.4,0.2,\"setosa\"\n",
      "\"49\",5.3,3.7,1.5,0.2,\"setosa\"\n",
      "\"50\",5,3.3,1.4,0.2,\"setosa\"\n",
      "\"51\",7,3.2,4.7,1.4,\"versicolor\"\n",
      "\"52\",6.4,3.2,4.5,1.5,\"versicolor\"\n",
      "\"53\",6.9,3.1,4.9,1.5,\"versicolor\"\n",
      "\"54\",5.5,2.3,4,1.3,\"versicolor\"\n",
      "\"55\",6.5,2.8,4.6,1.5,\"versicolor\"\n",
      "\"56\",5.7,2.8,4.5,1.3,\"versicolor\"\n",
      "\"57\",6.3,3.3,4.7,1.6,\"versicolor\"\n",
      "\"58\",4.9,2.4,3.3,1,\"versicolor\"\n",
      "\"59\",6.6,2.9,4.6,1.3,\"versicolor\"\n",
      "\"60\",5.2,2.7,3.9,1.4,\"versicolor\"\n",
      "\"61\",5,2,3.5,1,\"versicolor\"\n",
      "\"62\",5.9,3,4.2,1.5,\"versicolor\"\n",
      "\"63\",6,2.2,4,1,\"versicolor\"\n",
      "\"64\",6.1,2.9,4.7,1.4,\"versicolor\"\n",
      "\"65\",5.6,2.9,3.6,1.3,\"versicolor\"\n",
      "\"66\",6.7,3.1,4.4,1.4,\"versicolor\"\n",
      "\"67\",5.6,3,4.5,1.5,\"versicolor\"\n",
      "\"68\",5.8,2.7,4.1,1,\"versicolor\"\n",
      "\"69\",6.2,2.2,4.5,1.5,\"versicolor\"\n",
      "\"70\",5.6,2.5,3.9,1.1,\"versicolor\"\n",
      "\"71\",5.9,3.2,4.8,1.8,\"versicolor\"\n",
      "\"72\",6.1,2.8,4,1.3,\"versicolor\"\n",
      "\"73\",6.3,2.5,4.9,1.5,\"versicolor\"\n",
      "\"74\",6.1,2.8,4.7,1.2,\"versicolor\"\n",
      "\"75\",6.4,2.9,4.3,1.3,\"versicolor\"\n",
      "\"76\",6.6,3,4.4,1.4,\"versicolor\"\n",
      "\"77\",6.8,2.8,4.8,1.4,\"versicolor\"\n",
      "\"78\",6.7,3,5,1.7,\"versicolor\"\n",
      "\"79\",6,2.9,4.5,1.5,\"versicolor\"\n",
      "\"80\",5.7,2.6,3.5,1,\"versicolor\"\n",
      "\"81\",5.5,2.4,3.8,1.1,\"versicolor\"\n",
      "\"82\",5.5,2.4,3.7,1,\"versicolor\"\n",
      "\"83\",5.8,2.7,3.9,1.2,\"versicolor\"\n",
      "\"84\",6,2.7,5.1,1.6,\"versicolor\"\n",
      "\"85\",5.4,3,4.5,1.5,\"versicolor\"\n",
      "\"86\",6,3.4,4.5,1.6,\"versicolor\"\n",
      "\"87\",6.7,3.1,4.7,1.5,\"versicolor\"\n",
      "\"88\",6.3,2.3,4.4,1.3,\"versicolor\"\n",
      "\"89\",5.6,3,4.1,1.3,\"versicolor\"\n",
      "\"90\",5.5,2.5,4,1.3,\"versicolor\"\n",
      "\"91\",5.5,2.6,4.4,1.2,\"versicolor\"\n",
      "\"92\",6.1,3,4.6,1.4,\"versicolor\"\n",
      "\"93\",5.8,2.6,4,1.2,\"versicolor\"\n",
      "\"94\",5,2.3,3.3,1,\"versicolor\"\n",
      "\"95\",5.6,2.7,4.2,1.3,\"versicolor\"\n",
      "\"96\",5.7,3,4.2,1.2,\"versicolor\"\n",
      "\"97\",5.7,2.9,4.2,1.3,\"versicolor\"\n",
      "\"98\",6.2,2.9,4.3,1.3,\"versicolor\"\n",
      "\"99\",5.1,2.5,3,1.1,\"versicolor\"\n",
      "\"100\",5.7,2.8,4.1,1.3,\"versicolor\"\n",
      "\"101\",6.3,3.3,6,2.5,\"virginica\"\n",
      "\"102\",5.8,2.7,5.1,1.9,\"virginica\"\n",
      "\"103\",7.1,3,5.9,2.1,\"virginica\"\n",
      "\"104\",6.3,2.9,5.6,1.8,\"virginica\"\n",
      "\"105\",6.5,3,5.8,2.2,\"virginica\"\n",
      "\"106\",7.6,3,6.6,2.1,\"virginica\"\n",
      "\"107\",4.9,2.5,4.5,1.7,\"virginica\"\n",
      "\"108\",7.3,2.9,6.3,1.8,\"virginica\"\n",
      "\"109\",6.7,2.5,5.8,1.8,\"virginica\"\n",
      "\"110\",7.2,3.6,6.1,2.5,\"virginica\"\n",
      "\"111\",6.5,3.2,5.1,2,\"virginica\"\n",
      "\"112\",6.4,2.7,5.3,1.9,\"virginica\"\n",
      "\"113\",6.8,3,5.5,2.1,\"virginica\"\n",
      "\"114\",5.7,2.5,5,2,\"virginica\"\n",
      "\"115\",5.8,2.8,5.1,2.4,\"virginica\"\n",
      "\"116\",6.4,3.2,5.3,2.3,\"virginica\"\n",
      "\"117\",6.5,3,5.5,1.8,\"virginica\"\n",
      "\"118\",7.7,3.8,6.7,2.2,\"virginica\"\n",
      "\"119\",7.7,2.6,6.9,2.3,\"virginica\"\n",
      "\"120\",6,2.2,5,1.5,\"virginica\"\n",
      "\"121\",6.9,3.2,5.7,2.3,\"virginica\"\n",
      "\"122\",5.6,2.8,4.9,2,\"virginica\"\n",
      "\"123\",7.7,2.8,6.7,2,\"virginica\"\n",
      "\"124\",6.3,2.7,4.9,1.8,\"virginica\"\n",
      "\"125\",6.7,3.3,5.7,2.1,\"virginica\"\n",
      "\"126\",7.2,3.2,6,1.8,\"virginica\"\n",
      "\"127\",6.2,2.8,4.8,1.8,\"virginica\"\n",
      "\"128\",6.1,3,4.9,1.8,\"virginica\"\n",
      "\"129\",6.4,2.8,5.6,2.1,\"virginica\"\n",
      "\"130\",7.2,3,5.8,1.6,\"virginica\"\n",
      "\"131\",7.4,2.8,6.1,1.9,\"virginica\"\n",
      "\"132\",7.9,3.8,6.4,2,\"virginica\"\n",
      "\"133\",6.4,2.8,5.6,2.2,\"virginica\"\n",
      "\"134\",6.3,2.8,5.1,1.5,\"virginica\"\n",
      "\"135\",6.1,2.6,5.6,1.4,\"virginica\"\n",
      "\"136\",7.7,3,6.1,2.3,\"virginica\"\n",
      "\"137\",6.3,3.4,5.6,2.4,\"virginica\"\n",
      "\"138\",6.4,3.1,5.5,1.8,\"virginica\"\n",
      "\"139\",6,3,4.8,1.8,\"virginica\"\n",
      "\"140\",6.9,3.1,5.4,2.1,\"virginica\"\n",
      "\"141\",6.7,3.1,5.6,2.4,\"virginica\"\n",
      "\"142\",6.9,3.1,5.1,2.3,\"virginica\"\n",
      "\"143\",5.8,2.7,5.1,1.9,\"virginica\"\n",
      "\"144\",6.8,3.2,5.9,2.3,\"virginica\"\n",
      "\"145\",6.7,3.3,5.7,2.5,\"virginica\"\n",
      "\"146\",6.7,3,5.2,2.3,\"virginica\"\n",
      "\"147\",6.3,2.5,5,1.9,\"virginica\"\n",
      "\"148\",6.5,3,5.2,2,\"virginica\"\n",
      "\"149\",6.2,3.4,5.4,2.3,\"virginica\"\n",
      "\"150\",5.9,3,5.1,1.8,\"virginica\"\n"
     ]
    }
   ],
   "source": [
    "# !more arquivos\\dataset.csv"
   ]
  },
  {
   "cell_type": "code",
   "execution_count": 192,
   "metadata": {},
   "outputs": [
    {
     "name": "stdout",
     "output_type": "stream",
     "text": [
      "[[5.1 3.5 1.4 0.2]\n",
      " [4.9 3.  1.4 0.2]\n",
      " [4.7 3.2 1.3 0.2]\n",
      " [4.6 3.1 1.5 0.2]\n",
      " [5.  3.6 1.4 0.2]\n",
      " [5.4 3.9 1.7 0.4]\n",
      " [4.6 3.4 1.4 0.3]\n",
      " [5.  3.4 1.5 0.2]\n",
      " [4.4 2.9 1.4 0.2]\n",
      " [4.9 3.1 1.5 0.1]\n",
      " [5.4 3.7 1.5 0.2]\n",
      " [4.8 3.4 1.6 0.2]\n",
      " [4.8 3.  1.4 0.1]\n",
      " [4.3 3.  1.1 0.1]\n",
      " [5.8 4.  1.2 0.2]\n",
      " [5.7 4.4 1.5 0.4]\n",
      " [5.4 3.9 1.3 0.4]\n",
      " [5.1 3.5 1.4 0.3]\n",
      " [5.7 3.8 1.7 0.3]\n",
      " [5.1 3.8 1.5 0.3]\n",
      " [5.4 3.4 1.7 0.2]\n",
      " [5.1 3.7 1.5 0.4]\n",
      " [4.6 3.6 1.  0.2]\n",
      " [5.1 3.3 1.7 0.5]\n",
      " [4.8 3.4 1.9 0.2]\n",
      " [5.  3.  1.6 0.2]\n",
      " [5.  3.4 1.6 0.4]\n",
      " [5.2 3.5 1.5 0.2]\n",
      " [5.2 3.4 1.4 0.2]\n",
      " [4.7 3.2 1.6 0.2]\n",
      " [4.8 3.1 1.6 0.2]\n",
      " [5.4 3.4 1.5 0.4]\n",
      " [5.2 4.1 1.5 0.1]\n",
      " [5.5 4.2 1.4 0.2]\n",
      " [4.9 3.1 1.5 0.2]\n",
      " [5.  3.2 1.2 0.2]\n",
      " [5.5 3.5 1.3 0.2]\n",
      " [4.9 3.6 1.4 0.1]\n",
      " [4.4 3.  1.3 0.2]\n",
      " [5.1 3.4 1.5 0.2]\n",
      " [5.  3.5 1.3 0.3]\n",
      " [4.5 2.3 1.3 0.3]\n",
      " [4.4 3.2 1.3 0.2]\n",
      " [5.  3.5 1.6 0.6]\n",
      " [5.1 3.8 1.9 0.4]\n",
      " [4.8 3.  1.4 0.3]\n",
      " [5.1 3.8 1.6 0.2]\n",
      " [4.6 3.2 1.4 0.2]\n",
      " [5.3 3.7 1.5 0.2]\n",
      " [5.  3.3 1.4 0.2]\n",
      " [7.  3.2 4.7 1.4]\n",
      " [6.4 3.2 4.5 1.5]\n",
      " [6.9 3.1 4.9 1.5]\n",
      " [5.5 2.3 4.  1.3]\n",
      " [6.5 2.8 4.6 1.5]\n",
      " [5.7 2.8 4.5 1.3]\n",
      " [6.3 3.3 4.7 1.6]\n",
      " [4.9 2.4 3.3 1. ]\n",
      " [6.6 2.9 4.6 1.3]\n",
      " [5.2 2.7 3.9 1.4]\n",
      " [5.  2.  3.5 1. ]\n",
      " [5.9 3.  4.2 1.5]\n",
      " [6.  2.2 4.  1. ]\n",
      " [6.1 2.9 4.7 1.4]\n",
      " [5.6 2.9 3.6 1.3]\n",
      " [6.7 3.1 4.4 1.4]\n",
      " [5.6 3.  4.5 1.5]\n",
      " [5.8 2.7 4.1 1. ]\n",
      " [6.2 2.2 4.5 1.5]\n",
      " [5.6 2.5 3.9 1.1]\n",
      " [5.9 3.2 4.8 1.8]\n",
      " [6.1 2.8 4.  1.3]\n",
      " [6.3 2.5 4.9 1.5]\n",
      " [6.1 2.8 4.7 1.2]\n",
      " [6.4 2.9 4.3 1.3]\n",
      " [6.6 3.  4.4 1.4]\n",
      " [6.8 2.8 4.8 1.4]\n",
      " [6.7 3.  5.  1.7]\n",
      " [6.  2.9 4.5 1.5]\n",
      " [5.7 2.6 3.5 1. ]\n",
      " [5.5 2.4 3.8 1.1]\n",
      " [5.5 2.4 3.7 1. ]\n",
      " [5.8 2.7 3.9 1.2]\n",
      " [6.  2.7 5.1 1.6]\n",
      " [5.4 3.  4.5 1.5]\n",
      " [6.  3.4 4.5 1.6]\n",
      " [6.7 3.1 4.7 1.5]\n",
      " [6.3 2.3 4.4 1.3]\n",
      " [5.6 3.  4.1 1.3]\n",
      " [5.5 2.5 4.  1.3]\n",
      " [5.5 2.6 4.4 1.2]\n",
      " [6.1 3.  4.6 1.4]\n",
      " [5.8 2.6 4.  1.2]\n",
      " [5.  2.3 3.3 1. ]\n",
      " [5.6 2.7 4.2 1.3]\n",
      " [5.7 3.  4.2 1.2]\n",
      " [5.7 2.9 4.2 1.3]\n",
      " [6.2 2.9 4.3 1.3]\n",
      " [5.1 2.5 3.  1.1]\n",
      " [5.7 2.8 4.1 1.3]\n",
      " [6.3 3.3 6.  2.5]\n",
      " [5.8 2.7 5.1 1.9]\n",
      " [7.1 3.  5.9 2.1]\n",
      " [6.3 2.9 5.6 1.8]\n",
      " [6.5 3.  5.8 2.2]\n",
      " [7.6 3.  6.6 2.1]\n",
      " [4.9 2.5 4.5 1.7]\n",
      " [7.3 2.9 6.3 1.8]\n",
      " [6.7 2.5 5.8 1.8]\n",
      " [7.2 3.6 6.1 2.5]\n",
      " [6.5 3.2 5.1 2. ]\n",
      " [6.4 2.7 5.3 1.9]\n",
      " [6.8 3.  5.5 2.1]\n",
      " [5.7 2.5 5.  2. ]\n",
      " [5.8 2.8 5.1 2.4]\n",
      " [6.4 3.2 5.3 2.3]\n",
      " [6.5 3.  5.5 1.8]\n",
      " [7.7 3.8 6.7 2.2]\n",
      " [7.7 2.6 6.9 2.3]\n",
      " [6.  2.2 5.  1.5]\n",
      " [6.9 3.2 5.7 2.3]\n",
      " [5.6 2.8 4.9 2. ]\n",
      " [7.7 2.8 6.7 2. ]\n",
      " [6.3 2.7 4.9 1.8]\n",
      " [6.7 3.3 5.7 2.1]\n",
      " [7.2 3.2 6.  1.8]\n",
      " [6.2 2.8 4.8 1.8]\n",
      " [6.1 3.  4.9 1.8]\n",
      " [6.4 2.8 5.6 2.1]\n",
      " [7.2 3.  5.8 1.6]\n",
      " [7.4 2.8 6.1 1.9]\n",
      " [7.9 3.8 6.4 2. ]\n",
      " [6.4 2.8 5.6 2.2]\n",
      " [6.3 2.8 5.1 1.5]\n",
      " [6.1 2.6 5.6 1.4]\n",
      " [7.7 3.  6.1 2.3]\n",
      " [6.3 3.4 5.6 2.4]\n",
      " [6.4 3.1 5.5 1.8]\n",
      " [6.  3.  4.8 1.8]\n",
      " [6.9 3.1 5.4 2.1]\n",
      " [6.7 3.1 5.6 2.4]\n",
      " [6.9 3.1 5.1 2.3]\n",
      " [5.8 2.7 5.1 1.9]\n",
      " [6.8 3.2 5.9 2.3]\n",
      " [6.7 3.3 5.7 2.5]\n",
      " [6.7 3.  5.2 2.3]\n",
      " [6.3 2.5 5.  1.9]\n",
      " [6.5 3.  5.2 2. ]\n",
      " [6.2 3.4 5.4 2.3]\n",
      " [5.9 3.  5.1 1.8]]\n",
      "(150, 4)\n"
     ]
    }
   ],
   "source": [
    "arr13 = np.loadtxt(filename, delimiter = ',', usecols=(1,2,3,4), skiprows = 1)\n",
    "\n",
    "print(arr13)\n",
    "print(arr13.shape)"
   ]
  },
  {
   "cell_type": "code",
   "execution_count": 196,
   "metadata": {},
   "outputs": [
    {
     "name": "stdout",
     "output_type": "stream",
     "text": [
      "[5.1 4.9 4.7 4.6 5.  5.4 4.6 5.  4.4 4.9 5.4 4.8 4.8 4.3 5.8 5.7 5.4 5.1\n",
      " 5.7 5.1 5.4 5.1 4.6 5.1 4.8 5.  5.  5.2 5.2 4.7 4.8 5.4 5.2 5.5 4.9 5.\n",
      " 5.5 4.9 4.4 5.1 5.  4.5 4.4 5.  5.1 4.8 5.1 4.6 5.3 5.  7.  6.4 6.9 5.5\n",
      " 6.5 5.7 6.3 4.9 6.6 5.2 5.  5.9 6.  6.1 5.6 6.7 5.6 5.8 6.2 5.6 5.9 6.1\n",
      " 6.3 6.1 6.4 6.6 6.8 6.7 6.  5.7 5.5 5.5 5.8 6.  5.4 6.  6.7 6.3 5.6 5.5\n",
      " 5.5 6.1 5.8 5.  5.6 5.7 5.7 6.2 5.1 5.7 6.3 5.8 7.1 6.3 6.5 7.6 4.9 7.3\n",
      " 6.7 7.2 6.5 6.4 6.8 5.7 5.8 6.4 6.5 7.7 7.7 6.  6.9 5.6 7.7 6.3 6.7 7.2\n",
      " 6.2 6.1 6.4 7.2 7.4 7.9 6.4 6.3 6.1 7.7 6.3 6.4 6.  6.9 6.7 6.9 5.8 6.8\n",
      " 6.7 6.7 6.3 6.5 6.2 5.9]\n",
      "[3.5 3.  3.2 3.1 3.6 3.9 3.4 3.4 2.9 3.1 3.7 3.4 3.  3.  4.  4.4 3.9 3.5\n",
      " 3.8 3.8 3.4 3.7 3.6 3.3 3.4 3.  3.4 3.5 3.4 3.2 3.1 3.4 4.1 4.2 3.1 3.2\n",
      " 3.5 3.6 3.  3.4 3.5 2.3 3.2 3.5 3.8 3.  3.8 3.2 3.7 3.3 3.2 3.2 3.1 2.3\n",
      " 2.8 2.8 3.3 2.4 2.9 2.7 2.  3.  2.2 2.9 2.9 3.1 3.  2.7 2.2 2.5 3.2 2.8\n",
      " 2.5 2.8 2.9 3.  2.8 3.  2.9 2.6 2.4 2.4 2.7 2.7 3.  3.4 3.1 2.3 3.  2.5\n",
      " 2.6 3.  2.6 2.3 2.7 3.  2.9 2.9 2.5 2.8 3.3 2.7 3.  2.9 3.  3.  2.5 2.9\n",
      " 2.5 3.6 3.2 2.7 3.  2.5 2.8 3.2 3.  3.8 2.6 2.2 3.2 2.8 2.8 2.7 3.3 3.2\n",
      " 2.8 3.  2.8 3.  2.8 3.8 2.8 2.8 2.6 3.  3.4 3.1 3.  3.1 3.1 3.1 2.7 3.2\n",
      " 3.3 3.  2.5 3.  3.4 3. ]\n"
     ]
    }
   ],
   "source": [
    "# Usando o argumento unpack podemos imporar cada coluna separadamente\n",
    "\n",
    "var1, var2 = np.loadtxt(filename, delimiter = ',', usecols=(1,2), skiprows = 1, unpack = True)\n",
    "\n",
    "print(var1)\n",
    "print(var2)"
   ]
  },
  {
   "cell_type": "markdown",
   "metadata": {},
   "source": [
    "## Estatísticas Básicas com NumPy"
   ]
  },
  {
   "cell_type": "code",
   "execution_count": 202,
   "metadata": {},
   "outputs": [
    {
     "data": {
      "text/plain": [
       "5.843333333333334"
      ]
     },
     "execution_count": 202,
     "metadata": {},
     "output_type": "execute_result"
    }
   ],
   "source": [
    "# Média\n",
    "np.mean(var1)"
   ]
  },
  {
   "cell_type": "code",
   "execution_count": 200,
   "metadata": {},
   "outputs": [
    {
     "data": {
      "text/plain": [
       "0.8253012917851409"
      ]
     },
     "execution_count": 200,
     "metadata": {},
     "output_type": "execute_result"
    }
   ],
   "source": [
    "# Desvio padrao\n",
    "np.std(var1)"
   ]
  },
  {
   "cell_type": "code",
   "execution_count": 201,
   "metadata": {},
   "outputs": [
    {
     "data": {
      "text/plain": [
       "0.6811222222222223"
      ]
     },
     "execution_count": 201,
     "metadata": {},
     "output_type": "execute_result"
    }
   ],
   "source": [
    "# Variancia\n",
    "np.var(var1)"
   ]
  },
  {
   "cell_type": "markdown",
   "metadata": {},
   "source": [
    "## Operações Matemáticas"
   ]
  },
  {
   "cell_type": "code",
   "execution_count": 206,
   "metadata": {},
   "outputs": [
    {
     "name": "stdout",
     "output_type": "stream",
     "text": [
      "[1 2 3 4 5 6 7 8 9]\n"
     ]
    }
   ],
   "source": [
    "arr_mat = np.arange(1,10)\n",
    "print(arr_mat)"
   ]
  },
  {
   "cell_type": "code",
   "execution_count": 207,
   "metadata": {},
   "outputs": [
    {
     "data": {
      "text/plain": [
       "45"
      ]
     },
     "execution_count": 207,
     "metadata": {},
     "output_type": "execute_result"
    }
   ],
   "source": [
    "# Soma os elementos do array\n",
    "np.sum(arr_mat)"
   ]
  },
  {
   "cell_type": "code",
   "execution_count": 209,
   "metadata": {},
   "outputs": [
    {
     "name": "stdout",
     "output_type": "stream",
     "text": [
      "[ 1  3  6 10 15 21 28 36 45]\n"
     ]
    }
   ],
   "source": [
    "print(np.cumsum(arr_mat))"
   ]
  },
  {
   "cell_type": "code",
   "execution_count": 213,
   "metadata": {},
   "outputs": [
    {
     "name": "stdout",
     "output_type": "stream",
     "text": [
      "[4 4 4]\n"
     ]
    }
   ],
   "source": [
    "# Soma de dois arrays\n",
    "\n",
    "arr1 = np.array([3,2,1])\n",
    "arr2 = np.array([1,2,3])\n",
    "\n",
    "print(\n",
    "   np.add(arr1, arr2) \n",
    ")"
   ]
  },
  {
   "cell_type": "markdown",
   "metadata": {},
   "source": [
    "### Multiplicação de matrizes\n",
    "\n",
    "**1 - Multiplicação Matricial (ou Produto de Matrizes)**\n",
    "\n",
    "Seja a matriz A:\n",
    "\n",
    "$$\n",
    "A = \\begin{bmatrix}\n",
    "1 & 2 \\\\\n",
    "3 & 4\n",
    "\\end{bmatrix}\n",
    "$$\n",
    "\n",
    "E a Matriz B:\n",
    "\n",
    "$$\n",
    "B = \\begin{bmatrix}\n",
    "5 & 6 \\\\\n",
    "7 & 8\n",
    "\\end{bmatrix}\n",
    "$$\n",
    "\n",
    "Para calcular os elementos da matriz resultante C, fazemos o produto escalar das linhas de A pelos vetores coluna de B, ou seja:\n",
    "\n",
    "$$\n",
    "A \\times B = \\begin{bmatrix}\n",
    "(1 \\times 5 + 2 \\times 7) & (1 \\times 6 + 2 \\times 8) \\\\\n",
    "(3 \\times 5 + 4 \\times 7) & (3 \\times 6 + 4 \\times 8)\n",
    "\\end{bmatrix}\n",
    "$$\n",
    "\n",
    "$$\n",
    "C = \\begin{bmatrix}\n",
    "19 & 22 \\\\\n",
    "43 & 50\n",
    "\\end{bmatrix}\n",
    "$$\n"
   ]
  },
  {
   "cell_type": "markdown",
   "metadata": {},
   "source": [
    "Neste exemplo, as matrizes A e B podem ser multiplicadas utilizando a função `np.dot()` ou o operador `@`,"
   ]
  },
  {
   "cell_type": "code",
   "execution_count": 225,
   "metadata": {},
   "outputs": [
    {
     "name": "stdout",
     "output_type": "stream",
     "text": [
      "[[19 22]\n",
      " [43 50]]\n"
     ]
    }
   ],
   "source": [
    "A = np.array([[1, 2], [3, 4]])  # Matriz 2x2\n",
    "B = np.array([[5, 6], [7, 8]])  # Matriz 2x2\n",
    "\n",
    "# Realizando a multiplicação de matrizes\n",
    "\n",
    "C = np.dot(A, B)\n",
    "\n",
    "print(C) "
   ]
  },
  {
   "cell_type": "code",
   "execution_count": 220,
   "metadata": {},
   "outputs": [
    {
     "name": "stdout",
     "output_type": "stream",
     "text": [
      "[[19 22]\n",
      " [43 50]]\n"
     ]
    }
   ],
   "source": [
    "print(A @ B)"
   ]
  },
  {
   "cell_type": "markdown",
   "metadata": {},
   "source": [
    "**2 - Multiplicação Elemento a Elemento (ou Hadamard):**\n",
    "\n",
    "A multiplicação elemento a elemento, também conhecida como multiplicação de Hadamard, é uma operação onde cada elemento de uma matriz é multiplicado pelo elemento correspondente na mesma posição em outra matriz. Isso é feito independente das dimensões das matrizes, desde que elas tenham o mesmo formato.\n",
    "\n",
    "Exemplo:\n",
    "\n"
   ]
  },
  {
   "cell_type": "markdown",
   "metadata": {},
   "source": [
    "\n",
    "Seja a matriz A:\n",
    "\n",
    "$$\n",
    " A = \\begin{bmatrix} 1 & 2 \\\\ 3 & 4 \\end{bmatrix} \n",
    "$$\n",
    "\n",
    "E a matriz B:\n",
    "\n",
    "$$\n",
    "B = \\begin{bmatrix} 5 & 6 \\\\ 7 & 8 \\end{bmatrix} \n",
    "$$\n",
    "\n",
    "A multiplicação de Hadamard de A por B é dada por:\n",
    "\n",
    "$$\n",
    " A \\circ B = \\begin{bmatrix} 1 \\times 5 & 2 \\times 6 \\\\ 3 \\times 7 & 4 \\times 8 \\end{bmatrix} \n",
    "$$\n",
    "$$\n",
    "A \\circ B = \\begin{bmatrix} 5 & 12 \\\\ 21 & 32 \\end{bmatrix} \n",
    "$$\n"
   ]
  },
  {
   "cell_type": "code",
   "execution_count": 222,
   "metadata": {},
   "outputs": [
    {
     "name": "stdout",
     "output_type": "stream",
     "text": [
      "[[ 5 12]\n",
      " [21 32]]\n"
     ]
    }
   ],
   "source": [
    "# Definindo duas matrizes\n",
    "A = np.array([[1, 2], [3, 4]]) \n",
    "B = np.array([[5, 6], [7, 8]])  \n",
    "\n",
    "# Realizando a multiplicação de Hadamard (elemento por elemento)\n",
    "resultado = np.multiply(A, B)\n",
    "\n",
    "print(resultado)"
   ]
  },
  {
   "cell_type": "code",
   "execution_count": 224,
   "metadata": {},
   "outputs": [
    {
     "name": "stdout",
     "output_type": "stream",
     "text": [
      "[[ 5 12]\n",
      " [21 32]]\n"
     ]
    }
   ],
   "source": [
    "print(A * B)"
   ]
  },
  {
   "cell_type": "markdown",
   "metadata": {},
   "source": [
    "### Slicing (Faatiamento) de Arrays \n",
    "\n",
    "O slicing de arrays em Python, especialmente em arrays NumPy, é uma técnica para acessar partes específicas de um array de maneira eficiente. \n",
    "\n",
    "A sintaxe básica do slicing de arrays em Python é:\n",
    "\n",
    "```\n",
    " array[início:fim:passo]\n",
    "```"
   ]
  },
  {
   "cell_type": "code",
   "execution_count": 243,
   "metadata": {},
   "outputs": [
    {
     "data": {
      "text/plain": [
       "array([2, 5, 8])"
      ]
     },
     "execution_count": 243,
     "metadata": {},
     "output_type": "execute_result"
    }
   ],
   "source": [
    "arr2 = np.arange(10)\n",
    "\n",
    "arr2[2:9:3]"
   ]
  },
  {
   "cell_type": "code",
   "execution_count": 246,
   "metadata": {},
   "outputs": [
    {
     "name": "stdout",
     "output_type": "stream",
     "text": [
      "[9 8 7 6 5 4 3 2 1 0]\n"
     ]
    }
   ],
   "source": [
    "# Inverter\n",
    "print(arr2[::-1])"
   ]
  },
  {
   "cell_type": "code",
   "execution_count": 234,
   "metadata": {},
   "outputs": [
    {
     "name": "stdout",
     "output_type": "stream",
     "text": [
      "[[1 0 0]\n",
      " [0 2 0]\n",
      " [0 0 3]]\n"
     ]
    }
   ],
   "source": [
    "arr = np.diag(np.arange(1, 4))\n",
    "\n",
    "print(arr)"
   ]
  },
  {
   "cell_type": "code",
   "execution_count": 235,
   "metadata": {},
   "outputs": [
    {
     "data": {
      "text/plain": [
       "2"
      ]
     },
     "execution_count": 235,
     "metadata": {},
     "output_type": "execute_result"
    }
   ],
   "source": [
    "arr[1,1]"
   ]
  },
  {
   "cell_type": "code",
   "execution_count": 236,
   "metadata": {},
   "outputs": [
    {
     "data": {
      "text/plain": [
       "array([0, 0, 3])"
      ]
     },
     "execution_count": 236,
     "metadata": {},
     "output_type": "execute_result"
    }
   ],
   "source": [
    "arr[:,2] # Para obter tudo da ultima linha"
   ]
  },
  {
   "cell_type": "code",
   "execution_count": 240,
   "metadata": {},
   "outputs": [
    {
     "data": {
      "text/plain": [
       "array([[0, 0],\n",
       "       [2, 0]])"
      ]
     },
     "execution_count": 240,
     "metadata": {},
     "output_type": "execute_result"
    }
   ],
   "source": [
    "arr[:2, 1:]  # Obtendo as duas primeiras linhas e as colunas 2 e 3"
   ]
  },
  {
   "cell_type": "code",
   "execution_count": 241,
   "metadata": {},
   "outputs": [
    {
     "data": {
      "text/plain": [
       "array([[1, 0],\n",
       "       [0, 3]])"
      ]
     },
     "execution_count": 241,
     "metadata": {},
     "output_type": "execute_result"
    }
   ],
   "source": [
    "# Slicing com passo para extrair elementos de forma alternada\n",
    "arr[::2, ::2]"
   ]
  },
  {
   "cell_type": "code",
   "execution_count": 247,
   "metadata": {},
   "outputs": [
    {
     "data": {
      "text/plain": [
       "array([[3, 0, 0],\n",
       "       [0, 2, 0],\n",
       "       [0, 0, 1]])"
      ]
     },
     "execution_count": 247,
     "metadata": {},
     "output_type": "execute_result"
    }
   ],
   "source": [
    "# Slicing reverso para inverter as linhas e colunas da matriz\n",
    "arr[::-1, ::-1]"
   ]
  },
  {
   "cell_type": "code",
   "execution_count": 248,
   "metadata": {},
   "outputs": [
    {
     "data": {
      "text/plain": [
       "array([[0, 0, 1],\n",
       "       [0, 2, 0],\n",
       "       [3, 0, 0]])"
      ]
     },
     "execution_count": 248,
     "metadata": {},
     "output_type": "execute_result"
    }
   ],
   "source": [
    "# Slicing reverso para inverter apenas as linhas\n",
    "arr[:, ::-1]"
   ]
  },
  {
   "cell_type": "code",
   "execution_count": 249,
   "metadata": {},
   "outputs": [
    {
     "data": {
      "text/plain": [
       "array([[0, 0, 3],\n",
       "       [0, 2, 0],\n",
       "       [1, 0, 0]])"
      ]
     },
     "execution_count": 249,
     "metadata": {},
     "output_type": "execute_result"
    }
   ],
   "source": [
    "# Slicing reverso para inverter apenas as colunas\n",
    "arr[::-1, :]"
   ]
  },
  {
   "cell_type": "code",
   "execution_count": 251,
   "metadata": {},
   "outputs": [
    {
     "data": {
      "text/plain": [
       "False"
      ]
     },
     "execution_count": 251,
     "metadata": {},
     "output_type": "execute_result"
    }
   ],
   "source": [
    "# Comparação global de dois arrays\n",
    "np.array_equal(arr[:,2], arr[:,1])"
   ]
  },
  {
   "cell_type": "code",
   "execution_count": 253,
   "metadata": {},
   "outputs": [
    {
     "data": {
      "text/plain": [
       "array([ True, False, False])"
      ]
     },
     "execution_count": 253,
     "metadata": {},
     "output_type": "execute_result"
    }
   ],
   "source": [
    "# Comparação item a item\n",
    "arr[:,2] == arr[:,1]"
   ]
  },
  {
   "cell_type": "code",
   "execution_count": 254,
   "metadata": {},
   "outputs": [
    {
     "data": {
      "text/plain": [
       "0"
      ]
     },
     "execution_count": 254,
     "metadata": {},
     "output_type": "execute_result"
    }
   ],
   "source": [
    "arr.min()"
   ]
  },
  {
   "cell_type": "code",
   "execution_count": 255,
   "metadata": {},
   "outputs": [
    {
     "data": {
      "text/plain": [
       "3"
      ]
     },
     "execution_count": 255,
     "metadata": {},
     "output_type": "execute_result"
    }
   ],
   "source": [
    "arr.max()"
   ]
  },
  {
   "cell_type": "code",
   "execution_count": 257,
   "metadata": {},
   "outputs": [
    {
     "data": {
      "text/plain": [
       "array([[2, 1, 1],\n",
       "       [1, 3, 1],\n",
       "       [1, 1, 4]])"
      ]
     },
     "execution_count": 257,
     "metadata": {},
     "output_type": "execute_result"
    }
   ],
   "source": [
    "# Soma um valor para todos os elementos do array\n",
    "arr + 1"
   ]
  },
  {
   "cell_type": "code",
   "execution_count": 259,
   "metadata": {},
   "outputs": [
    {
     "name": "stdout",
     "output_type": "stream",
     "text": [
      "<built-in method flatten of numpy.ndarray object at 0x0000024DF44F5B10>\n"
     ]
    }
   ],
   "source": [
    "# Achatar a matriz\n",
    "arr_ach = arr.flatten\n",
    "\n",
    "print(arr_ach)"
   ]
  }
 ],
 "metadata": {
  "kernelspec": {
   "display_name": "base",
   "language": "python",
   "name": "python3"
  },
  "language_info": {
   "codemirror_mode": {
    "name": "ipython",
    "version": 3
   },
   "file_extension": ".py",
   "mimetype": "text/x-python",
   "name": "python",
   "nbconvert_exporter": "python",
   "pygments_lexer": "ipython3",
   "version": "3.9.13"
  }
 },
 "nbformat": 4,
 "nbformat_minor": 2
}
