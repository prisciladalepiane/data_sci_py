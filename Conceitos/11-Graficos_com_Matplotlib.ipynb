{
 "cells": [
  {
   "cell_type": "markdown",
   "metadata": {},
   "source": [
    "# Vizualisação de Dados com Matplotlib\n",
    "\n",
    "https://matplotlib.org/"
   ]
  },
  {
   "cell_type": "code",
   "execution_count": null,
   "metadata": {},
   "outputs": [],
   "source": [
    "# Instalar bib\n",
    "# !pip install -q matplotlib"
   ]
  },
  {
   "cell_type": "code",
   "execution_count": null,
   "metadata": {},
   "outputs": [],
   "source": [
    "import matplotlib as mpl\n",
    "\n",
    "mpl.__version__"
   ]
  },
  {
   "cell_type": "markdown",
   "metadata": {},
   "source": [
    "## pyplot\n",
    "\n",
    "``pyplot`` é um módulo dentro da biblioteca ``matplotlib`` que fornece uma interface de estilo de procedimento para criar visualizações de dados em Python. Ele oferece funções semelhantes às encontradas no MATLAB, permitindo que você crie rapidamente gráficos simples com comandos simples."
   ]
  },
  {
   "cell_type": "code",
   "execution_count": null,
   "metadata": {},
   "outputs": [],
   "source": [
    "import matplotlib.pyplot as plt\n",
    "\n",
    "%matplotlib inline "
   ]
  },
  {
   "cell_type": "markdown",
   "metadata": {},
   "source": [
    "Grafico de linha:"
   ]
  },
  {
   "cell_type": "code",
   "execution_count": null,
   "metadata": {},
   "outputs": [],
   "source": [
    "# Plotando o gráfico de linha\n",
    "plt.plot([1, 2, 3, 4, 5], [2, 3, 5, 7, 11])\n",
    "\n",
    "# Exibindo o gráfico\n",
    "plt.show()"
   ]
  },
  {
   "cell_type": "code",
   "execution_count": null,
   "metadata": {},
   "outputs": [],
   "source": [
    "x = [1,2,3]\n",
    "y = [1,4,9]\n",
    "plt.plot(x, y)\n",
    "plt.xlabel('x')\n",
    "plt.ylabel('y')\n",
    "plt.title(\"Plot Teste\")\n",
    "plt.show()"
   ]
  },
  {
   "cell_type": "code",
   "execution_count": null,
   "metadata": {},
   "outputs": [],
   "source": [
    "plt.plot(x, y, label = \"legenda do grafico\")\n",
    "plt.legend() # vomando para mostrar a legenda\n",
    "plt.show()"
   ]
  },
  {
   "cell_type": "markdown",
   "metadata": {},
   "source": [
    "### Grafico de Barras:\n",
    "\n",
    "A função `plt.bar()` é usada para criar um gráfico de barras em Matplotlib. Ela representa dados categóricos como barras retangulares, onde a altura de cada barra é proporcional ao valor que ela representa.\n",
    "\n",
    "Principais parâmetros:\n",
    "- `x`: As coordenadas x das barras. Pode ser uma sequência de números ou nomes de categoria.\n",
    "- `height`: As alturas das barras.\n",
    "- `width`: A largura das barras. O padrão é 0.8.\n",
    "- `bottom`: A base das barras (opcional). Pode ser usado para empilhar barras.\n",
    "- `align`: O alinhamento das barras em relação às coordenadas x.\n",
    "- `color`: A cor das barras.\n",
    "- `edgecolor`: A cor da borda das barras.\n",
    "- `linewidth`: A largura da borda das barras.\n",
    "- `label`: Uma etiqueta para a legenda do gráfico."
   ]
  },
  {
   "cell_type": "code",
   "execution_count": null,
   "metadata": {},
   "outputs": [],
   "source": [
    "# Dados\n",
    "categorias = ['A', 'B', 'C', 'D', 'E']\n",
    "valores = [10, 20, 15, 25, 30]\n",
    "\n",
    "# Criando o gráfico de barras\n",
    "plt.bar(x = categorias, height = valores, color = 'red')\n",
    "\n",
    "# Adicionando rótulos aos eixos\n",
    "plt.xlabel('Categorias')\n",
    "plt.ylabel('Valores')\n",
    "\n",
    "# Adicionando título ao gráfico\n",
    "plt.title('Gráfico de Barras')\n",
    "\n",
    "# Exibindo o gráfico\n",
    "plt.show()"
   ]
  },
  {
   "cell_type": "markdown",
   "metadata": {},
   "source": [
    "Ao plotar dois graficos, o mataplotlib coloca um em cima do outro:"
   ]
  },
  {
   "cell_type": "code",
   "execution_count": null,
   "metadata": {},
   "outputs": [],
   "source": [
    "valores = [10, 20, 15, 40, 30]\n",
    "valores2 = [5, 10, 10, 30, 25]\n",
    "\n",
    "plt.bar(range(1, len(valores) + 1), valores, label = \"Valores 1\", color = \"red\")\n",
    "plt.bar(range(1, len(valores2) + 1), valores2, label = \"Valores 2\", color = \"green\")\n",
    "\n",
    "plt.legend()\n",
    "plt.xlabel('Índice')\n",
    "plt.ylabel('Valores')\n",
    "plt.title('Gráfico de Barras')\n",
    "\n",
    "# Exibindo o gráfico\n",
    "plt.show()"
   ]
  },
  {
   "cell_type": "markdown",
   "metadata": {},
   "source": [
    "### Histograma\n",
    "\n",
    "A função `plt.hist()` é usada para criar um histograma a partir de dados numéricos. Ela conta o número de ocorrências de valores dentro de intervalos de dados, chamados de \"bins\", e os representa graficamente como barras.\n",
    "\n",
    "Principais parâmetros da função `plt.hist()`:\n",
    "- `x`: Os dados que serão utilizados para criar o histograma.\n",
    "- `bins`: Especifica o número de intervalos ou os limites dos intervalos dos bins. Pode ser um número ou uma sequência de números.\n",
    "- `range`: Especifica o intervalo de valores a ser considerado. Valores fora desse intervalo serão ignorados.\n",
    "- `density`: Se `True`, a área total do histograma será normalizada para 1, fazendo com que a altura das barras represente a densidade de probabilidade. Se `False`, a altura das barras representa o número de ocorrências.\n",
    "- `color`: A cor das barras do histograma.\n",
    "- `edgecolor`: A cor das bordas das barras.\n",
    "- `alpha`: A transparência das barras (0 significa totalmente transparente e 1 significa totalmente opaco)."
   ]
  },
  {
   "cell_type": "code",
   "execution_count": null,
   "metadata": {},
   "outputs": [],
   "source": [
    "import numpy as np\n",
    "\n",
    "# Gerando dados aleatórios com uma distribuição normal\n",
    "dados = np.random.randn(1000)\n",
    "\n",
    "# Criando o histograma\n",
    "plt.hist(dados, bins=50, edgecolor='black')\n",
    "\n",
    "plt.xlabel('Valores')\n",
    "plt.ylabel('Frequência')\n",
    "plt.title('Histograma da Distribuição Normal')\n",
    "\n",
    "plt.show()"
   ]
  },
  {
   "cell_type": "markdown",
   "metadata": {},
   "source": [
    "`rwidth` especifica a largura da linha do histograma"
   ]
  },
  {
   "cell_type": "code",
   "execution_count": null,
   "metadata": {},
   "outputs": [],
   "source": [
    "bins = [-3, -2, -1, 0, 1, 2, 3]\n",
    "\n",
    "# Criando o histograma com a lista de bins\n",
    "plt.hist(dados, bins=bins, histtype = 'bar', rwidth = 0.2)\n",
    "plt.show()"
   ]
  },
  {
   "cell_type": "code",
   "execution_count": null,
   "metadata": {},
   "outputs": [],
   "source": [
    "plt.hist(dados, bins=bins, histtype = 'stepfilled', rwidth = 0.2)\n",
    "plt.show()"
   ]
  },
  {
   "cell_type": "markdown",
   "metadata": {},
   "source": [
    "### Grafico de Dispersão (scatter plot)\n",
    "\n",
    "O gráfico de dispersão, é uma representação visual de dados onde cada ponto no gráfico representa um par de valores. Ele é particularmente útil para visualizar a relação entre duas variáveis quantitativas, permitindo identificar padrões, tendências e correlações nos dados.\n",
    "\n",
    "Principais parâmetros:\n",
    "\n",
    "- **x, y**: Os dados que serão plotados no eixo x e no eixo y, respectivamente. São obrigatórios.\n",
    "\n",
    "- **s**: Tamanho dos pontos no scatter plot. Pode ser um único valor para todos os pontos ou uma lista/array com tamanhos individuais para cada ponto.\n",
    "\n",
    "- **c**: Cor dos pontos. Pode ser uma única cor para todos os pontos ou uma lista/array com cores individuais para cada ponto. Também pode ser uma sequência de números que será mapeada para uma paleta de cores.\n",
    "\n",
    "- **marker**: Tipo de marcador usado para representar os pontos. Pode ser uma string que define um marcador padrão (por exemplo, 'o' para círculos, 's' para quadrados, '^' para triângulos) ou um marcador personalizado.\n",
    "\n",
    "- **alpha**: Transparência dos pontos, variando de 0 (totalmente transparente) a 1 (totalmente opaco).\n",
    "\n",
    "- **linewidths**: Largura da borda dos pontos.\n",
    "\n",
    "- **edgecolors**: Cor da borda dos pontos.\n",
    "\n",
    "- **label**: Rótulo para a legenda do gráfico.\n",
    "\n"
   ]
  },
  {
   "cell_type": "code",
   "execution_count": null,
   "metadata": {},
   "outputs": [],
   "source": [
    "# Dados\n",
    "x = [1, 2, 3, 4, 5, 7, 8, 3]\n",
    "y = [2, 3, 4, 5, 6, 6, 8, 3]\n",
    "\n",
    "# Criando o scatter plot\n",
    "plt.scatter(x, y, label = \"Pontos\", color = 'black', marker = 'o')\n",
    "plt.legend()\n",
    "plt.show()"
   ]
  },
  {
   "cell_type": "markdown",
   "metadata": {},
   "source": [
    "### Gráfico de Area empilhada (Stack plot)"
   ]
  },
  {
   "cell_type": "code",
   "execution_count": null,
   "metadata": {},
   "outputs": [],
   "source": [
    "dias = [1,2,3,4,5]\n",
    "serie1 = [1, 2, 3, 4, 5]\n",
    "serie2 = [2, 3, 4, 5, 6]\n",
    "serie3 = [3, 4, 5, 6, 7]\n",
    "\n",
    "# Criando o stack plot\n",
    "plt.stackplot(dias, serie1, serie2, serie3, \n",
    "              labels=['Série 1', 'Série 2', 'Série 3'],\n",
    "              colors = ['r','y','g'])\n",
    "\n",
    "# Adicionando rótulos aos eixos\n",
    "plt.xlabel('Tempo')\n",
    "plt.ylabel('Valor')\n",
    "plt.title('Exemplo de Stack Plot')\n",
    "\n",
    "plt.legend()\n",
    "plt.show()"
   ]
  },
  {
   "cell_type": "markdown",
   "metadata": {},
   "source": [
    "### Gráfico de pizza"
   ]
  },
  {
   "cell_type": "code",
   "execution_count": null,
   "metadata": {},
   "outputs": [],
   "source": []
  },
  {
   "cell_type": "code",
   "execution_count": null,
   "metadata": {},
   "outputs": [],
   "source": [
    "fatias = [2, 8, 8, 1, 1, 4]\n",
    "atividades = ['livre', 'dormir', 'trabalhar', 'tarefas domésticas', 'transito', 'faculdade']\n",
    "\n",
    "plt.pie(fatias, labels = atividades, startangle=90, autopct='%1.1f%%', explode= [0,0,0,0,0.2,0])\n",
    "plt.title(\"Divisão do dia\")\n",
    "plt.plot()"
   ]
  },
  {
   "cell_type": "markdown",
   "metadata": {},
   "source": [
    "## Graficos customizados com Pylab\n",
    "\n",
    "Pylab é um módulo fornecido pelo Matplotlib que combina funcionalidades dos pacotes NumPy e pyplot. "
   ]
  },
  {
   "cell_type": "code",
   "execution_count": null,
   "metadata": {},
   "outputs": [],
   "source": [
    "from pylab import *\n",
    "\n",
    "%matplotlib inline"
   ]
  },
  {
   "cell_type": "markdown",
   "metadata": {},
   "source": [
    "Exemplo de criação do grafico:\n"
   ]
  },
  {
   "cell_type": "code",
   "execution_count": null,
   "metadata": {},
   "outputs": [],
   "source": [
    "# Array x e y \n",
    "x = linspace(0, 5, 10)\n",
    "y = x ** 2\n",
    "\n",
    "# Cria a figura\n",
    "fig = plt.figure()\n",
    "\n",
    "# Define a escala dos eixos\n",
    "axes = fig.add_axes([0, 0, 0.8, 0.8])\n",
    "\n",
    "# Cria o plot\n",
    "axes.plot(x, y, 'red')\n",
    "\n",
    "# Labels e título\n",
    "axes.set_xlabel('x')\n",
    "axes.set_ylabel('y')\n",
    "axes.set_title('Gráfico de Linha');\n"
   ]
  },
  {
   "cell_type": "markdown",
   "metadata": {},
   "source": [
    "#### Com figuras sobrepostas:"
   ]
  },
  {
   "cell_type": "code",
   "execution_count": null,
   "metadata": {},
   "outputs": [],
   "source": [
    "# Cria a figura\n",
    "fig = plt.figure()\n",
    "\n",
    "# Cria os eixos\n",
    "axes1 = fig.add_axes([0.1, 0.1, 0.8, 0.8]) # eixos da figura principal\n",
    "axes2 = fig.add_axes([0.2, 0.5, 0.4, 0.3]) # eixos da figura secundária\n",
    "\n",
    "# Figura principal\n",
    "axes1.plot(x, y, 'r')\n",
    "axes1.set_xlabel('x')\n",
    "axes1.set_ylabel('y')\n",
    "axes1.set_title('Figura Principal')\n",
    "\n",
    "# Figura secundária\n",
    "axes2.plot(y, x, 'g')\n",
    "axes2.set_xlabel('y')\n",
    "axes2.set_ylabel('x')\n",
    "axes2.set_title('Figura Secundária');"
   ]
  },
  {
   "cell_type": "markdown",
   "metadata": {},
   "source": [
    "obs: `;` é adicionado ao fim da llinha para ocultar a saída do set_title"
   ]
  },
  {
   "cell_type": "markdown",
   "metadata": {},
   "source": [
    "#### Graficos um ao lado do outro"
   ]
  },
  {
   "cell_type": "code",
   "execution_count": null,
   "metadata": {},
   "outputs": [],
   "source": [
    "# Dados\n",
    "x = linspace(0, 5, 10)\n",
    "y = x ** 2\n",
    "\n",
    "# Divide a área de plotagem em dois subplots\n",
    "fig, axes = plt.subplots(nrows = 1, ncols = 2)\n",
    "\n",
    "# Loop pelos eixos para criar cada plot\n",
    "for ax in axes:\n",
    "    ax.plot(x, y, 'r')\n",
    "    ax.set_xlabel('x')\n",
    "    ax.set_ylabel('y')\n",
    "    ax.set_title('Título')\n",
    "    \n",
    "# Ajusta o layout\n",
    "fig.tight_layout()"
   ]
  },
  {
   "cell_type": "code",
   "execution_count": null,
   "metadata": {},
   "outputs": [],
   "source": [
    "# Gráficos de linha com diferentes escalas\n",
    "\n",
    "# Dados\n",
    "x = linspace(0, 5, 10)\n",
    "y = x ** 2\n",
    "\n",
    "# Cria os subplots\n",
    "fig, axes = plt.subplots(1, 2, figsize = (10,4))\n",
    "      \n",
    "# Cria o plot1\n",
    "axes[0].plot(x, x**2, x, exp(x))\n",
    "axes[0].set_title(\"Escala Padrão\")\n",
    "\n",
    "# Cria o plot2\n",
    "axes[1].plot(x, x**2, x, exp(x))\n",
    "axes[1].set_yscale(\"log\")\n",
    "axes[1].set_title(\"Escala Logaritmica (y)\");"
   ]
  },
  {
   "cell_type": "code",
   "execution_count": null,
   "metadata": {},
   "outputs": [],
   "source": [
    "# Grid\n",
    "\n",
    "# Dados\n",
    "x = linspace(0, 5, 10)\n",
    "y = x ** 2\n",
    "\n",
    "# Cria os subplots\n",
    "fig, axes = plt.subplots(1, 2, figsize = (10,3))\n",
    "\n",
    "# Grid padrão\n",
    "axes[0].plot(x, x**2, x, x**3, lw = 2)\n",
    "axes[0].grid(True)\n",
    "\n",
    "# Grid customizado\n",
    "axes[1].plot(x, x**2, x, x**3, lw = 2)\n",
    "axes[1].grid(color = 'b', alpha = 0.7, linestyle = 'dashed', linewidth = 0.8)"
   ]
  },
  {
   "cell_type": "code",
   "execution_count": null,
   "metadata": {},
   "outputs": [],
   "source": [
    "# Diferentes estilos de Plots\n",
    "\n",
    "# Dados\n",
    "xx = np.linspace(-0.75, 1., 100)\n",
    "n = np.array([0,1,2,3,4,5])\n",
    "\n",
    "# Subplots\n",
    "fig, axes = plt.subplots(1, 4, figsize = (12,3))\n",
    "\n",
    "# Plot 1\n",
    "axes[0].scatter(xx, xx + 0.25 * randn(len(xx)), color = \"purple\")\n",
    "axes[0].set_title(\"scatter\")\n",
    "\n",
    "# Plot 2\n",
    "axes[1].step(n, n * 2, lw = 2, color = \"black\")\n",
    "axes[1].set_title(\"step\")\n",
    "\n",
    "# Plot 3\n",
    "axes[2].bar(n, n * 2, align = \"center\", width = 0.5, alpha = 0.5, color = \"blue\")\n",
    "axes[2].set_title(\"bar\")\n",
    "\n",
    "# Plot 4\n",
    "axes[3].fill_between(x, x ** 2, x ** 3, alpha = 0.5, color = \"magenta\");\n",
    "axes[3].set_title(\"fill_between\");"
   ]
  },
  {
   "cell_type": "markdown",
   "metadata": {},
   "source": [
    "#### Histogramas "
   ]
  },
  {
   "cell_type": "code",
   "execution_count": null,
   "metadata": {},
   "outputs": [],
   "source": [
    "# Gerar dados aleatorios de distribuição normal\n",
    "n = np.random.randn(1000)\n",
    "\n",
    "# Cria os subplots\n",
    "fig, axes = plt.subplots(1, 2, figsize = (12,4))\n",
    "\n",
    "# Padrao\n",
    "axes[0].hist(n, bins = 50)\n",
    "axes[0].set_title(\"Histograma Padrão\")\n",
    "axes[0].set_xlim((min(n), max(n)))\n",
    "\n",
    "# Acumulado\n",
    "axes[1].hist(n, cumulative = True, bins = 50)\n",
    "axes[1].set_title(\"Histograma Cumulativo\")\n",
    "axes[1].set_xlim((min(n), max(n)));"
   ]
  },
  {
   "cell_type": "markdown",
   "metadata": {},
   "source": [
    "Lista de cores no Matplotlib:\n",
    "\n",
    "https://matplotlib.org/stable/gallery/color/named_colors"
   ]
  }
 ],
 "metadata": {
  "kernelspec": {
   "display_name": "base",
   "language": "python",
   "name": "python3"
  },
  "language_info": {
   "codemirror_mode": {
    "name": "ipython",
    "version": 3
   },
   "file_extension": ".py",
   "mimetype": "text/x-python",
   "name": "python",
   "nbconvert_exporter": "python",
   "pygments_lexer": "ipython3",
   "version": "3.9.13"
  }
 },
 "nbformat": 4,
 "nbformat_minor": 2
}
