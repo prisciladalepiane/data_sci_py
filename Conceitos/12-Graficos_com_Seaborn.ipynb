{
 "cells": [
  {
   "cell_type": "markdown",
   "metadata": {},
   "source": [
    "# Visualização de dados com Seaborn\n",
    "\n",
    "Seaborn é uma biblioteca de visualização de dados Python baseada em matplotlib. Ele fornece uma interface de alto nível para desenhar gráficos estatísticos atraentes e informativos.\n",
    "\n",
    "https://seaborn.pydata.org/"
   ]
  },
  {
   "cell_type": "code",
   "execution_count": null,
   "metadata": {},
   "outputs": [],
   "source": [
    "import seaborn as sea"
   ]
  },
  {
   "cell_type": "code",
   "execution_count": null,
   "metadata": {},
   "outputs": [],
   "source": [
    "import random\n",
    "import numpy as np\n",
    "import pandas as pd\n",
    "import matplotlib as mat\n",
    "import matplotlib.pyplot as plt\n",
    "import warnings\n",
    "warnings.filterwarnings(\"ignore\")\n",
    "%matplotlib inline"
   ]
  },
  {
   "cell_type": "code",
   "execution_count": null,
   "metadata": {},
   "outputs": [],
   "source": [
    "# Carrega um conjunto de dados de exemplo\n",
    "dados = sea.load_dataset(\"tips\")\n",
    "\n",
    "dados.head()"
   ]
  },
  {
   "cell_type": "markdown",
   "metadata": {},
   "source": [
    "## jointplot()\n",
    "\n",
    "https://seaborn.pydata.org/generated/seaborn.jointplot.html\n",
    "\n",
    "É usado para traçar gráficos de dispersão (scatter plots) com histogramas nas margens.\n",
    "\n",
    "O método joinplot cria plot de 2 variáveis com gráficos bivariados e univariados\n",
    "\n",
    "-  data: data frame com dados.\n",
    "-  x,y: vetor ou chave nos dados\n",
    "-  kind: tipo de grafico { “scatter” | “kde” | “hist” | “hex” | “reg” | “resid” }"
   ]
  },
  {
   "cell_type": "code",
   "execution_count": null,
   "metadata": {},
   "outputs": [],
   "source": [
    "sea.jointplot(data = dados, x = \"total_bill\", y = \"tip\", kind = 'reg');"
   ]
  },
  {
   "cell_type": "markdown",
   "metadata": {},
   "source": [
    "- hue: separa por cor diferentes categorias"
   ]
  },
  {
   "cell_type": "code",
   "execution_count": null,
   "metadata": {},
   "outputs": [],
   "source": [
    "sea.jointplot(data=dados, x = \"total_bill\", y = \"tip\", hue=\"sex\");"
   ]
  },
  {
   "cell_type": "code",
   "execution_count": null,
   "metadata": {},
   "outputs": [],
   "source": [
    "sea.jointplot(data=dados, x = \"total_bill\", y = \"tip\", hue=\"sex\");"
   ]
  },
  {
   "cell_type": "markdown",
   "metadata": {},
   "source": [
    "## lmplot() \n",
    "\n",
    "O método cria plot com dados e modelos de regressão\n",
    "\n",
    "- **hue, col, row**: definem a separação por categorias, por cor(hue), coluna(col), linha (row).\n",
    "\n"
   ]
  },
  {
   "cell_type": "code",
   "execution_count": null,
   "metadata": {},
   "outputs": [],
   "source": [
    "sea.lmplot(data = dados, x = \"total_bill\", y = \"tip\", col = \"smoker\");"
   ]
  },
  {
   "cell_type": "markdown",
   "metadata": {},
   "source": [
    "## kdeplot()"
   ]
  },
  {
   "cell_type": "code",
   "execution_count": null,
   "metadata": {},
   "outputs": [],
   "source": [
    "sea.kdeplot(dados.total_bill);"
   ]
  },
  {
   "cell_type": "code",
   "execution_count": null,
   "metadata": {},
   "outputs": [],
   "source": [
    "# carregando dataset \"penguins\"\n",
    "pinguins = sea.load_dataset(\"penguins\")\n",
    "\n",
    "pinguins.head(3)"
   ]
  },
  {
   "cell_type": "markdown",
   "metadata": {},
   "source": [
    "Plotar distribuição bivariada:"
   ]
  },
  {
   "cell_type": "code",
   "execution_count": null,
   "metadata": {},
   "outputs": [],
   "source": [
    "sea.kdeplot(data=pinguins, x=\"flipper_length_mm\", y=\"bill_depth_mm\");"
   ]
  },
  {
   "cell_type": "code",
   "execution_count": null,
   "metadata": {},
   "outputs": [],
   "source": [
    "sea.kdeplot(data=pinguins, x=\"flipper_length_mm\", y=\"bill_depth_mm\", hue=\"species\");"
   ]
  },
  {
   "cell_type": "code",
   "execution_count": null,
   "metadata": {},
   "outputs": [],
   "source": [
    "sea.kdeplot(data=pinguins, x=\"flipper_length_mm\", y=\"bill_depth_mm\", hue=\"sex\", fill = True);"
   ]
  },
  {
   "cell_type": "code",
   "execution_count": null,
   "metadata": {},
   "outputs": [],
   "source": [
    "sea.kdeplot(data=pinguins, x=\"flipper_length_mm\", hue=\"species\", multiple=\"stack\");"
   ]
  },
  {
   "cell_type": "markdown",
   "metadata": {},
   "source": [
    "## histpolot()"
   ]
  },
  {
   "cell_type": "code",
   "execution_count": null,
   "metadata": {},
   "outputs": [],
   "source": [
    "sea.histplot(data=pinguins, x=\"flipper_length_mm\", hue=\"species\", multiple=\"stack\");"
   ]
  },
  {
   "cell_type": "code",
   "execution_count": null,
   "metadata": {},
   "outputs": [],
   "source": [
    "# Grafico sobreposto, não cumulativo\n",
    "sea.histplot(data=pinguins, x=\"flipper_length_mm\", hue=\"species\");"
   ]
  },
  {
   "cell_type": "markdown",
   "metadata": {},
   "source": [
    "### boxplot"
   ]
  },
  {
   "cell_type": "code",
   "execution_count": null,
   "metadata": {},
   "outputs": [],
   "source": [
    "sea.boxplot(dados.tip, color = 'c');"
   ]
  },
  {
   "cell_type": "markdown",
   "metadata": {},
   "source": []
  },
  {
   "cell_type": "markdown",
   "metadata": {},
   "source": [
    "## Cat"
   ]
  },
  {
   "cell_type": "code",
   "execution_count": null,
   "metadata": {},
   "outputs": [],
   "source": [
    "titanic = sea.load_dataset(\"titanic\")\n",
    "titanic.head(3)"
   ]
  },
  {
   "cell_type": "code",
   "execution_count": null,
   "metadata": {},
   "outputs": [],
   "source": [
    "sea.catplot(\n",
    "    data=titanic, x=\"age\", y=\"class\", hue=\"sex\",\n",
    "    kind=\"violin\",  split=True,\n",
    ");"
   ]
  },
  {
   "cell_type": "markdown",
   "metadata": {},
   "source": [
    "## countplot\n",
    "\n",
    " Gráfico de barras com o total de sobreviventes por classe"
   ]
  },
  {
   "cell_type": "code",
   "execution_count": null,
   "metadata": {},
   "outputs": [],
   "source": [
    "sea.countplot(data=titanic, x='class', hue='alive', palette='Set1', dodge=True)\n",
    "\n",
    "plt.xlabel('Classe')\n",
    "plt.ylabel('Número de Passageiros')\n",
    "plt.title('Total de Sobreviventes por Classe')\n",
    "\n",
    "plt.show()\n"
   ]
  },
  {
   "cell_type": "markdown",
   "metadata": {},
   "source": [
    "Galeria de exemplos Seaborn:\n",
    "\n",
    "https://seaborn.pydata.org/examples/index.html"
   ]
  }
 ],
 "metadata": {
  "kernelspec": {
   "display_name": "base",
   "language": "python",
   "name": "python3"
  },
  "language_info": {
   "codemirror_mode": {
    "name": "ipython",
    "version": 3
   },
   "file_extension": ".py",
   "mimetype": "text/x-python",
   "name": "python",
   "nbconvert_exporter": "python",
   "pygments_lexer": "ipython3",
   "version": "3.9.13"
  }
 },
 "nbformat": 4,
 "nbformat_minor": 2
}
