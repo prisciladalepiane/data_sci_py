{
 "cells": [
  {
   "cell_type": "markdown",
   "id": "7cd5ef76",
   "metadata": {},
   "source": [
    "# Expressões Regulares\n"
   ]
  },
  {
   "cell_type": "code",
   "execution_count": 16,
   "id": "ad6bb883",
   "metadata": {},
   "outputs": [],
   "source": [
    "import re"
   ]
  },
  {
   "cell_type": "markdown",
   "id": "4cac7d0f",
   "metadata": {},
   "source": [
    "Expressões regulares em Python são sequências de caracteres que formam um padrão de busca. Esses padrões são usados para encontrar correspondências em strings. As expressões regulares são poderosas ferramentas de busca e manipulação de texto, permitindo que você encontre padrões complexos em dados de texto.\n",
    "\n",
    "https://docs.python.org/pt-br/3/library/re.html\n",
    "\n",
    "Se você planeja usar a mesma expressão regular várias vezes, pode ser útil compilar a expressão regular usando re.compile(). Isso cria um objeto de padrão de expressão regular que pode ser reutilizado posteriormente:\n"
   ]
  },
  {
   "cell_type": "code",
   "execution_count": 17,
   "id": "3b70a29f",
   "metadata": {},
   "outputs": [],
   "source": [
    "pattern = re.compile(r'seu padrão regex aqui')"
   ]
  },
  {
   "cell_type": "markdown",
   "id": "7ab59bc5",
   "metadata": {},
   "source": [
    "\n",
    "Existem várias funções no módulo re que você pode usar para trabalhar com expressões regulares. Alguns dos mais comuns são:\n",
    "\n",
    "`re.search()`: Procura pela primeira ocorrência de um padrão em uma string.\n",
    "\n",
    "`re.match()`: Procura pelo padrão no início de uma string.\n",
    "\n",
    "`re.findall()`: Encontra todas as ocorrências de um padrão em uma string e retorna como uma lista.\n",
    "\n",
    "`re.finditer()`: Encontra todas as ocorrências de um padrão em uma string e retorna como um iterador de correspondências.\n",
    "\n",
    "`re.sub()`: Substitui todas as ocorrências de um padrão por outra string.\n",
    "E muitas outras."
   ]
  },
  {
   "cell_type": "code",
   "execution_count": 18,
   "id": "420a0cbe",
   "metadata": {},
   "outputs": [
    {
     "name": "stdout",
     "output_type": "stream",
     "text": [
      "Encontrado: exemplo\n"
     ]
    }
   ],
   "source": [
    "# Defina a string de entrada\n",
    "texto = \"Esta é uma frase de exemplo contendo a palavra 'exemplo'.\"\n",
    "\n",
    "# Compile o padrão regex\n",
    "padrao = re.compile(r'exemplo')\n",
    "\n",
    "# Procure pelo padrão na string\n",
    "correspondencia = padrao.search(texto)\n",
    "\n",
    "# Se houver correspondência, imprima a correspondência\n",
    "if correspondencia:\n",
    "    print(\"Encontrado:\", correspondencia.group())\n",
    "else:\n",
    "    print(\"Padrão não encontrado.\")"
   ]
  },
  {
   "cell_type": "code",
   "execution_count": 19,
   "id": "6b39bd0a",
   "metadata": {},
   "outputs": [
    {
     "ename": "NameError",
     "evalue": "name 'text' is not defined",
     "output_type": "error",
     "traceback": [
      "\u001b[1;31m---------------------------------------------------------------------------\u001b[0m",
      "\u001b[1;31mNameError\u001b[0m                                 Traceback (most recent call last)",
      "\u001b[1;32m~\\AppData\\Local\\Temp\\ipykernel_22844\\576559902.py\u001b[0m in \u001b[0;36m<module>\u001b[1;34m\u001b[0m\n\u001b[1;32m----> 1\u001b[1;33m \u001b[0mresultado\u001b[0m \u001b[1;33m=\u001b[0m \u001b[0mlen\u001b[0m\u001b[1;33m(\u001b[0m\u001b[0mre\u001b[0m\u001b[1;33m.\u001b[0m\u001b[0mfindall\u001b[0m\u001b[1;33m(\u001b[0m\u001b[1;34m\"@\"\u001b[0m\u001b[1;33m,\u001b[0m \u001b[0mtext\u001b[0m\u001b[1;33m)\u001b[0m\u001b[1;33m)\u001b[0m\u001b[1;33m\u001b[0m\u001b[1;33m\u001b[0m\u001b[0m\n\u001b[0m\u001b[0;32m      2\u001b[0m \u001b[0mre\u001b[0m\u001b[1;33m.\u001b[0m\u001b[0mfindall\u001b[0m\u001b[1;33m(\u001b[0m\u001b[1;34m\"@\"\u001b[0m\u001b[1;33m,\u001b[0m \u001b[0mtext\u001b[0m\u001b[1;33m)\u001b[0m\u001b[1;33m\u001b[0m\u001b[1;33m\u001b[0m\u001b[0m\n",
      "\u001b[1;31mNameError\u001b[0m: name 'text' is not defined"
     ]
    }
   ],
   "source": [
    "resultado = len(re.findall(\"@\", text))\n",
    "re.findall(\"@\", text)"
   ]
  },
  {
   "cell_type": "code",
   "execution_count": null,
   "id": "6ae2a9ae",
   "metadata": {},
   "outputs": [],
   "source": [
    "text = \"Meu e-mail é prisciladalepiane@gmail.com e vc pode me contatar em prisciladalepiane@outlook.com\""
   ]
  },
  {
   "cell_type": "code",
   "execution_count": null,
   "id": "5ecb6708",
   "metadata": {},
   "outputs": [
    {
     "name": "stdout",
     "output_type": "stream",
     "text": [
      "O caracter @ apareceu 2 vezes no texto\n"
     ]
    }
   ],
   "source": [
    "print(\"O caracter @ apareceu\", resultado, \"vezes no texto\")"
   ]
  },
  {
   "cell_type": "code",
   "execution_count": null,
   "id": "fd6ac65f",
   "metadata": {},
   "outputs": [
    {
     "data": {
      "text/plain": [
       "['prisciladalepiane']"
      ]
     },
     "execution_count": 20,
     "metadata": {},
     "output_type": "execute_result"
    }
   ],
   "source": [
    "# encontrar uma palavra que precede outra\n",
    "palavra = re.findall(r'é (\\w+)', text)\n",
    "palavra"
   ]
  },
  {
   "cell_type": "code",
   "execution_count": null,
   "id": "36c2fcfb",
   "metadata": {},
   "outputs": [
    {
     "data": {
      "text/plain": [
       "'prisciladalepiane'"
      ]
     },
     "execution_count": 22,
     "metadata": {},
     "output_type": "execute_result"
    }
   ],
   "source": [
    "palavra[0]"
   ]
  },
  {
   "cell_type": "code",
   "execution_count": null,
   "id": "dcbf1814",
   "metadata": {},
   "outputs": [
    {
     "data": {
      "text/plain": [
       "['gmail', 'outlook']"
      ]
     },
     "execution_count": 21,
     "metadata": {},
     "output_type": "execute_result"
    }
   ],
   "source": [
    "# encontrar uma palavra que precede outra sem espaço\n",
    "re.findall(r'@(\\w+)', text)"
   ]
  },
  {
   "cell_type": "code",
   "execution_count": null,
   "id": "bc4b0920",
   "metadata": {},
   "outputs": [
    {
     "data": {
      "text/plain": [
       "['g', 'o']"
      ]
     },
     "execution_count": 18,
     "metadata": {},
     "output_type": "execute_result"
    }
   ],
   "source": [
    "re.findall(r'@(\\w)', text)"
   ]
  },
  {
   "cell_type": "markdown",
   "id": "4566d082",
   "metadata": {},
   "source": [
    "Nota: O **r** antes da string que apresenta a expressão regular em Python é usada para indicar que a string é uma literal raw. Isso significa que as barras invertidas () não são interpretadas como caracteres de escape, mas são incluídas na expressão regular como parte do padrão."
   ]
  },
  {
   "cell_type": "code",
   "execution_count": null,
   "id": "fc9e1f6d",
   "metadata": {},
   "outputs": [
    {
     "data": {
      "text/plain": [
       "['prisciladalepiane@gmail', 'prisciladalepiane@outlook']"
      ]
     },
     "execution_count": 25,
     "metadata": {},
     "output_type": "execute_result"
    }
   ],
   "source": [
    "emails = re.findall(r'\\b[A-Za-z0-9._%+-]+@[A-Z|a-z]{2,}\\b', text)\n",
    "emails"
   ]
  },
  {
   "cell_type": "code",
   "execution_count": 20,
   "id": "6168a25f",
   "metadata": {},
   "outputs": [
    {
     "data": {
      "text/plain": [
       "<callable_iterator at 0x14db1532850>"
      ]
     },
     "execution_count": 20,
     "metadata": {},
     "output_type": "execute_result"
    }
   ],
   "source": [
    "texto = 'Vagarosa e elegantemente caminhava aquela garota'\n",
    "re.finditer(\"a\", texto)"
   ]
  },
  {
   "cell_type": "code",
   "execution_count": 21,
   "id": "81084208",
   "metadata": {},
   "outputs": [
    {
     "data": {
      "text/plain": [
       "[1, 3, 7, 15, 26, 31, 33, 35, 40, 43, 47]"
      ]
     },
     "execution_count": 21,
     "metadata": {},
     "output_type": "execute_result"
    }
   ],
   "source": [
    "posicoes = [match.start() for match in re.finditer(\"a\", texto)]\n",
    "posicoes"
   ]
  },
  {
   "cell_type": "code",
   "execution_count": 22,
   "id": "156ec487",
   "metadata": {},
   "outputs": [
    {
     "data": {
      "text/plain": [
       "11"
      ]
     },
     "execution_count": 22,
     "metadata": {},
     "output_type": "execute_result"
    }
   ],
   "source": [
    "len(posicoes)"
   ]
  },
  {
   "cell_type": "code",
   "execution_count": null,
   "id": "e437f185",
   "metadata": {},
   "outputs": [
    {
     "name": "stdout",
     "output_type": "stream",
     "text": [
      "11-24: elegantemente\n"
     ]
    }
   ],
   "source": [
    "for m in re.finditer(r'\\w+mente\\b', texto):\n",
    "    print('%02d-%02d: %s' % (m.start(), m.end(), m.group(0)))"
   ]
  },
  {
   "cell_type": "code",
   "execution_count": null,
   "id": "99f4d2db",
   "metadata": {},
   "outputs": [],
   "source": [
    "musica = '''29\n",
    "            Petal on the vine\n",
    "            Too young to drink wine\n",
    "            Just five years a bleeder\n",
    "            Student and a teacher\n",
    "            Far from innocent\n",
    "            What the fuck's consent?\n",
    "            Numbers told you not to\n",
    "            But that didn't stop you\n",
    "\n",
    "            Finally 29\n",
    "            Funny just like you were at the time\n",
    "            Thought it was a teenage dream\n",
    "            Just a fantasy\n",
    "            But was it yours or was it mine?\n",
    "            17\n",
    "            29\n",
    "\n",
    "            Had me in your grip\n",
    "            Went beautifully with\n",
    "            All my daddy issues\n",
    "            And this shit continues\n",
    "\n",
    "            I see yothisu're quite the collector\n",
    "            Yeah you're twelve years her elder\n",
    "            Maybe now it doesn't matter\n",
    "            But I know fucking better!\n",
    "            Now I know fucking better!\n",
    "            'Cause I'm\n",
    "            Finally 29\n",
    "    \n",
    "            ''' "
   ]
  },
  {
   "cell_type": "code",
   "execution_count": null,
   "id": "31b1e5a3",
   "metadata": {},
   "outputs": [
    {
     "data": {
      "text/plain": [
       "29"
      ]
     },
     "execution_count": 50,
     "metadata": {},
     "output_type": "execute_result"
    }
   ],
   "source": [
    "# Quantas vezes aparece a letra a \n",
    "len(re.findall(\"a\", musica))"
   ]
  },
  {
   "cell_type": "code",
   "execution_count": null,
   "id": "1f450a51",
   "metadata": {},
   "outputs": [
    {
     "data": {
      "text/plain": [
       "4"
      ]
     },
     "execution_count": 75,
     "metadata": {},
     "output_type": "execute_result"
    }
   ],
   "source": [
    "# Quantas vezes aparece a letra 29\n",
    "len(re.findall(\"a\", musica))\n",
    "len(re.findall(\"29\", musica))"
   ]
  },
  {
   "cell_type": "code",
   "execution_count": null,
   "id": "a02085c4",
   "metadata": {},
   "outputs": [
    {
     "data": {
      "text/plain": [
       "['consent?', 'mine?']"
      ]
     },
     "execution_count": 68,
     "metadata": {},
     "output_type": "execute_result"
    }
   ],
   "source": [
    "#Consultar palavras que terminam com interrogação \"?\"\n",
    "match = re.findall(r\"\\b\\w+\\?\", musica)\n",
    "\n",
    "match"
   ]
  },
  {
   "cell_type": "code",
   "execution_count": null,
   "id": "07419cdc",
   "metadata": {},
   "outputs": [
    {
     "data": {
      "text/plain": [
       "['better!', 'better!']"
      ]
     },
     "execution_count": 76,
     "metadata": {},
     "output_type": "execute_result"
    }
   ],
   "source": [
    "#Consultar palavras que terminam com \"!\"\n",
    "match = re.findall(r\"\\b\\w+!\", musica)\n",
    "\n",
    "match"
   ]
  },
  {
   "cell_type": "code",
   "execution_count": null,
   "id": "c48fd62e",
   "metadata": {},
   "outputs": [
    {
     "data": {
      "text/plain": [
       "['fucking', 'fucking', 'fucking']"
      ]
     },
     "execution_count": 100,
     "metadata": {},
     "output_type": "execute_result"
    }
   ],
   "source": [
    "# Criando um regex que acha uma palavra no meio de duas \n",
    "re.findall(r\"(?<=know\\s)(\\w+)(?=\\sbetter)\", musica)"
   ]
  },
  {
   "cell_type": "code",
   "execution_count": null,
   "id": "9c23e630",
   "metadata": {},
   "outputs": [
    {
     "data": {
      "text/plain": [
       "['shit']"
      ]
     },
     "execution_count": 103,
     "metadata": {},
     "output_type": "execute_result"
    }
   ],
   "source": [
    "re.findall(r\"know\\s(\\w+)\\sbetter\", musica)\n",
    "re.findall(r\"this\\s(\\w+)\\scontinue\", musica)"
   ]
  },
  {
   "cell_type": "code",
   "execution_count": null,
   "id": "57f9a7d7",
   "metadata": {},
   "outputs": [
    {
     "data": {
      "text/plain": [
       "['fucking', 'fucking']"
      ]
     },
     "execution_count": 106,
     "metadata": {},
     "output_type": "execute_result"
    }
   ],
   "source": [
    "re.findall(r\"\\sknow\\s(\\w+)\\sbetter\", musica)"
   ]
  },
  {
   "cell_type": "code",
   "execution_count": null,
   "id": "54d5f053",
   "metadata": {},
   "outputs": [
    {
     "data": {
      "text/plain": [
       "0"
      ]
     },
     "execution_count": 116,
     "metadata": {},
     "output_type": "execute_result"
    }
   ],
   "source": [
    "texto = \"constantemente mente mentes mente\"\n",
    "\n",
    "len(re.findall(\"\\smente\\d\", texto))\n"
   ]
  }
 ],
 "metadata": {
  "kernelspec": {
   "display_name": "Python 3 (ipykernel)",
   "language": "python",
   "name": "python3"
  },
  "language_info": {
   "codemirror_mode": {
    "name": "ipython",
    "version": 3
   },
   "file_extension": ".py",
   "mimetype": "text/x-python",
   "name": "python",
   "nbconvert_exporter": "python",
   "pygments_lexer": "ipython3",
   "version": "3.9.13"
  }
 },
 "nbformat": 4,
 "nbformat_minor": 5
}
