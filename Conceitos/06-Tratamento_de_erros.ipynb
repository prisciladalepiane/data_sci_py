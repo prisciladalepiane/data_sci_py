{
 "cells": [
  {
   "cell_type": "markdown",
   "id": "5d3e8ec1",
   "metadata": {},
   "source": [
    "# Try, Except, Finally"
   ]
  },
  {
   "cell_type": "markdown",
   "id": "c84ae820",
   "metadata": {},
   "source": [
    "### try, except"
   ]
  },
  {
   "cell_type": "code",
   "execution_count": 2,
   "id": "836406a8",
   "metadata": {},
   "outputs": [
    {
     "name": "stdout",
     "output_type": "stream",
     "text": [
      "Operação não permitida\n"
     ]
    }
   ],
   "source": [
    "try:\n",
    "    7 + 'p'\n",
    "except TypeError:\n",
    "    print(\"Operação não permitida\")"
   ]
  },
  {
   "cell_type": "markdown",
   "id": "a4b2117c",
   "metadata": {},
   "source": [
    "### try, except e else"
   ]
  },
  {
   "cell_type": "code",
   "execution_count": 8,
   "id": "772853ef",
   "metadata": {},
   "outputs": [
    {
     "name": "stdout",
     "output_type": "stream",
     "text": [
      "Conteudo gravado com sucesso!\n"
     ]
    }
   ],
   "source": [
    "try: \n",
    "    f = open('arquivos/testandoerros.txt', 'w')\n",
    "except IOError:\n",
    "    print(\"O arquivo não pode ser salvo\")\n",
    "else:\n",
    "    print(\"Conteudo gravado com sucesso!\")\n",
    "    f.close()"
   ]
  },
  {
   "cell_type": "code",
   "execution_count": 9,
   "id": "f772eb9a",
   "metadata": {},
   "outputs": [
    {
     "name": "stdout",
     "output_type": "stream",
     "text": [
      "O arquivo não pode ser salvo\n"
     ]
    }
   ],
   "source": [
    "try: \n",
    "    f = open('arquivossss/testandoerros.txt', 'w')\n",
    "except IOError:\n",
    "    print(\"O arquivo não pode ser salvo\")\n",
    "else:\n",
    "    print(\"Conteudo gravado com sucesso!\")\n",
    "    f.close()"
   ]
  },
  {
   "cell_type": "markdown",
   "id": "940b4b9f",
   "metadata": {},
   "source": [
    "### try, except, else, finally"
   ]
  },
  {
   "cell_type": "code",
   "execution_count": 12,
   "id": "a023ca8a",
   "metadata": {},
   "outputs": [
    {
     "name": "stdout",
     "output_type": "stream",
     "text": [
      "O arquivo não pode ser salvo\n",
      "Comandos no bloco finallly sempre serão executados!\n"
     ]
    }
   ],
   "source": [
    "try: \n",
    "    f = open('arquivoss/testandoerros.txt', 'w')\n",
    "except IOError:\n",
    "    print(\"O arquivo não pode ser salvo\")\n",
    "else:\n",
    "    print(\"Conteudo gravado com sucesso!\")\n",
    "    f.close()\n",
    "finally: \n",
    "    print(\"Comandos no bloco finallly sempre serão executados!\")"
   ]
  },
  {
   "cell_type": "code",
   "execution_count": null,
   "id": "6e8be34f",
   "metadata": {},
   "outputs": [],
   "source": []
  },
  {
   "cell_type": "code",
   "execution_count": 19,
   "id": "faf3c06e",
   "metadata": {},
   "outputs": [
    {
     "name": "stdout",
     "output_type": "stream",
     "text": [
      "Digite um número: 3\n",
      "Fim da interação\n"
     ]
    }
   ],
   "source": [
    "def lerNumero():\n",
    "    try:\n",
    "        valor = int((input(\"Digite um número: \")))\n",
    "    except:\n",
    "        print(\"Você não digitou um número.\")\n",
    "    finally:\n",
    "        print(\"Fim da interação\")\n",
    "        \n",
    "lerNumero()"
   ]
  },
  {
   "cell_type": "code",
   "execution_count": 27,
   "id": "8c7a919a",
   "metadata": {},
   "outputs": [
    {
     "name": "stdout",
     "output_type": "stream",
     "text": [
      "Digite um número inteiro: 10\n",
      "Número ok\n",
      "------------\n"
     ]
    }
   ],
   "source": [
    "def lerNumero2():\n",
    "    while True:  \n",
    "        try:\n",
    "            valor = int((input(\"Digite um número inteiro: \")))\n",
    "        except:\n",
    "            print(\"Você não digitou um número inteiro.\")\n",
    "            continue\n",
    "        else: \n",
    "            print(\"Número ok\")\n",
    "            break\n",
    "        finally:\n",
    "            print(\"------------\")\n",
    "        print(valor)\n",
    "        \n",
    "lerNumero2()"
   ]
  },
  {
   "cell_type": "code",
   "execution_count": null,
   "id": "d15da1de",
   "metadata": {},
   "outputs": [],
   "source": []
  }
 ],
 "metadata": {
  "kernelspec": {
   "display_name": "Python 3 (ipykernel)",
   "language": "python",
   "name": "python3"
  },
  "language_info": {
   "codemirror_mode": {
    "name": "ipython",
    "version": 3
   },
   "file_extension": ".py",
   "mimetype": "text/x-python",
   "name": "python",
   "nbconvert_exporter": "python",
   "pygments_lexer": "ipython3",
   "version": "3.9.13"
  }
 },
 "nbformat": 4,
 "nbformat_minor": 5
}
