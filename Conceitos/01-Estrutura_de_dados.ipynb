{
 "cells": [
  {
   "cell_type": "markdown",
   "id": "f1eb74fb",
   "metadata": {},
   "source": [
    "# Estrutura de Dados"
   ]
  },
  {
   "cell_type": "markdown",
   "id": "6cf955d6",
   "metadata": {},
   "source": [
    "# Variáveis"
   ]
  },
  {
   "cell_type": "code",
   "execution_count": null,
   "id": "1b4e4496",
   "metadata": {},
   "outputs": [],
   "source": [
    "a, b, c = 1, 2, 3 # Declaração Multipla"
   ]
  },
  {
   "cell_type": "markdown",
   "id": "bc6b30ee",
   "metadata": {},
   "source": [
    "# Strings ' '\n",
    "\n",
    "Usar aspas simples ou duplas"
   ]
  },
  {
   "cell_type": "code",
   "execution_count": null,
   "id": "5be2dc63",
   "metadata": {},
   "outputs": [
    {
     "name": "stdout",
     "output_type": "stream",
     "text": [
      "String \n",
      "Teste\n"
     ]
    }
   ],
   "source": [
    "print('String \\nTeste')"
   ]
  },
  {
   "cell_type": "markdown",
   "id": "b9129a10",
   "metadata": {},
   "source": [
    "### Indexando String"
   ]
  },
  {
   "cell_type": "code",
   "execution_count": 41,
   "id": "78366c83",
   "metadata": {},
   "outputs": [
    {
     "data": {
      "text/plain": [
       "'Ola Mundo'"
      ]
     },
     "execution_count": 41,
     "metadata": {},
     "output_type": "execute_result"
    }
   ],
   "source": [
    "string = \"Ola Mundo\"\n",
    "string"
   ]
  },
  {
   "cell_type": "markdown",
   "id": "0364aee9",
   "metadata": {},
   "source": [
    "Em Python, os índices são usados para acessar elementos em sequências, como listas, tuplas, strings e outras estruturas de dados indexadas. Os índices em Python são baseados em zero, o que significa que o primeiro elemento de uma sequência tem índice 0, o segundo elemento tem índice 1 e assim por diante.\n",
    "\n",
    "Para imprimir a letra no indice 0"
   ]
  },
  {
   "cell_type": "code",
   "execution_count": 32,
   "id": "eb59b927",
   "metadata": {},
   "outputs": [
    {
     "data": {
      "text/plain": [
       "'a'"
      ]
     },
     "execution_count": 32,
     "metadata": {},
     "output_type": "execute_result"
    }
   ],
   "source": [
    "string[0]\n"
   ]
  },
  {
   "cell_type": "code",
   "execution_count": 39,
   "id": "3c87667f",
   "metadata": {},
   "outputs": [
    {
     "data": {
      "text/plain": [
       "'Ola'"
      ]
     },
     "execution_count": 39,
     "metadata": {},
     "output_type": "execute_result"
    }
   ],
   "source": [
    "string[:3] # Imprimir as 3 primeiras letras"
   ]
  },
  {
   "cell_type": "code",
   "execution_count": 40,
   "id": "37e852c3",
   "metadata": {},
   "outputs": [
    {
     "data": {
      "text/plain": [
       "'Ola pyhton te'"
      ]
     },
     "execution_count": 40,
     "metadata": {},
     "output_type": "execute_result"
    }
   ],
   "source": [
    "string[:-3] # Imprimir todas menos as 3 ultimas"
   ]
  },
  {
   "cell_type": "code",
   "execution_count": 42,
   "id": "789584aa",
   "metadata": {},
   "outputs": [
    {
     "data": {
      "text/plain": [
       "'o'"
      ]
     },
     "execution_count": 42,
     "metadata": {},
     "output_type": "execute_result"
    }
   ],
   "source": [
    "string[-1] # Idenxacao negativa para ler de tras para frente"
   ]
  },
  {
   "cell_type": "markdown",
   "id": "48880ca8",
   "metadata": {},
   "source": [
    "Funções String"
   ]
  },
  {
   "cell_type": "code",
   "execution_count": 43,
   "id": "9559cc41",
   "metadata": {},
   "outputs": [],
   "source": [
    "s = 'testando funcoes Strings'"
   ]
  },
  {
   "cell_type": "code",
   "execution_count": 44,
   "id": "32987bc5",
   "metadata": {},
   "outputs": [
    {
     "data": {
      "text/plain": [
       "1"
      ]
     },
     "execution_count": 44,
     "metadata": {},
     "output_type": "execute_result"
    }
   ],
   "source": [
    "s.count('a')"
   ]
  },
  {
   "cell_type": "code",
   "execution_count": 45,
   "id": "2e783fa5",
   "metadata": {},
   "outputs": [
    {
     "data": {
      "text/plain": [
       "False"
      ]
     },
     "execution_count": 45,
     "metadata": {},
     "output_type": "execute_result"
    }
   ],
   "source": [
    "s.isalnum()"
   ]
  },
  {
   "cell_type": "code",
   "execution_count": 47,
   "id": "44324f42",
   "metadata": {},
   "outputs": [
    {
     "data": {
      "text/plain": [
       "False"
      ]
     },
     "execution_count": 47,
     "metadata": {},
     "output_type": "execute_result"
    }
   ],
   "source": [
    "s.islower()"
   ]
  },
  {
   "cell_type": "code",
   "execution_count": 48,
   "id": "e83f54ff",
   "metadata": {},
   "outputs": [
    {
     "data": {
      "text/plain": [
       "False"
      ]
     },
     "execution_count": 48,
     "metadata": {},
     "output_type": "execute_result"
    }
   ],
   "source": [
    "s.isspace()"
   ]
  },
  {
   "cell_type": "code",
   "execution_count": 49,
   "id": "015b15f0",
   "metadata": {},
   "outputs": [
    {
     "data": {
      "text/plain": [
       "'Testando funcoes strings'"
      ]
     },
     "execution_count": 49,
     "metadata": {},
     "output_type": "execute_result"
    }
   ],
   "source": [
    "s.capitalize()"
   ]
  },
  {
   "cell_type": "code",
   "execution_count": 51,
   "id": "a7f0ed6e",
   "metadata": {},
   "outputs": [
    {
     "data": {
      "text/plain": [
       "True"
      ]
     },
     "execution_count": 51,
     "metadata": {},
     "output_type": "execute_result"
    }
   ],
   "source": [
    "s.endswith('s')"
   ]
  },
  {
   "cell_type": "markdown",
   "id": "27c5020a",
   "metadata": {},
   "source": [
    "# Listas [ ]\n",
    "\n",
    "\n",
    "Listas em Python são uma estrutura de dados que permitem armazenar uma coleção ordenada de elementos.\n",
    "As listas em Python mantêm a ordem dos elementos conforme são inseridos. Isso significa que você pode acessar os elementos da lista pela sua posição, começando do índice 0 até o índice n-1, onde n é o comprimento da lista.\n"
   ]
  },
  {
   "cell_type": "markdown",
   "id": "32bb6c52",
   "metadata": {},
   "source": [
    "### Criando Listas"
   ]
  },
  {
   "cell_type": "code",
   "execution_count": 67,
   "id": "1baa029b",
   "metadata": {},
   "outputs": [
    {
     "data": {
      "text/plain": [
       "list"
      ]
     },
     "execution_count": 67,
     "metadata": {},
     "output_type": "execute_result"
    }
   ],
   "source": [
    "lista_1 = [\"arroz, frango\"]\n",
    "type(lista_1)"
   ]
  },
  {
   "cell_type": "code",
   "execution_count": 33,
   "id": "9c4a5775",
   "metadata": {},
   "outputs": [
    {
     "name": "stdout",
     "output_type": "stream",
     "text": [
      "['arroz', 'frango', 'feijao']\n"
     ]
    }
   ],
   "source": [
    "lista_2 = [\"arroz\", \"frango\", \"feijao\"]\n",
    "print(lista_2)"
   ]
  },
  {
   "cell_type": "code",
   "execution_count": 58,
   "id": "3d293b7d",
   "metadata": {},
   "outputs": [
    {
     "name": "stdout",
     "output_type": "stream",
     "text": [
      "[29, 7, 'Priscila']\n"
     ]
    }
   ],
   "source": [
    "lista_3 = [29, 7, \"Priscila\"]\n",
    "print(lista_3)"
   ]
  },
  {
   "cell_type": "code",
   "execution_count": 62,
   "id": "c81eaac2",
   "metadata": {},
   "outputs": [
    {
     "name": "stdout",
     "output_type": "stream",
     "text": [
      "29\n"
     ]
    },
    {
     "data": {
      "text/plain": [
       "int"
      ]
     },
     "execution_count": 62,
     "metadata": {},
     "output_type": "execute_result"
    }
   ],
   "source": [
    "item1 = lista_3[0]\n",
    "print(item1)\n",
    "type(item1)"
   ]
  },
  {
   "cell_type": "code",
   "execution_count": 63,
   "id": "5c11ec87",
   "metadata": {},
   "outputs": [
    {
     "data": {
      "text/plain": [
       "int"
      ]
     },
     "execution_count": 63,
     "metadata": {},
     "output_type": "execute_result"
    }
   ],
   "source": [
    "item3 = lista_3[0]\n",
    "type(item3)"
   ]
  },
  {
   "cell_type": "markdown",
   "id": "ce59f255",
   "metadata": {},
   "source": [
    "### Adicionando Item\n",
    "\n",
    "\n",
    "`append()` é um método em Python usado para adicionar um elemento ao final de uma lista."
   ]
  },
  {
   "cell_type": "code",
   "execution_count": 32,
   "id": "074b8e94",
   "metadata": {},
   "outputs": [
    {
     "ename": "NameError",
     "evalue": "name 'lista_2' is not defined",
     "output_type": "error",
     "traceback": [
      "\u001b[1;31m---------------------------------------------------------------------------\u001b[0m",
      "\u001b[1;31mNameError\u001b[0m                                 Traceback (most recent call last)",
      "\u001b[1;32m~\\AppData\\Local\\Temp\\ipykernel_24704\\1665822616.py\u001b[0m in \u001b[0;36m<module>\u001b[1;34m\u001b[0m\n\u001b[1;32m----> 1\u001b[1;33m \u001b[0mlista_2\u001b[0m\u001b[1;33m.\u001b[0m\u001b[0mappend\u001b[0m\u001b[1;33m(\u001b[0m\u001b[1;34m\"Fritas\"\u001b[0m\u001b[1;33m)\u001b[0m\u001b[1;33m\u001b[0m\u001b[1;33m\u001b[0m\u001b[0m\n\u001b[0m\u001b[0;32m      2\u001b[0m \u001b[0mprint\u001b[0m\u001b[1;33m(\u001b[0m\u001b[0mlista_2\u001b[0m\u001b[1;33m)\u001b[0m\u001b[1;33m\u001b[0m\u001b[1;33m\u001b[0m\u001b[0m\n",
      "\u001b[1;31mNameError\u001b[0m: name 'lista_2' is not defined"
     ]
    }
   ],
   "source": [
    "lista_2.append(\"Fritas\")\n",
    "print(lista_2)"
   ]
  },
  {
   "cell_type": "markdown",
   "id": "7b502744",
   "metadata": {},
   "source": [
    "### Index\n",
    "\n",
    "`index()` é um método em Python usado para encontrar o índice de um elemento específico em uma lista."
   ]
  },
  {
   "cell_type": "code",
   "execution_count": 105,
   "id": "399a00aa",
   "metadata": {},
   "outputs": [
    {
     "data": {
      "text/plain": [
       "1"
      ]
     },
     "execution_count": 105,
     "metadata": {},
     "output_type": "execute_result"
    }
   ],
   "source": [
    "lista_2.index('feijao')"
   ]
  },
  {
   "cell_type": "markdown",
   "id": "db70bb19",
   "metadata": {},
   "source": [
    "### Deletando Itens de lista"
   ]
  },
  {
   "cell_type": "code",
   "execution_count": 77,
   "id": "e718a5d0",
   "metadata": {},
   "outputs": [
    {
     "data": {
      "text/plain": [
       "['arroz', 'frango', 'feijao']"
      ]
     },
     "execution_count": 77,
     "metadata": {},
     "output_type": "execute_result"
    }
   ],
   "source": [
    "lista_2"
   ]
  },
  {
   "cell_type": "markdown",
   "id": "30534818",
   "metadata": {},
   "source": [
    "`del` é uma instrução em Python usada para remover um elemento ou uma fatia de elementos de uma lista, tupla ou dicionário."
   ]
  },
  {
   "cell_type": "code",
   "execution_count": 78,
   "id": "6fa046e9",
   "metadata": {},
   "outputs": [],
   "source": [
    "del lista_2[1] # removendo elemento do indice 1"
   ]
  },
  {
   "cell_type": "code",
   "execution_count": 31,
   "id": "c04f3e48",
   "metadata": {},
   "outputs": [
    {
     "ename": "NameError",
     "evalue": "name 'lista_2' is not defined",
     "output_type": "error",
     "traceback": [
      "\u001b[1;31m---------------------------------------------------------------------------\u001b[0m",
      "\u001b[1;31mNameError\u001b[0m                                 Traceback (most recent call last)",
      "\u001b[1;32m~\\AppData\\Local\\Temp\\ipykernel_24704\\2040485225.py\u001b[0m in \u001b[0;36m<module>\u001b[1;34m\u001b[0m\n\u001b[1;32m----> 1\u001b[1;33m \u001b[0mlista_2\u001b[0m\u001b[1;33m\u001b[0m\u001b[1;33m\u001b[0m\u001b[0m\n\u001b[0m",
      "\u001b[1;31mNameError\u001b[0m: name 'lista_2' is not defined"
     ]
    }
   ],
   "source": [
    "lista_2"
   ]
  },
  {
   "cell_type": "markdown",
   "id": "a6f79655",
   "metadata": {},
   "source": [
    "### Operações com listas aninhadas\n",
    "\n",
    "\n",
    "Listas aninhadas em Python são listas que contêm outras listas como elementos. Essas listas internas podem conter qualquer tipo de dados e podem ser acessadas usando índices adicionais. "
   ]
  },
  {
   "cell_type": "code",
   "execution_count": 3,
   "id": "d38e8011",
   "metadata": {},
   "outputs": [],
   "source": [
    "lista_aninhada = [[1, 2, 3],\n",
    "          [10, 15, 20],\n",
    "          [10.8, 29.7, 2.3]]"
   ]
  },
  {
   "cell_type": "code",
   "execution_count": 81,
   "id": "d97c4b93",
   "metadata": {},
   "outputs": [
    {
     "data": {
      "text/plain": [
       "[[1, 2, 3], [10, 15, 20], [10.8, 29.7, 2.3]]"
      ]
     },
     "execution_count": 81,
     "metadata": {},
     "output_type": "execute_result"
    }
   ],
   "source": [
    "lista_aninhada"
   ]
  },
  {
   "cell_type": "code",
   "execution_count": 4,
   "id": "a3d7bf7f",
   "metadata": {},
   "outputs": [
    {
     "data": {
      "text/plain": [
       "2"
      ]
     },
     "execution_count": 4,
     "metadata": {},
     "output_type": "execute_result"
    }
   ],
   "source": [
    "# acessa o segundo elemento da primeira lista aninhada dentro da lista principal\n",
    "lista_aninhada[0][1] "
   ]
  },
  {
   "cell_type": "code",
   "execution_count": 5,
   "id": "7be4a618",
   "metadata": {},
   "outputs": [],
   "source": [
    "# Acessa toda a primeira lista\n",
    "a = lista_aninhada[0]"
   ]
  },
  {
   "cell_type": "code",
   "execution_count": 6,
   "id": "1945f1d8",
   "metadata": {},
   "outputs": [
    {
     "data": {
      "text/plain": [
       "[1, 2, 3]"
      ]
     },
     "execution_count": 6,
     "metadata": {},
     "output_type": "execute_result"
    }
   ],
   "source": [
    "a"
   ]
  },
  {
   "cell_type": "code",
   "execution_count": 94,
   "id": "f5ccb9aa",
   "metadata": {},
   "outputs": [],
   "source": [
    "# Acessa toda a segunda lista\n",
    "b = lista_aninhada[1]"
   ]
  },
  {
   "cell_type": "code",
   "execution_count": 96,
   "id": "327fbdec",
   "metadata": {},
   "outputs": [
    {
     "data": {
      "text/plain": [
       "[1, 2, 3, 10, 15, 20]"
      ]
     },
     "execution_count": 96,
     "metadata": {},
     "output_type": "execute_result"
    }
   ],
   "source": [
    "# Concatenando Listas\n",
    "a + b"
   ]
  },
  {
   "cell_type": "markdown",
   "id": "32be0a97",
   "metadata": {},
   "source": [
    "### Operador in\n",
    "\n",
    "\n",
    "O operador `in` em Python é usado para verificar se um valor está presente em uma sequência, como uma lista, tupla, string ou dicionário. Retorna True se o valor estiver presente e False caso contrário."
   ]
  },
  {
   "cell_type": "code",
   "execution_count": 8,
   "id": "438a4ea2",
   "metadata": {},
   "outputs": [],
   "source": [
    "lista_op = [100, 7, -3, 3.10]"
   ]
  },
  {
   "cell_type": "code",
   "execution_count": 9,
   "id": "125875a1",
   "metadata": {},
   "outputs": [
    {
     "name": "stdout",
     "output_type": "stream",
     "text": [
      "False\n"
     ]
    }
   ],
   "source": [
    "print(10 in lista_op) # Verifica 10 está na lista"
   ]
  },
  {
   "cell_type": "code",
   "execution_count": 10,
   "id": "41c3daa8",
   "metadata": {},
   "outputs": [
    {
     "name": "stdout",
     "output_type": "stream",
     "text": [
      "True\n"
     ]
    }
   ],
   "source": [
    "print(100 in lista_op) # Verifica 100 está na lista"
   ]
  },
  {
   "cell_type": "markdown",
   "id": "a48d2607",
   "metadata": {},
   "source": [
    "### List Comprehension"
   ]
  },
  {
   "cell_type": "code",
   "execution_count": null,
   "id": "e5fd95ce",
   "metadata": {},
   "outputs": [],
   "source": [
    "numeros = list(range(1, 101))\n",
    "\n",
    "# List Comprehension\n",
    "numeros_pares_divisiveis_por_4 = [num for num in numeros if num % 2 == 0 and num % 4 == 0]\n",
    "\n",
    "print(numeros_pares_divisiveis_por_4)"
   ]
  },
  {
   "cell_type": "markdown",
   "id": "3b7aa5d0",
   "metadata": {},
   "source": [
    "# Dicionários { : }\n",
    "\n",
    "Permite armazenar pares **chave-valor**, onde cada chave é única e mapeia para um valor correspondente. Os dicionários são conhecidos como uma coleção não ordenada, o que significa que os elementos não são indexados por posição, mas sim acessados diretamente pela chave associada."
   ]
  },
  {
   "cell_type": "code",
   "execution_count": 20,
   "id": "825c7e60",
   "metadata": {},
   "outputs": [],
   "source": [
    "estudante_disc = {\"Priscila\":29, \"Ronaldo\":45, \"Eliana\": 53, \"Renata\":28}"
   ]
  },
  {
   "cell_type": "code",
   "execution_count": 122,
   "id": "44699ba0",
   "metadata": {},
   "outputs": [
    {
     "data": {
      "text/plain": [
       "29"
      ]
     },
     "execution_count": 122,
     "metadata": {},
     "output_type": "execute_result"
    }
   ],
   "source": [
    "estudante_disc[\"Priscila\"]"
   ]
  },
  {
   "cell_type": "code",
   "execution_count": 110,
   "id": "b62b675d",
   "metadata": {},
   "outputs": [],
   "source": [
    "estudante_disc[\"Laura\"] = 19"
   ]
  },
  {
   "cell_type": "code",
   "execution_count": 123,
   "id": "2f042e19",
   "metadata": {},
   "outputs": [
    {
     "data": {
      "text/plain": [
       "{'Priscila': 29, 'Ronaldo': 45, 'Eliana': 53, 'Renata': 28}"
      ]
     },
     "execution_count": 123,
     "metadata": {},
     "output_type": "execute_result"
    }
   ],
   "source": [
    "estudante_disc"
   ]
  },
  {
   "cell_type": "code",
   "execution_count": 115,
   "id": "8618c728",
   "metadata": {},
   "outputs": [],
   "source": [
    "estudante_disc.clear()"
   ]
  },
  {
   "cell_type": "code",
   "execution_count": 126,
   "id": "6125c7c6",
   "metadata": {},
   "outputs": [
    {
     "data": {
      "text/plain": [
       "4"
      ]
     },
     "execution_count": 126,
     "metadata": {},
     "output_type": "execute_result"
    }
   ],
   "source": [
    "len(estudante_disc)"
   ]
  },
  {
   "cell_type": "code",
   "execution_count": 22,
   "id": "3f053445",
   "metadata": {},
   "outputs": [],
   "source": [
    "estudantes = {\"Jose\":25, \"Pedro\":29, \"Eliana\":54}"
   ]
  },
  {
   "cell_type": "code",
   "execution_count": 13,
   "id": "7149a715",
   "metadata": {},
   "outputs": [
    {
     "data": {
      "text/plain": [
       "dict_items([('Jose', 25), ('Pedro', 29)])"
      ]
     },
     "execution_count": 13,
     "metadata": {},
     "output_type": "execute_result"
    }
   ],
   "source": [
    "estudantes.items() # Verifica os itens do dicionário"
   ]
  },
  {
   "cell_type": "code",
   "execution_count": 16,
   "id": "b04805c7",
   "metadata": {},
   "outputs": [
    {
     "data": {
      "text/plain": [
       "dict_keys(['Jose', 'Pedro', 'Eliana'])"
      ]
     },
     "execution_count": 16,
     "metadata": {},
     "output_type": "execute_result"
    }
   ],
   "source": [
    "estudantes.keys() # Verifica as chaves do dicionário"
   ]
  },
  {
   "cell_type": "code",
   "execution_count": 18,
   "id": "e3583191",
   "metadata": {},
   "outputs": [
    {
     "data": {
      "text/plain": [
       "dict_values([25, 29, 54])"
      ]
     },
     "execution_count": 18,
     "metadata": {},
     "output_type": "execute_result"
    }
   ],
   "source": [
    "estudantes.values() # Verifica os valores do dicionário"
   ]
  },
  {
   "cell_type": "markdown",
   "id": "0031285d",
   "metadata": {},
   "source": [
    "`update()` é um método usado para atualizar um dicionário com os pares chave-valor de outro dicionário ou iterável, substituindo os valores existentes das chaves correspondentes e adicionando novas chaves se necessário."
   ]
  },
  {
   "cell_type": "code",
   "execution_count": 23,
   "id": "962e3ad6",
   "metadata": {},
   "outputs": [],
   "source": [
    "estudante_disc.update(estudantes)"
   ]
  },
  {
   "cell_type": "code",
   "execution_count": 24,
   "id": "c65ffc97",
   "metadata": {},
   "outputs": [
    {
     "data": {
      "text/plain": [
       "{'Priscila': 29,\n",
       " 'Ronaldo': 45,\n",
       " 'Eliana': 54,\n",
       " 'Renata': 28,\n",
       " 'Jose': 25,\n",
       " 'Pedro': 29}"
      ]
     },
     "execution_count": 24,
     "metadata": {},
     "output_type": "execute_result"
    }
   ],
   "source": [
    "estudante_disc"
   ]
  },
  {
   "cell_type": "code",
   "execution_count": 26,
   "id": "6db78e12",
   "metadata": {},
   "outputs": [],
   "source": [
    "dic1 = {}"
   ]
  },
  {
   "cell_type": "code",
   "execution_count": 27,
   "id": "cf68247d",
   "metadata": {},
   "outputs": [],
   "source": [
    "dic1[\"chave1\"] = 2"
   ]
  },
  {
   "cell_type": "code",
   "execution_count": 28,
   "id": "a990dfc0",
   "metadata": {},
   "outputs": [],
   "source": [
    "dic1[\"teste\"] = 10\n"
   ]
  },
  {
   "cell_type": "code",
   "execution_count": 29,
   "id": "d92b1ec4",
   "metadata": {},
   "outputs": [
    {
     "data": {
      "text/plain": [
       "{'chave1': 2, 'teste': 10, 'teste2': 'Palavra'}"
      ]
     },
     "execution_count": 29,
     "metadata": {},
     "output_type": "execute_result"
    }
   ],
   "source": [
    "dic1[\"teste2\"] = 'Palavra'\n",
    "dic1"
   ]
  },
  {
   "cell_type": "markdown",
   "id": "580f87bc",
   "metadata": {},
   "source": [
    "### Dicionario com listas"
   ]
  },
  {
   "cell_type": "code",
   "execution_count": 34,
   "id": "eba257dd",
   "metadata": {},
   "outputs": [
    {
     "data": {
      "text/plain": [
       "{'chave1': 1230,\n",
       " 'chave2': [2, 5, 9, 8],\n",
       " 'chave3': ['arroz', 'frango', 'feijao']}"
      ]
     },
     "execution_count": 34,
     "metadata": {},
     "output_type": "execute_result"
    }
   ],
   "source": [
    "dic2 = {}\n",
    "dic2 = {'chave1': 1230, 'chave2': [2, 5, 9, 8], 'chave3': lista_2}\n",
    "dic2"
   ]
  },
  {
   "cell_type": "code",
   "execution_count": 35,
   "id": "706e7e11",
   "metadata": {},
   "outputs": [
    {
     "data": {
      "text/plain": [
       "'arroz'"
      ]
     },
     "execution_count": 35,
     "metadata": {},
     "output_type": "execute_result"
    }
   ],
   "source": [
    "dic2[\"chave3\"][0]"
   ]
  },
  {
   "cell_type": "code",
   "execution_count": 36,
   "id": "2076e673",
   "metadata": {},
   "outputs": [
    {
     "data": {
      "text/plain": [
       "'ARROZ'"
      ]
     },
     "execution_count": 36,
     "metadata": {},
     "output_type": "execute_result"
    }
   ],
   "source": [
    "dic2[\"chave3\"][0].upper()"
   ]
  },
  {
   "cell_type": "code",
   "execution_count": 37,
   "id": "20d494e6",
   "metadata": {},
   "outputs": [
    {
     "data": {
      "text/plain": [
       "{'chave1': 1230,\n",
       " 'chave2': [0, 5, 9, 8],\n",
       " 'chave3': ['arroz', 'frango', 'feijao']}"
      ]
     },
     "execution_count": 37,
     "metadata": {},
     "output_type": "execute_result"
    }
   ],
   "source": [
    "dic2[\"chave2\"][0] -= 2\n",
    "dic2"
   ]
  },
  {
   "cell_type": "markdown",
   "id": "3f94676a",
   "metadata": {},
   "source": [
    "### Dicionários Aninhados\n",
    "\n",
    "json"
   ]
  },
  {
   "cell_type": "code",
   "execution_count": 174,
   "id": "fc3b5d4d",
   "metadata": {},
   "outputs": [],
   "source": [
    "disc3 = {'key1':{'key2_aninhada':{'key3_aninhada': \"Dicionarios aninhados são o formato json\"}}}"
   ]
  },
  {
   "cell_type": "code",
   "execution_count": 176,
   "id": "c64981ef",
   "metadata": {},
   "outputs": [
    {
     "data": {
      "text/plain": [
       "{'key1': {'key2_aninhada': {'key3_aninhada': 'Dicionarios aninhados são o formato json'}}}"
      ]
     },
     "execution_count": 176,
     "metadata": {},
     "output_type": "execute_result"
    }
   ],
   "source": [
    "disc3"
   ]
  },
  {
   "cell_type": "code",
   "execution_count": 178,
   "id": "7c443409",
   "metadata": {},
   "outputs": [
    {
     "data": {
      "text/plain": [
       "'Dicionarios aninhados são o formato json'"
      ]
     },
     "execution_count": 178,
     "metadata": {},
     "output_type": "execute_result"
    }
   ],
   "source": [
    "disc3['key1']['key2_aninhada']['key3_aninhada']"
   ]
  },
  {
   "cell_type": "markdown",
   "id": "e7520719",
   "metadata": {},
   "source": [
    "# Tuplas ( )\n",
    "\n",
    "As tuplas em Python são às listas, mas com uma diferença: elas são imutáveis. Isso significa que, uma vez que uma tupla é criada, seus elementos não podem ser alterados, adicionados ou removidos. As tuplas são geralmente usadas em situações onde você deseja armazenar um conjunto de valores que não precisam ser alterados.\n",
    "\n"
   ]
  },
  {
   "cell_type": "code",
   "execution_count": 182,
   "id": "1d1ab364",
   "metadata": {},
   "outputs": [
    {
     "data": {
      "text/plain": [
       "('Geografia', 23, 'Snow', 9.5)"
      ]
     },
     "execution_count": 182,
     "metadata": {},
     "output_type": "execute_result"
    }
   ],
   "source": [
    "tupla1 = (\"Geografia\", 23, \"Snow\", 9.5)\n",
    "tupla1\n"
   ]
  },
  {
   "cell_type": "markdown",
   "id": "85dffa52",
   "metadata": {},
   "source": [
    "Converter a tupla em lista"
   ]
  },
  {
   "cell_type": "code",
   "execution_count": 183,
   "id": "bd77337c",
   "metadata": {},
   "outputs": [
    {
     "data": {
      "text/plain": [
       "['Geografia', 23, 'Snow', 9.5]"
      ]
     },
     "execution_count": 183,
     "metadata": {},
     "output_type": "execute_result"
    }
   ],
   "source": [
    "lista_t = list(tupla1)\n",
    "lista_t"
   ]
  }
 ],
 "metadata": {
  "kernelspec": {
   "display_name": "Python 3 (ipykernel)",
   "language": "python",
   "name": "python3"
  },
  "language_info": {
   "codemirror_mode": {
    "name": "ipython",
    "version": 3
   },
   "file_extension": ".py",
   "mimetype": "text/x-python",
   "name": "python",
   "nbconvert_exporter": "python",
   "pygments_lexer": "ipython3",
   "version": "3.9.13"
  }
 },
 "nbformat": 4,
 "nbformat_minor": 5
}
