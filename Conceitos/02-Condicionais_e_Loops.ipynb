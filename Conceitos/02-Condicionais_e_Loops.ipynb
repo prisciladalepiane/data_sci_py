{
 "cells": [
  {
   "cell_type": "markdown",
   "id": "5d308e86",
   "metadata": {},
   "source": [
    "# Condicionais"
   ]
  },
  {
   "cell_type": "code",
   "execution_count": 1,
   "id": "7007ba7d",
   "metadata": {},
   "outputs": [
    {
     "name": "stdout",
     "output_type": "stream",
     "text": [
      "Verdadeira elif\n"
     ]
    }
   ],
   "source": [
    "if 1 > 2:\n",
    "    print(\"Verdadeira!\")\n",
    "elif 5 > 2: \n",
    "    print(\"Verdadeira elif\")\n",
    "elif 1 < 5: \n",
    "    print(\"3\")"
   ]
  },
  {
   "cell_type": "markdown",
   "id": "2b738fa8",
   "metadata": {},
   "source": [
    "# Loop For "
   ]
  },
  {
   "cell_type": "code",
   "execution_count": 2,
   "id": "d9ab27dc",
   "metadata": {},
   "outputs": [
    {
     "name": "stdout",
     "output_type": "stream",
     "text": [
      "1\n",
      "2\n",
      "3\n",
      "---\n",
      "2\n",
      "3\n",
      "4\n",
      "---\n",
      "3\n",
      "4\n",
      "5\n",
      "---\n"
     ]
    }
   ],
   "source": [
    "lista1 = [0,1,2]\n",
    "lista2 = [1,2,3]\n",
    "\n",
    "for i in lista1:\n",
    "    for j in lista2:\n",
    "        print(i+j)\n",
    "    print('---')"
   ]
  },
  {
   "cell_type": "code",
   "execution_count": 3,
   "id": "ef2e0cf6",
   "metadata": {},
   "outputs": [],
   "source": [
    "lista1 = [10,21,30,43]\n",
    "lista2 = [50,30,73,80]\n",
    "\n",
    "soma = 0\n",
    "\n",
    "# For com lista de listas\n",
    "for lista in [lista1, lista2]:\n",
    "    \n",
    "    for num in lista:\n",
    "        \n",
    "        if num % 2 == 0:\n",
    "            soma += 0\n",
    "    \n",
    "    \n"
   ]
  },
  {
   "cell_type": "code",
   "execution_count": 4,
   "id": "b737beae",
   "metadata": {},
   "outputs": [
    {
     "data": {
      "text/plain": [
       "[10, 21, 30, 43, 50, 30, 73, 80]"
      ]
     },
     "execution_count": 4,
     "metadata": {},
     "output_type": "execute_result"
    }
   ],
   "source": [
    "lista1 + lista2 # Concatenar Lista"
   ]
  },
  {
   "cell_type": "markdown",
   "id": "a6e3ec35",
   "metadata": {},
   "source": [
    "## Loop com Matriz\n",
    "\n",
    "Lista de listas, algoritmo para procurar maior numero em uma matriz"
   ]
  },
  {
   "cell_type": "code",
   "execution_count": 5,
   "id": "899f3c22",
   "metadata": {},
   "outputs": [
    {
     "name": "stdout",
     "output_type": "stream",
     "text": [
      "210\n"
     ]
    }
   ],
   "source": [
    "matriz = [[43, 23, 210], [57, 65, 20], [30, 39, 78]]\n",
    "\n",
    "maior_numero = 0\n",
    "\n",
    "for linha in matriz:\n",
    "    \n",
    "    for num in linha:\n",
    "        \n",
    "        if num > maior_numero:\n",
    "            \n",
    "            maior_numero = num\n",
    "            \n",
    "print(maior_numero)\n"
   ]
  },
  {
   "cell_type": "markdown",
   "id": "f2598cf3",
   "metadata": {},
   "source": [
    "## Loop com Dicionario"
   ]
  },
  {
   "cell_type": "code",
   "execution_count": 6,
   "id": "e8e5e6a2",
   "metadata": {},
   "outputs": [
    {
     "name": "stdout",
     "output_type": "stream",
     "text": [
      "key1\n",
      "key2\n",
      "key3\n"
     ]
    }
   ],
   "source": [
    "dict = {'key1':'R', 'key2':'Python', 'key3':'Scala'}\n",
    "\n",
    "for i in dict:\n",
    "    print(i)"
   ]
  },
  {
   "cell_type": "code",
   "execution_count": 7,
   "id": "5ef53f4a",
   "metadata": {},
   "outputs": [
    {
     "name": "stdout",
     "output_type": "stream",
     "text": [
      "key1 R\n",
      "key2 Python\n",
      "key3 Scala\n"
     ]
    }
   ],
   "source": [
    "for i,j in dict.items():\n",
    "    print(i,j)"
   ]
  },
  {
   "cell_type": "markdown",
   "id": "752d27e9",
   "metadata": {},
   "source": [
    "# Loop While"
   ]
  },
  {
   "cell_type": "code",
   "execution_count": 8,
   "id": "9d1cf204",
   "metadata": {},
   "outputs": [
    {
     "name": "stdout",
     "output_type": "stream",
     "text": [
      "0\n",
      "1\n",
      "2\n",
      "3\n",
      "4\n"
     ]
    }
   ],
   "source": [
    "valor = 0\n",
    "\n",
    "while valor < 5:\n",
    "    print(valor)\n",
    "    valor += 1"
   ]
  },
  {
   "cell_type": "code",
   "execution_count": 9,
   "id": "1da979d8",
   "metadata": {},
   "outputs": [
    {
     "name": "stdout",
     "output_type": "stream",
     "text": [
      "0\n",
      "1\n",
      "2\n",
      "3\n",
      "4\n",
      "5 não entra no loop\n"
     ]
    }
   ],
   "source": [
    "# Também é possivel usar else no loop\n",
    "\n",
    "valor = 0\n",
    "\n",
    "while valor < 5:\n",
    "    print(valor)\n",
    "    valor += 1\n",
    "else: \n",
    "    print(valor, \"não entra no loop\")"
   ]
  },
  {
   "cell_type": "markdown",
   "id": "30c8e864",
   "metadata": {},
   "source": [
    "## Pass, break, continue\n",
    "\n",
    "`Pass`, `break` e `continue` são instruções de controle de fluxo em Python. \n",
    "\n",
    "`Pass` é usado para indicar uma instrução vazia, permitindo a definição de blocos sem executar nenhuma ação.\n",
    "\n",
    " `Break` é usado para interromper a execução de loops `for` e `while`, permitindo que o código continue após o loop. \n",
    " \n",
    " `Continue` é usado para pular para a próxima iteração de um loop, ignorando o restante do código dentro do loop para a iteração atual. Essas instruções são úteis para controlar o fluxo de execução do programa em situações específicas."
   ]
  },
  {
   "cell_type": "code",
   "execution_count": 10,
   "id": "3746eec4",
   "metadata": {},
   "outputs": [
    {
     "name": "stdout",
     "output_type": "stream",
     "text": [
      "0\n",
      "1\n",
      "2\n",
      "3\n"
     ]
    }
   ],
   "source": [
    "valor = 0\n",
    "\n",
    "while valor < 10:\n",
    "    if valor == 4:\n",
    "        break\n",
    "    else: \n",
    "        pass\n",
    "    print(valor)\n",
    "    valor += 1\n",
    "    "
   ]
  },
  {
   "cell_type": "code",
   "execution_count": 11,
   "id": "f99258cb",
   "metadata": {},
   "outputs": [
    {
     "name": "stdout",
     "output_type": "stream",
     "text": [
      "P\n",
      "y\n",
      "t\n",
      "h\n",
      "o\n",
      "n\n",
      " \n",
      "e\n",
      " \n",
      "R\n",
      "!\n"
     ]
    }
   ],
   "source": [
    "for letra in \"Pythozzzn e Rzzz!\":\n",
    "    if letra == \"z\":\n",
    "        continue\n",
    "    print(letra)"
   ]
  },
  {
   "cell_type": "markdown",
   "id": "cbff02f1",
   "metadata": {},
   "source": [
    "## While e for juntos\n",
    "\n",
    "Exemplo: Encontrar numeros primos (numero divisivel por 1 e ele mesmo)\n"
   ]
  },
  {
   "cell_type": "code",
   "execution_count": 18,
   "id": "0d0d9788",
   "metadata": {},
   "outputs": [
    {
     "name": "stdout",
     "output_type": "stream",
     "text": [
      "Wall time: 0 ns\n"
     ]
    },
    {
     "data": {
      "text/plain": [
       "[2, 3, 4, 5, 6, 7, 8, 9]"
      ]
     },
     "execution_count": 18,
     "metadata": {},
     "output_type": "execute_result"
    }
   ],
   "source": [
    "%%time\n",
    "\n",
    "primos = []\n",
    "\n",
    "for num in range(2,10):\n",
    "    \n",
    "    is_primo = True\n",
    "    \n",
    "    i = 2\n",
    "    \n",
    "    while i <= num // 2: ## // é o primeiro divisor inteiro\n",
    "        if num % i == 0:\n",
    "            eh_primo = False\n",
    "            break\n",
    "        i += 1\n",
    "        \n",
    "    if is_primo:\n",
    "        primos.append(num)\n",
    "\n",
    "primos"
   ]
  },
  {
   "cell_type": "markdown",
   "id": "095fe0ad",
   "metadata": {},
   "source": [
    "## Função Range\n",
    "\n",
    "A função `range()` é usada para gerar uma sequência de números inteiros dentro de um intervalo especificado. \n",
    "\n",
    "sintaxe: \n",
    "\n",
    "\n",
    "`range(inicio, fim, passo)`\n",
    "\n",
    "Onde:\n",
    "- `inicio` é o valor inicial da sequência (opcional, padrão é 0).\n",
    "- `fim` é o limite superior (exclusivo) da sequência.\n",
    "- `passo` é o incremento entre os números (opcional, padrão é 1).\n",
    "\n"
   ]
  },
  {
   "cell_type": "code",
   "execution_count": 22,
   "id": "e206d2bb",
   "metadata": {},
   "outputs": [
    {
     "name": "stdout",
     "output_type": "stream",
     "text": [
      "50\n",
      "51\n",
      "52\n",
      "53\n",
      "54\n",
      "55\n",
      "56\n",
      "57\n",
      "58\n",
      "59\n",
      "60\n",
      "61\n",
      "62\n",
      "63\n",
      "64\n",
      "65\n",
      "66\n",
      "67\n",
      "68\n",
      "69\n",
      "70\n",
      "71\n",
      "72\n",
      "73\n",
      "74\n",
      "75\n",
      "76\n",
      "77\n",
      "78\n",
      "79\n",
      "80\n",
      "81\n",
      "82\n",
      "83\n",
      "84\n",
      "85\n",
      "86\n",
      "87\n",
      "88\n",
      "89\n",
      "90\n",
      "91\n",
      "92\n",
      "93\n",
      "94\n",
      "95\n",
      "96\n",
      "97\n",
      "98\n",
      "99\n",
      "100\n"
     ]
    }
   ],
   "source": [
    "for i in range(50,101):\n",
    "    print(i)"
   ]
  },
  {
   "cell_type": "code",
   "execution_count": 23,
   "id": "3c76e469",
   "metadata": {},
   "outputs": [
    {
     "name": "stdout",
     "output_type": "stream",
     "text": [
      "0\n",
      "-2\n",
      "-4\n",
      "-6\n",
      "-8\n",
      "-10\n",
      "-12\n",
      "-14\n",
      "-16\n",
      "-18\n"
     ]
    }
   ],
   "source": [
    "for i in range(0, -20, -2):\n",
    "    print(i)"
   ]
  }
 ],
 "metadata": {
  "kernelspec": {
   "display_name": "Python 3 (ipykernel)",
   "language": "python",
   "name": "python3"
  },
  "language_info": {
   "codemirror_mode": {
    "name": "ipython",
    "version": 3
   },
   "file_extension": ".py",
   "mimetype": "text/x-python",
   "name": "python",
   "nbconvert_exporter": "python",
   "pygments_lexer": "ipython3",
   "version": "3.9.13"
  }
 },
 "nbformat": 4,
 "nbformat_minor": 5
}
